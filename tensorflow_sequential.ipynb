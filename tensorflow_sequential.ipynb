{
 "cells": [
  {
   "cell_type": "code",
   "execution_count": null,
   "metadata": {
    "colab": {
     "base_uri": "https://localhost:8080/",
     "height": 124
    },
    "colab_type": "code",
    "executionInfo": {
     "elapsed": 22498,
     "status": "ok",
     "timestamp": 1587409455637,
     "user": {
      "displayName": "Juan Diego Pineda Jaramillo",
      "photoUrl": "https://lh3.googleusercontent.com/a-/AOh14GiWYv7duq_lZS9TY5-G5ClYSRrM1EIU3InpNXGOa0M=s64",
      "userId": "16360626039831995063"
     },
     "user_tz": 300
    },
    "id": "XF82I_do-aOR",
    "outputId": "31f079f3-066c-478b-e13d-4dc6998d7252"
   },
   "outputs": [],
   "source": [
    "# This cell will prompt you to connect this notebook with your google account.\n",
    "from google.colab import drive                                                                        \n",
    "drive.mount('/content/gdrive', force_remount=True)\n",
    "root_dir = \"/content/gdrive/My Drive/\"\n",
    "base_dir = root_dir + 'Docencia/art_JDPJ/en_proceso/deaths_runover/model/'"
   ]
  },
  {
   "cell_type": "markdown",
   "metadata": {
    "colab_type": "text",
    "id": "vy2IJxv7-Rr8"
   },
   "source": [
    "# Setup"
   ]
  },
  {
   "cell_type": "code",
   "execution_count": 1,
   "metadata": {
    "colab": {},
    "colab_type": "code",
    "id": "GooXDTUN-Rr_"
   },
   "outputs": [
    {
     "name": "stdout",
     "output_type": "stream",
     "text": [
      "Libraries read!\n"
     ]
    }
   ],
   "source": [
    "import tensorflow as tf\n",
    "from tensorflow import keras\n",
    "\n",
    "\n",
    "import os\n",
    "import tempfile\n",
    "\n",
    "import matplotlib as mpl\n",
    "import matplotlib.pyplot as plt\n",
    "import numpy as np\n",
    "import pandas as pd\n",
    "import seaborn as sns\n",
    "\n",
    "import sklearn\n",
    "from sklearn.metrics import confusion_matrix\n",
    "from sklearn.model_selection import train_test_split\n",
    "from sklearn.preprocessing import StandardScaler\n",
    "\n",
    "\n",
    "mpl.rcParams['figure.figsize'] = (12, 10)\n",
    "colors = plt.rcParams['axes.prop_cycle'].by_key()['color']\n",
    "\n",
    "print('Libraries read!')\n"
   ]
  },
  {
   "cell_type": "markdown",
   "metadata": {
    "colab_type": "text",
    "id": "HD_A7pcR-RsS"
   },
   "source": [
    "# Data processing and exploration"
   ]
  },
  {
   "cell_type": "code",
   "execution_count": 2,
   "metadata": {
    "colab": {
     "base_uri": "https://localhost:8080/",
     "height": 226
    },
    "colab_type": "code",
    "executionInfo": {
     "elapsed": 885,
     "status": "ok",
     "timestamp": 1587414875028,
     "user": {
      "displayName": "Juan Diego Pineda Jaramillo",
      "photoUrl": "https://lh3.googleusercontent.com/a-/AOh14GiWYv7duq_lZS9TY5-G5ClYSRrM1EIU3InpNXGOa0M=s64",
      "userId": "16360626039831995063"
     },
     "user_tz": 300
    },
    "id": "SxUieOGC-Rsk",
    "outputId": "bfdb51f6-7eb0-4dcf-cb32-1622d69d40e3"
   },
   "outputs": [
    {
     "data": {
      "text/html": [
       "<div>\n",
       "<style scoped>\n",
       "    .dataframe tbody tr th:only-of-type {\n",
       "        vertical-align: middle;\n",
       "    }\n",
       "\n",
       "    .dataframe tbody tr th {\n",
       "        vertical-align: top;\n",
       "    }\n",
       "\n",
       "    .dataframe thead th {\n",
       "        text-align: right;\n",
       "    }\n",
       "</style>\n",
       "<table border=\"1\" class=\"dataframe\">\n",
       "  <thead>\n",
       "    <tr style=\"text-align: right;\">\n",
       "      <th></th>\n",
       "      <th>type_road_intersection</th>\n",
       "      <th>type_road_land_lot</th>\n",
       "      <th>type_road_other</th>\n",
       "      <th>type_road_track_section</th>\n",
       "      <th>climate_wet</th>\n",
       "      <th>weekend_yes</th>\n",
       "      <th>night_yes</th>\n",
       "      <th>street_use_one_way</th>\n",
       "      <th>street_use_other</th>\n",
       "      <th>street_use_two_ways</th>\n",
       "      <th>...</th>\n",
       "      <th>traffic_light_bad</th>\n",
       "      <th>vertical_signals_bad</th>\n",
       "      <th>horizontal_signals_bad</th>\n",
       "      <th>visibility_bad</th>\n",
       "      <th>type_vehicle_car</th>\n",
       "      <th>type_vehicle_motorcycle</th>\n",
       "      <th>type_vehicle_other</th>\n",
       "      <th>month_dry_no</th>\n",
       "      <th>humidity_road_other</th>\n",
       "      <th>severity</th>\n",
       "    </tr>\n",
       "  </thead>\n",
       "  <tbody>\n",
       "    <tr>\n",
       "      <td>0</td>\n",
       "      <td>0</td>\n",
       "      <td>0</td>\n",
       "      <td>0</td>\n",
       "      <td>1</td>\n",
       "      <td>0</td>\n",
       "      <td>0</td>\n",
       "      <td>1</td>\n",
       "      <td>0</td>\n",
       "      <td>0</td>\n",
       "      <td>1</td>\n",
       "      <td>...</td>\n",
       "      <td>0</td>\n",
       "      <td>0</td>\n",
       "      <td>0</td>\n",
       "      <td>1</td>\n",
       "      <td>1</td>\n",
       "      <td>0</td>\n",
       "      <td>0</td>\n",
       "      <td>0</td>\n",
       "      <td>0</td>\n",
       "      <td>False</td>\n",
       "    </tr>\n",
       "    <tr>\n",
       "      <td>1</td>\n",
       "      <td>0</td>\n",
       "      <td>0</td>\n",
       "      <td>0</td>\n",
       "      <td>1</td>\n",
       "      <td>0</td>\n",
       "      <td>1</td>\n",
       "      <td>0</td>\n",
       "      <td>1</td>\n",
       "      <td>0</td>\n",
       "      <td>0</td>\n",
       "      <td>...</td>\n",
       "      <td>0</td>\n",
       "      <td>0</td>\n",
       "      <td>0</td>\n",
       "      <td>1</td>\n",
       "      <td>0</td>\n",
       "      <td>1</td>\n",
       "      <td>0</td>\n",
       "      <td>1</td>\n",
       "      <td>0</td>\n",
       "      <td>False</td>\n",
       "    </tr>\n",
       "    <tr>\n",
       "      <td>2</td>\n",
       "      <td>0</td>\n",
       "      <td>0</td>\n",
       "      <td>0</td>\n",
       "      <td>1</td>\n",
       "      <td>0</td>\n",
       "      <td>1</td>\n",
       "      <td>0</td>\n",
       "      <td>0</td>\n",
       "      <td>0</td>\n",
       "      <td>1</td>\n",
       "      <td>...</td>\n",
       "      <td>0</td>\n",
       "      <td>0</td>\n",
       "      <td>0</td>\n",
       "      <td>1</td>\n",
       "      <td>0</td>\n",
       "      <td>0</td>\n",
       "      <td>1</td>\n",
       "      <td>0</td>\n",
       "      <td>0</td>\n",
       "      <td>False</td>\n",
       "    </tr>\n",
       "    <tr>\n",
       "      <td>3</td>\n",
       "      <td>0</td>\n",
       "      <td>0</td>\n",
       "      <td>0</td>\n",
       "      <td>1</td>\n",
       "      <td>0</td>\n",
       "      <td>1</td>\n",
       "      <td>0</td>\n",
       "      <td>1</td>\n",
       "      <td>0</td>\n",
       "      <td>0</td>\n",
       "      <td>...</td>\n",
       "      <td>0</td>\n",
       "      <td>0</td>\n",
       "      <td>0</td>\n",
       "      <td>1</td>\n",
       "      <td>0</td>\n",
       "      <td>1</td>\n",
       "      <td>0</td>\n",
       "      <td>1</td>\n",
       "      <td>0</td>\n",
       "      <td>False</td>\n",
       "    </tr>\n",
       "    <tr>\n",
       "      <td>4</td>\n",
       "      <td>0</td>\n",
       "      <td>0</td>\n",
       "      <td>0</td>\n",
       "      <td>1</td>\n",
       "      <td>0</td>\n",
       "      <td>0</td>\n",
       "      <td>1</td>\n",
       "      <td>1</td>\n",
       "      <td>0</td>\n",
       "      <td>0</td>\n",
       "      <td>...</td>\n",
       "      <td>0</td>\n",
       "      <td>0</td>\n",
       "      <td>0</td>\n",
       "      <td>1</td>\n",
       "      <td>0</td>\n",
       "      <td>1</td>\n",
       "      <td>0</td>\n",
       "      <td>1</td>\n",
       "      <td>0</td>\n",
       "      <td>False</td>\n",
       "    </tr>\n",
       "  </tbody>\n",
       "</table>\n",
       "<p>5 rows × 29 columns</p>\n",
       "</div>"
      ],
      "text/plain": [
       "   type_road_intersection  type_road_land_lot  type_road_other  \\\n",
       "0                       0                   0                0   \n",
       "1                       0                   0                0   \n",
       "2                       0                   0                0   \n",
       "3                       0                   0                0   \n",
       "4                       0                   0                0   \n",
       "\n",
       "   type_road_track_section  climate_wet  weekend_yes  night_yes  \\\n",
       "0                        1            0            0          1   \n",
       "1                        1            0            1          0   \n",
       "2                        1            0            1          0   \n",
       "3                        1            0            1          0   \n",
       "4                        1            0            0          1   \n",
       "\n",
       "   street_use_one_way  street_use_other  street_use_two_ways  ...  \\\n",
       "0                   0                 0                    1  ...   \n",
       "1                   1                 0                    0  ...   \n",
       "2                   0                 0                    1  ...   \n",
       "3                   1                 0                    0  ...   \n",
       "4                   1                 0                    0  ...   \n",
       "\n",
       "   traffic_light_bad  vertical_signals_bad  horizontal_signals_bad  \\\n",
       "0                  0                     0                       0   \n",
       "1                  0                     0                       0   \n",
       "2                  0                     0                       0   \n",
       "3                  0                     0                       0   \n",
       "4                  0                     0                       0   \n",
       "\n",
       "   visibility_bad  type_vehicle_car  type_vehicle_motorcycle  \\\n",
       "0               1                 1                        0   \n",
       "1               1                 0                        1   \n",
       "2               1                 0                        0   \n",
       "3               1                 0                        1   \n",
       "4               1                 0                        1   \n",
       "\n",
       "   type_vehicle_other  month_dry_no  humidity_road_other  severity  \n",
       "0                   0             0                    0     False  \n",
       "1                   0             1                    0     False  \n",
       "2                   1             0                    0     False  \n",
       "3                   0             1                    0     False  \n",
       "4                   0             1                    0     False  \n",
       "\n",
       "[5 rows x 29 columns]"
      ]
     },
     "execution_count": 2,
     "metadata": {},
     "output_type": "execute_result"
    }
   ],
   "source": [
    "file = tf.keras.utils\n",
    "raw_df = pd.read_csv('processed_df_run_over_onehot.csv').iloc[:,1:]\n",
    "raw_df.head()\n"
   ]
  },
  {
   "cell_type": "code",
   "execution_count": 3,
   "metadata": {
    "colab": {
     "base_uri": "https://localhost:8080/",
     "height": 34
    },
    "colab_type": "code",
    "executionInfo": {
     "elapsed": 586,
     "status": "ok",
     "timestamp": 1587414876357,
     "user": {
      "displayName": "Juan Diego Pineda Jaramillo",
      "photoUrl": "https://lh3.googleusercontent.com/a-/AOh14GiWYv7duq_lZS9TY5-G5ClYSRrM1EIU3InpNXGOa0M=s64",
      "userId": "16360626039831995063"
     },
     "user_tz": 300
    },
    "id": "0WQv_bjz-Rsz",
    "outputId": "f1d87112-73cc-43e3-95f8-c6b5835d2773"
   },
   "outputs": [
    {
     "data": {
      "text/plain": [
       "(33479, 29)"
      ]
     },
     "execution_count": 3,
     "metadata": {},
     "output_type": "execute_result"
    }
   ],
   "source": [
    "raw_df.shape"
   ]
  },
  {
   "cell_type": "code",
   "execution_count": 4,
   "metadata": {
    "colab": {
     "base_uri": "https://localhost:8080/",
     "height": 538
    },
    "colab_type": "code",
    "executionInfo": {
     "elapsed": 798,
     "status": "ok",
     "timestamp": 1587414890123,
     "user": {
      "displayName": "Juan Diego Pineda Jaramillo",
      "photoUrl": "https://lh3.googleusercontent.com/a-/AOh14GiWYv7duq_lZS9TY5-G5ClYSRrM1EIU3InpNXGOa0M=s64",
      "userId": "16360626039831995063"
     },
     "user_tz": 300
    },
    "id": "0M2Ua11L-RtG",
    "outputId": "9422768a-c59d-4730-85ae-e4854932e30b"
   },
   "outputs": [
    {
     "data": {
      "text/plain": [
       "type_road_intersection     int64\n",
       "type_road_land_lot         int64\n",
       "type_road_other            int64\n",
       "type_road_track_section    int64\n",
       "climate_wet                int64\n",
       "weekend_yes                int64\n",
       "night_yes                  int64\n",
       "street_use_one_way         int64\n",
       "street_use_other           int64\n",
       "street_use_two_ways        int64\n",
       "number_roads_one_road      int64\n",
       "number_roads_other         int64\n",
       "number_roads_two_roads     int64\n",
       "number_lanes_one_lane      int64\n",
       "number_lanes_other         int64\n",
       "number_lanes_two_lanes     int64\n",
       "rolling_surface_other      int64\n",
       "status_road_bad            int64\n",
       "illumination_bad           int64\n",
       "traffic_light_bad          int64\n",
       "vertical_signals_bad       int64\n",
       "horizontal_signals_bad     int64\n",
       "visibility_bad             int64\n",
       "type_vehicle_car           int64\n",
       "type_vehicle_motorcycle    int64\n",
       "type_vehicle_other         int64\n",
       "month_dry_no               int64\n",
       "humidity_road_other        int64\n",
       "severity                    bool\n",
       "dtype: object"
      ]
     },
     "execution_count": 4,
     "metadata": {},
     "output_type": "execute_result"
    }
   ],
   "source": [
    "raw_df.dtypes"
   ]
  },
  {
   "cell_type": "code",
   "execution_count": 5,
   "metadata": {
    "colab": {
     "base_uri": "https://localhost:8080/",
     "height": 415
    },
    "colab_type": "code",
    "executionInfo": {
     "elapsed": 654,
     "status": "ok",
     "timestamp": 1587414899486,
     "user": {
      "displayName": "Juan Diego Pineda Jaramillo",
      "photoUrl": "https://lh3.googleusercontent.com/a-/AOh14GiWYv7duq_lZS9TY5-G5ClYSRrM1EIU3InpNXGOa0M=s64",
      "userId": "16360626039831995063"
     },
     "user_tz": 300
    },
    "id": "wTZ5SqVN-RtT",
    "outputId": "ce61554d-4b41-40f5-d43f-7589adca94a1"
   },
   "outputs": [
    {
     "data": {
      "text/html": [
       "<div>\n",
       "<style scoped>\n",
       "    .dataframe tbody tr th:only-of-type {\n",
       "        vertical-align: middle;\n",
       "    }\n",
       "\n",
       "    .dataframe tbody tr th {\n",
       "        vertical-align: top;\n",
       "    }\n",
       "\n",
       "    .dataframe thead th {\n",
       "        text-align: right;\n",
       "    }\n",
       "</style>\n",
       "<table border=\"1\" class=\"dataframe\">\n",
       "  <thead>\n",
       "    <tr style=\"text-align: right;\">\n",
       "      <th></th>\n",
       "      <th>type_road_intersection</th>\n",
       "      <th>type_road_land_lot</th>\n",
       "      <th>type_road_other</th>\n",
       "      <th>type_road_track_section</th>\n",
       "      <th>climate_wet</th>\n",
       "      <th>weekend_yes</th>\n",
       "      <th>night_yes</th>\n",
       "      <th>street_use_one_way</th>\n",
       "      <th>street_use_other</th>\n",
       "      <th>street_use_two_ways</th>\n",
       "      <th>...</th>\n",
       "      <th>traffic_light_bad</th>\n",
       "      <th>vertical_signals_bad</th>\n",
       "      <th>horizontal_signals_bad</th>\n",
       "      <th>visibility_bad</th>\n",
       "      <th>type_vehicle_car</th>\n",
       "      <th>type_vehicle_motorcycle</th>\n",
       "      <th>type_vehicle_other</th>\n",
       "      <th>month_dry_no</th>\n",
       "      <th>humidity_road_other</th>\n",
       "      <th>severity</th>\n",
       "    </tr>\n",
       "  </thead>\n",
       "  <tbody>\n",
       "    <tr>\n",
       "      <td>count</td>\n",
       "      <td>33479.000000</td>\n",
       "      <td>33479.000000</td>\n",
       "      <td>33479.000000</td>\n",
       "      <td>33479.000000</td>\n",
       "      <td>33479.000000</td>\n",
       "      <td>33479.000000</td>\n",
       "      <td>33479.000000</td>\n",
       "      <td>33479.000000</td>\n",
       "      <td>33479.000000</td>\n",
       "      <td>33479.000000</td>\n",
       "      <td>...</td>\n",
       "      <td>33479.000000</td>\n",
       "      <td>33479.000000</td>\n",
       "      <td>33479.000000</td>\n",
       "      <td>33479.000000</td>\n",
       "      <td>33479.000000</td>\n",
       "      <td>33479.000000</td>\n",
       "      <td>33479.000000</td>\n",
       "      <td>33479.000000</td>\n",
       "      <td>33479.000000</td>\n",
       "      <td>33479</td>\n",
       "    </tr>\n",
       "    <tr>\n",
       "      <td>unique</td>\n",
       "      <td>NaN</td>\n",
       "      <td>NaN</td>\n",
       "      <td>NaN</td>\n",
       "      <td>NaN</td>\n",
       "      <td>NaN</td>\n",
       "      <td>NaN</td>\n",
       "      <td>NaN</td>\n",
       "      <td>NaN</td>\n",
       "      <td>NaN</td>\n",
       "      <td>NaN</td>\n",
       "      <td>...</td>\n",
       "      <td>NaN</td>\n",
       "      <td>NaN</td>\n",
       "      <td>NaN</td>\n",
       "      <td>NaN</td>\n",
       "      <td>NaN</td>\n",
       "      <td>NaN</td>\n",
       "      <td>NaN</td>\n",
       "      <td>NaN</td>\n",
       "      <td>NaN</td>\n",
       "      <td>2</td>\n",
       "    </tr>\n",
       "    <tr>\n",
       "      <td>top</td>\n",
       "      <td>NaN</td>\n",
       "      <td>NaN</td>\n",
       "      <td>NaN</td>\n",
       "      <td>NaN</td>\n",
       "      <td>NaN</td>\n",
       "      <td>NaN</td>\n",
       "      <td>NaN</td>\n",
       "      <td>NaN</td>\n",
       "      <td>NaN</td>\n",
       "      <td>NaN</td>\n",
       "      <td>...</td>\n",
       "      <td>NaN</td>\n",
       "      <td>NaN</td>\n",
       "      <td>NaN</td>\n",
       "      <td>NaN</td>\n",
       "      <td>NaN</td>\n",
       "      <td>NaN</td>\n",
       "      <td>NaN</td>\n",
       "      <td>NaN</td>\n",
       "      <td>NaN</td>\n",
       "      <td>False</td>\n",
       "    </tr>\n",
       "    <tr>\n",
       "      <td>freq</td>\n",
       "      <td>NaN</td>\n",
       "      <td>NaN</td>\n",
       "      <td>NaN</td>\n",
       "      <td>NaN</td>\n",
       "      <td>NaN</td>\n",
       "      <td>NaN</td>\n",
       "      <td>NaN</td>\n",
       "      <td>NaN</td>\n",
       "      <td>NaN</td>\n",
       "      <td>NaN</td>\n",
       "      <td>...</td>\n",
       "      <td>NaN</td>\n",
       "      <td>NaN</td>\n",
       "      <td>NaN</td>\n",
       "      <td>NaN</td>\n",
       "      <td>NaN</td>\n",
       "      <td>NaN</td>\n",
       "      <td>NaN</td>\n",
       "      <td>NaN</td>\n",
       "      <td>NaN</td>\n",
       "      <td>33090</td>\n",
       "    </tr>\n",
       "    <tr>\n",
       "      <td>mean</td>\n",
       "      <td>0.068102</td>\n",
       "      <td>0.054273</td>\n",
       "      <td>0.008304</td>\n",
       "      <td>0.869321</td>\n",
       "      <td>0.034230</td>\n",
       "      <td>0.306192</td>\n",
       "      <td>0.291078</td>\n",
       "      <td>0.627737</td>\n",
       "      <td>0.015950</td>\n",
       "      <td>0.356313</td>\n",
       "      <td>...</td>\n",
       "      <td>0.004839</td>\n",
       "      <td>0.070522</td>\n",
       "      <td>0.057768</td>\n",
       "      <td>0.956928</td>\n",
       "      <td>0.313420</td>\n",
       "      <td>0.572538</td>\n",
       "      <td>0.114042</td>\n",
       "      <td>0.839661</td>\n",
       "      <td>0.041339</td>\n",
       "      <td>NaN</td>\n",
       "    </tr>\n",
       "    <tr>\n",
       "      <td>std</td>\n",
       "      <td>0.251925</td>\n",
       "      <td>0.226559</td>\n",
       "      <td>0.090747</td>\n",
       "      <td>0.337054</td>\n",
       "      <td>0.181823</td>\n",
       "      <td>0.460917</td>\n",
       "      <td>0.454266</td>\n",
       "      <td>0.483415</td>\n",
       "      <td>0.125285</td>\n",
       "      <td>0.478916</td>\n",
       "      <td>...</td>\n",
       "      <td>0.069394</td>\n",
       "      <td>0.256028</td>\n",
       "      <td>0.233307</td>\n",
       "      <td>0.203022</td>\n",
       "      <td>0.463891</td>\n",
       "      <td>0.494718</td>\n",
       "      <td>0.317867</td>\n",
       "      <td>0.366926</td>\n",
       "      <td>0.199077</td>\n",
       "      <td>NaN</td>\n",
       "    </tr>\n",
       "    <tr>\n",
       "      <td>min</td>\n",
       "      <td>0.000000</td>\n",
       "      <td>0.000000</td>\n",
       "      <td>0.000000</td>\n",
       "      <td>0.000000</td>\n",
       "      <td>0.000000</td>\n",
       "      <td>0.000000</td>\n",
       "      <td>0.000000</td>\n",
       "      <td>0.000000</td>\n",
       "      <td>0.000000</td>\n",
       "      <td>0.000000</td>\n",
       "      <td>...</td>\n",
       "      <td>0.000000</td>\n",
       "      <td>0.000000</td>\n",
       "      <td>0.000000</td>\n",
       "      <td>0.000000</td>\n",
       "      <td>0.000000</td>\n",
       "      <td>0.000000</td>\n",
       "      <td>0.000000</td>\n",
       "      <td>0.000000</td>\n",
       "      <td>0.000000</td>\n",
       "      <td>NaN</td>\n",
       "    </tr>\n",
       "    <tr>\n",
       "      <td>25%</td>\n",
       "      <td>0.000000</td>\n",
       "      <td>0.000000</td>\n",
       "      <td>0.000000</td>\n",
       "      <td>1.000000</td>\n",
       "      <td>0.000000</td>\n",
       "      <td>0.000000</td>\n",
       "      <td>0.000000</td>\n",
       "      <td>0.000000</td>\n",
       "      <td>0.000000</td>\n",
       "      <td>0.000000</td>\n",
       "      <td>...</td>\n",
       "      <td>0.000000</td>\n",
       "      <td>0.000000</td>\n",
       "      <td>0.000000</td>\n",
       "      <td>1.000000</td>\n",
       "      <td>0.000000</td>\n",
       "      <td>0.000000</td>\n",
       "      <td>0.000000</td>\n",
       "      <td>1.000000</td>\n",
       "      <td>0.000000</td>\n",
       "      <td>NaN</td>\n",
       "    </tr>\n",
       "    <tr>\n",
       "      <td>50%</td>\n",
       "      <td>0.000000</td>\n",
       "      <td>0.000000</td>\n",
       "      <td>0.000000</td>\n",
       "      <td>1.000000</td>\n",
       "      <td>0.000000</td>\n",
       "      <td>0.000000</td>\n",
       "      <td>0.000000</td>\n",
       "      <td>1.000000</td>\n",
       "      <td>0.000000</td>\n",
       "      <td>0.000000</td>\n",
       "      <td>...</td>\n",
       "      <td>0.000000</td>\n",
       "      <td>0.000000</td>\n",
       "      <td>0.000000</td>\n",
       "      <td>1.000000</td>\n",
       "      <td>0.000000</td>\n",
       "      <td>1.000000</td>\n",
       "      <td>0.000000</td>\n",
       "      <td>1.000000</td>\n",
       "      <td>0.000000</td>\n",
       "      <td>NaN</td>\n",
       "    </tr>\n",
       "    <tr>\n",
       "      <td>75%</td>\n",
       "      <td>0.000000</td>\n",
       "      <td>0.000000</td>\n",
       "      <td>0.000000</td>\n",
       "      <td>1.000000</td>\n",
       "      <td>0.000000</td>\n",
       "      <td>1.000000</td>\n",
       "      <td>1.000000</td>\n",
       "      <td>1.000000</td>\n",
       "      <td>0.000000</td>\n",
       "      <td>1.000000</td>\n",
       "      <td>...</td>\n",
       "      <td>0.000000</td>\n",
       "      <td>0.000000</td>\n",
       "      <td>0.000000</td>\n",
       "      <td>1.000000</td>\n",
       "      <td>1.000000</td>\n",
       "      <td>1.000000</td>\n",
       "      <td>0.000000</td>\n",
       "      <td>1.000000</td>\n",
       "      <td>0.000000</td>\n",
       "      <td>NaN</td>\n",
       "    </tr>\n",
       "    <tr>\n",
       "      <td>max</td>\n",
       "      <td>1.000000</td>\n",
       "      <td>1.000000</td>\n",
       "      <td>1.000000</td>\n",
       "      <td>1.000000</td>\n",
       "      <td>1.000000</td>\n",
       "      <td>1.000000</td>\n",
       "      <td>1.000000</td>\n",
       "      <td>1.000000</td>\n",
       "      <td>1.000000</td>\n",
       "      <td>1.000000</td>\n",
       "      <td>...</td>\n",
       "      <td>1.000000</td>\n",
       "      <td>1.000000</td>\n",
       "      <td>1.000000</td>\n",
       "      <td>1.000000</td>\n",
       "      <td>1.000000</td>\n",
       "      <td>1.000000</td>\n",
       "      <td>1.000000</td>\n",
       "      <td>1.000000</td>\n",
       "      <td>1.000000</td>\n",
       "      <td>NaN</td>\n",
       "    </tr>\n",
       "  </tbody>\n",
       "</table>\n",
       "<p>11 rows × 29 columns</p>\n",
       "</div>"
      ],
      "text/plain": [
       "        type_road_intersection  type_road_land_lot  type_road_other  \\\n",
       "count             33479.000000        33479.000000     33479.000000   \n",
       "unique                     NaN                 NaN              NaN   \n",
       "top                        NaN                 NaN              NaN   \n",
       "freq                       NaN                 NaN              NaN   \n",
       "mean                  0.068102            0.054273         0.008304   \n",
       "std                   0.251925            0.226559         0.090747   \n",
       "min                   0.000000            0.000000         0.000000   \n",
       "25%                   0.000000            0.000000         0.000000   \n",
       "50%                   0.000000            0.000000         0.000000   \n",
       "75%                   0.000000            0.000000         0.000000   \n",
       "max                   1.000000            1.000000         1.000000   \n",
       "\n",
       "        type_road_track_section   climate_wet   weekend_yes     night_yes  \\\n",
       "count              33479.000000  33479.000000  33479.000000  33479.000000   \n",
       "unique                      NaN           NaN           NaN           NaN   \n",
       "top                         NaN           NaN           NaN           NaN   \n",
       "freq                        NaN           NaN           NaN           NaN   \n",
       "mean                   0.869321      0.034230      0.306192      0.291078   \n",
       "std                    0.337054      0.181823      0.460917      0.454266   \n",
       "min                    0.000000      0.000000      0.000000      0.000000   \n",
       "25%                    1.000000      0.000000      0.000000      0.000000   \n",
       "50%                    1.000000      0.000000      0.000000      0.000000   \n",
       "75%                    1.000000      0.000000      1.000000      1.000000   \n",
       "max                    1.000000      1.000000      1.000000      1.000000   \n",
       "\n",
       "        street_use_one_way  street_use_other  street_use_two_ways  ...  \\\n",
       "count         33479.000000      33479.000000         33479.000000  ...   \n",
       "unique                 NaN               NaN                  NaN  ...   \n",
       "top                    NaN               NaN                  NaN  ...   \n",
       "freq                   NaN               NaN                  NaN  ...   \n",
       "mean              0.627737          0.015950             0.356313  ...   \n",
       "std               0.483415          0.125285             0.478916  ...   \n",
       "min               0.000000          0.000000             0.000000  ...   \n",
       "25%               0.000000          0.000000             0.000000  ...   \n",
       "50%               1.000000          0.000000             0.000000  ...   \n",
       "75%               1.000000          0.000000             1.000000  ...   \n",
       "max               1.000000          1.000000             1.000000  ...   \n",
       "\n",
       "        traffic_light_bad  vertical_signals_bad  horizontal_signals_bad  \\\n",
       "count        33479.000000          33479.000000            33479.000000   \n",
       "unique                NaN                   NaN                     NaN   \n",
       "top                   NaN                   NaN                     NaN   \n",
       "freq                  NaN                   NaN                     NaN   \n",
       "mean             0.004839              0.070522                0.057768   \n",
       "std              0.069394              0.256028                0.233307   \n",
       "min              0.000000              0.000000                0.000000   \n",
       "25%              0.000000              0.000000                0.000000   \n",
       "50%              0.000000              0.000000                0.000000   \n",
       "75%              0.000000              0.000000                0.000000   \n",
       "max              1.000000              1.000000                1.000000   \n",
       "\n",
       "        visibility_bad  type_vehicle_car  type_vehicle_motorcycle  \\\n",
       "count     33479.000000      33479.000000             33479.000000   \n",
       "unique             NaN               NaN                      NaN   \n",
       "top                NaN               NaN                      NaN   \n",
       "freq               NaN               NaN                      NaN   \n",
       "mean          0.956928          0.313420                 0.572538   \n",
       "std           0.203022          0.463891                 0.494718   \n",
       "min           0.000000          0.000000                 0.000000   \n",
       "25%           1.000000          0.000000                 0.000000   \n",
       "50%           1.000000          0.000000                 1.000000   \n",
       "75%           1.000000          1.000000                 1.000000   \n",
       "max           1.000000          1.000000                 1.000000   \n",
       "\n",
       "        type_vehicle_other  month_dry_no  humidity_road_other  severity  \n",
       "count         33479.000000  33479.000000         33479.000000     33479  \n",
       "unique                 NaN           NaN                  NaN         2  \n",
       "top                    NaN           NaN                  NaN     False  \n",
       "freq                   NaN           NaN                  NaN     33090  \n",
       "mean              0.114042      0.839661             0.041339       NaN  \n",
       "std               0.317867      0.366926             0.199077       NaN  \n",
       "min               0.000000      0.000000             0.000000       NaN  \n",
       "25%               0.000000      1.000000             0.000000       NaN  \n",
       "50%               0.000000      1.000000             0.000000       NaN  \n",
       "75%               0.000000      1.000000             0.000000       NaN  \n",
       "max               1.000000      1.000000             1.000000       NaN  \n",
       "\n",
       "[11 rows x 29 columns]"
      ]
     },
     "execution_count": 5,
     "metadata": {},
     "output_type": "execute_result"
    }
   ],
   "source": [
    "raw_df.describe(include='all')\n"
   ]
  },
  {
   "cell_type": "markdown",
   "metadata": {
    "colab_type": "text",
    "id": "Z9yReN_A-Rtg"
   },
   "source": [
    "# Examine the class label imbalance"
   ]
  },
  {
   "cell_type": "markdown",
   "metadata": {
    "colab_type": "text",
    "id": "AHmEFzpe-Rtj"
   },
   "source": [
    "## Let's look at the dataset imbalance:"
   ]
  },
  {
   "cell_type": "code",
   "execution_count": 6,
   "metadata": {
    "colab": {
     "base_uri": "https://localhost:8080/",
     "height": 86
    },
    "colab_type": "code",
    "executionInfo": {
     "elapsed": 845,
     "status": "ok",
     "timestamp": 1587414935654,
     "user": {
      "displayName": "Juan Diego Pineda Jaramillo",
      "photoUrl": "https://lh3.googleusercontent.com/a-/AOh14GiWYv7duq_lZS9TY5-G5ClYSRrM1EIU3InpNXGOa0M=s64",
      "userId": "16360626039831995063"
     },
     "user_tz": 300
    },
    "id": "v_6blzbi-Rtl",
    "outputId": "3e98f23c-9361-4948-db75-3bc694d5841d"
   },
   "outputs": [
    {
     "name": "stdout",
     "output_type": "stream",
     "text": [
      "Examples:\n",
      "    Total: 33479\n",
      "    Positive: 389 (1.16% of total)\n",
      "\n"
     ]
    }
   ],
   "source": [
    "neg, pos = np.bincount(raw_df['severity'])\n",
    "total = neg + pos\n",
    "print('Examples:\\n    Total: {}\\n    Positive: {} ({:.2f}% of total)\\n'.format(\n",
    "    total, pos, 100 * pos / total))\n"
   ]
  },
  {
   "cell_type": "markdown",
   "metadata": {
    "colab_type": "text",
    "id": "9iZOMG-l-Rts"
   },
   "source": [
    "This shows the \"small\" fraction of positive samples (serious_accidents)."
   ]
  },
  {
   "cell_type": "markdown",
   "metadata": {
    "colab_type": "text",
    "id": "_Tbyqatc-Rtt"
   },
   "source": [
    "# Split and normalize the data"
   ]
  },
  {
   "cell_type": "markdown",
   "metadata": {
    "colab_type": "text",
    "id": "QgTghDrH-Rtw"
   },
   "source": [
    "Split the dataset into train, validation, and test sets. The validation set is used during the model fitting to evaluate the loss and any metrics, however the model is not fit with this data. The test set is completely unused during the training phase and is only used at the end to evaluate how well the model generalizes to new data. This is especially important with imbalanced datasets where overfitting is a significant concern from the lack of training data."
   ]
  },
  {
   "cell_type": "code",
   "execution_count": 7,
   "metadata": {
    "colab": {},
    "colab_type": "code",
    "id": "lGrA1zDw-Rty"
   },
   "outputs": [],
   "source": [
    "cleaned_df = raw_df.copy()"
   ]
  },
  {
   "cell_type": "code",
   "execution_count": 8,
   "metadata": {
    "colab": {},
    "colab_type": "code",
    "id": "LFkGMLbZ-Rt8"
   },
   "outputs": [],
   "source": [
    "# Use a utility from sklearn to split and shuffle our dataset.\n",
    "train_df, test_df = train_test_split(cleaned_df, test_size=0.2, stratify=cleaned_df['severity'])\n",
    "train_df, val_df = train_test_split(train_df, test_size=0.2, stratify=train_df['severity'])\n",
    "\n",
    "# Form np arrays of labels and features.\n",
    "train_labels = np.array(train_df.pop('severity'))\n",
    "bool_train_labels = train_labels != 0\n",
    "val_labels = np.array(val_df.pop('severity'))\n",
    "test_labels = np.array(test_df.pop('severity'))\n",
    "\n",
    "train_features = np.array(train_df)\n",
    "val_features = np.array(val_df)\n",
    "test_features = np.array(test_df)\n"
   ]
  },
  {
   "cell_type": "markdown",
   "metadata": {
    "colab_type": "text",
    "id": "yCgBrYLz-RuF"
   },
   "source": [
    "Normalize the input features using the sklearn StandardScaler. This will set the mean to 0 and standard deviation to 1.\n",
    "\n",
    "**Note:** The StandardScaler is only fit using the train_features to be sure the model is not peeking at the validation or test sets. "
   ]
  },
  {
   "cell_type": "code",
   "execution_count": 9,
   "metadata": {
    "colab": {
     "base_uri": "https://localhost:8080/",
     "height": 121
    },
    "colab_type": "code",
    "executionInfo": {
     "elapsed": 750,
     "status": "ok",
     "timestamp": 1587414970068,
     "user": {
      "displayName": "Juan Diego Pineda Jaramillo",
      "photoUrl": "https://lh3.googleusercontent.com/a-/AOh14GiWYv7duq_lZS9TY5-G5ClYSRrM1EIU3InpNXGOa0M=s64",
      "userId": "16360626039831995063"
     },
     "user_tz": 300
    },
    "id": "DXb0sXE9-RuH",
    "outputId": "62315ec7-02e9-4e6a-8702-b98ecad8c600"
   },
   "outputs": [
    {
     "name": "stdout",
     "output_type": "stream",
     "text": [
      "Training labels shape: (21426,)\n",
      "Validation labels shape: (5357,)\n",
      "Test labels shape: (6696,)\n",
      "Training features shape: (21426, 28)\n",
      "Validation features shape: (5357, 28)\n",
      "Test features shape: (6696, 28)\n"
     ]
    }
   ],
   "source": [
    "scaler = StandardScaler()\n",
    "train_features = scaler.fit_transform(train_features)\n",
    "\n",
    "val_features = scaler.transform(val_features)\n",
    "test_features = scaler.transform(test_features)\n",
    "\n",
    "train_features = np.clip(train_features, -5, 5)\n",
    "val_features = np.clip(val_features, -5, 5)\n",
    "test_features = np.clip(test_features, -5, 5)\n",
    "\n",
    "\n",
    "print('Training labels shape:', train_labels.shape)\n",
    "print('Validation labels shape:', val_labels.shape)\n",
    "print('Test labels shape:', test_labels.shape)\n",
    "\n",
    "print('Training features shape:', train_features.shape)\n",
    "print('Validation features shape:', val_features.shape)\n",
    "print('Test features shape:', test_features.shape)\n"
   ]
  },
  {
   "cell_type": "markdown",
   "metadata": {
    "colab_type": "text",
    "id": "TbH2d6NE-RuQ"
   },
   "source": [
    "Caution: If you want to deploy a model, it's critical that you preserve the preprocessing calculations. The easiest way to implement them as layers, and attach them to your model before export."
   ]
  },
  {
   "cell_type": "markdown",
   "metadata": {
    "colab_type": "text",
    "id": "lW4CV2UH-RuU"
   },
   "source": [
    "# Define the model and metrics"
   ]
  },
  {
   "cell_type": "markdown",
   "metadata": {
    "colab_type": "text",
    "id": "Gihga1Zu-RuX"
   },
   "source": [
    "Define a function that creates a simple neural network with a densly connected hidden layer, a dropout layer to reduce overfitting, and an output sigmoid layer that returns the probability of an accident being fatal: "
   ]
  },
  {
   "cell_type": "code",
   "execution_count": 80,
   "metadata": {
    "colab": {},
    "colab_type": "code",
    "id": "wIwO3sr--Rua"
   },
   "outputs": [],
   "source": [
    "METRICS = [\n",
    "      keras.metrics.TruePositives(name='tp'),\n",
    "      keras.metrics.FalsePositives(name='fp'),\n",
    "      keras.metrics.TrueNegatives(name='tn'),\n",
    "      keras.metrics.FalseNegatives(name='fn'), \n",
    "      keras.metrics.BinaryAccuracy(name='accuracy'),\n",
    "      keras.metrics.Precision(name='precision'),\n",
    "      keras.metrics.Recall(name='recall'),\n",
    "      keras.metrics.AUC(name='auc'),\n",
    "]\n",
    "\n",
    "def make_model(metrics = METRICS, output_bias=None):\n",
    "    if output_bias is not None:\n",
    "        output_bias = tf.keras.initializers.Constant(output_bias)\n",
    "    model = keras.Sequential([\n",
    "        keras.layers.Dense(16, activation='relu', input_shape=(train_features.shape[-1],)),\n",
    "        keras.layers.Dropout(0.5),\n",
    "        keras.layers.Dense(1, activation='sigmoid', bias_initializer=output_bias)\n",
    "                            ])\n",
    "        \n",
    "    model.compile(optimizer=keras.optimizers.Adam(lr=1e-3),\n",
    "                  loss=keras.losses.BinaryCrossentropy(),\n",
    "                  metrics=metrics\n",
    "                 )\n",
    "\n",
    "    return model"
   ]
  },
  {
   "cell_type": "markdown",
   "metadata": {
    "colab_type": "text",
    "id": "fBVWZSh2-Ruj"
   },
   "source": [
    "## Understanding useful metrics"
   ]
  },
  {
   "cell_type": "markdown",
   "metadata": {
    "colab_type": "text",
    "id": "uNQOglcm-Ruk"
   },
   "source": [
    "\n",
    "Notice that there are a few metrics defined above that can be computed by the model that will be helpful when evaluating the performance.\n",
    "\n",
    "- False negatives and false positives are samples that were incorrectly classified\n",
    "- True negatives and true positives are samples that were correctly classified\n",
    "- Accuracy is the percentage of examples correctly classified > $$ true samples / total samples $$\n",
    "- Precision is the percentage of predicted positives that were correctly classified > $$ true positives / (true positives + false positives) $$\n",
    "- Recall is the percentage of actual positives that were correctly classified > $$ true positives / (true positives + false negatives) $$\n",
    "- AUC refers to the Area Under the Curve of a Receiver Operating Characteristic curve (ROC-AUC). This metric is equal to the probability that a classifier will rank a random positive sample higher than than a random negative sample."
   ]
  },
  {
   "cell_type": "markdown",
   "metadata": {
    "colab_type": "text",
    "id": "LZ2CEi4j-Rul"
   },
   "source": [
    "**Note:** Accuracy is not a helpful metric for this task. You can 73.1%+ accuracy on this task by predicting False all the time. "
   ]
  },
  {
   "cell_type": "markdown",
   "metadata": {
    "colab_type": "text",
    "id": "VIpjWwMD-Rum"
   },
   "source": [
    "# Baseline model"
   ]
  },
  {
   "cell_type": "markdown",
   "metadata": {
    "colab_type": "text",
    "id": "oTrk9XD--Rup"
   },
   "source": [
    "## Build the model"
   ]
  },
  {
   "cell_type": "markdown",
   "metadata": {
    "colab_type": "text",
    "id": "V7a5bVP1-Ruq"
   },
   "source": [
    "Now create and train your model using the function that was defined earlier. Notice that the model is fit using a larger than default batch size of 2048, this is important to ensure that each batch has a decent chance of containing a few positive samples. If the batch size was too small, they would likely have no fraudulent transactions to learn from."
   ]
  },
  {
   "cell_type": "markdown",
   "metadata": {
    "colab_type": "text",
    "id": "AxfC5p2r-Rur"
   },
   "source": [
    "**Note:** this model will not handle the class imbalance well. We will improve it later."
   ]
  },
  {
   "cell_type": "code",
   "execution_count": 121,
   "metadata": {
    "colab": {},
    "colab_type": "code",
    "id": "1nt12Lsw-Rut"
   },
   "outputs": [],
   "source": [
    "EPOCHS = 1000\n",
    "BATCH_SIZE = 4096\n",
    "\n",
    "early_stopping = tf.keras.callbacks.EarlyStopping(\n",
    "    monitor='val_auc', \n",
    "    verbose=1,\n",
    "    patience=10,\n",
    "    mode='max',\n",
    "    restore_best_weights=True)\n"
   ]
  },
  {
   "cell_type": "code",
   "execution_count": 122,
   "metadata": {
    "colab": {
     "base_uri": "https://localhost:8080/",
     "height": 260
    },
    "colab_type": "code",
    "executionInfo": {
     "elapsed": 713,
     "status": "ok",
     "timestamp": 1587414996542,
     "user": {
      "displayName": "Juan Diego Pineda Jaramillo",
      "photoUrl": "https://lh3.googleusercontent.com/a-/AOh14GiWYv7duq_lZS9TY5-G5ClYSRrM1EIU3InpNXGOa0M=s64",
      "userId": "16360626039831995063"
     },
     "user_tz": 300
    },
    "id": "demYLl-_-Ru1",
    "outputId": "7e22c020-5d51-4dbc-82eb-7710d625d7a7"
   },
   "outputs": [
    {
     "name": "stdout",
     "output_type": "stream",
     "text": [
      "Model: \"sequential_28\"\n",
      "_________________________________________________________________\n",
      "Layer (type)                 Output Shape              Param #   \n",
      "=================================================================\n",
      "dense_74 (Dense)             (None, 16)                464       \n",
      "_________________________________________________________________\n",
      "dropout_28 (Dropout)         (None, 16)                0         \n",
      "_________________________________________________________________\n",
      "dense_75 (Dense)             (None, 1)                 17        \n",
      "=================================================================\n",
      "Total params: 481\n",
      "Trainable params: 481\n",
      "Non-trainable params: 0\n",
      "_________________________________________________________________\n"
     ]
    }
   ],
   "source": [
    "model = make_model()\n",
    "model.summary()\n"
   ]
  },
  {
   "cell_type": "markdown",
   "metadata": {
    "colab_type": "text",
    "id": "OOaC7Hpi-Ru8"
   },
   "source": [
    "### Test run the model:"
   ]
  },
  {
   "cell_type": "code",
   "execution_count": 123,
   "metadata": {
    "colab": {
     "base_uri": "https://localhost:8080/",
     "height": 191
    },
    "colab_type": "code",
    "executionInfo": {
     "elapsed": 990,
     "status": "ok",
     "timestamp": 1587415002009,
     "user": {
      "displayName": "Juan Diego Pineda Jaramillo",
      "photoUrl": "https://lh3.googleusercontent.com/a-/AOh14GiWYv7duq_lZS9TY5-G5ClYSRrM1EIU3InpNXGOa0M=s64",
      "userId": "16360626039831995063"
     },
     "user_tz": 300
    },
    "id": "GUX18wXz-RvA",
    "outputId": "3f70294d-99ce-43e2-9799-05211eb8be49"
   },
   "outputs": [
    {
     "data": {
      "text/plain": [
       "array([[0.24835742],\n",
       "       [0.11877146],\n",
       "       [0.31090134],\n",
       "       [0.23690468],\n",
       "       [0.55788374],\n",
       "       [0.32778585],\n",
       "       [0.3043908 ],\n",
       "       [0.23158059],\n",
       "       [0.3375974 ],\n",
       "       [0.262965  ]], dtype=float32)"
      ]
     },
     "execution_count": 123,
     "metadata": {},
     "output_type": "execute_result"
    }
   ],
   "source": [
    "model.predict(train_features[:10])\n"
   ]
  },
  {
   "cell_type": "markdown",
   "metadata": {
    "colab_type": "text",
    "id": "LgkFeMAF-RvJ"
   },
   "source": [
    "### Optional: Set the correct initial bias."
   ]
  },
  {
   "cell_type": "markdown",
   "metadata": {
    "colab_type": "text",
    "id": "wVbXNRog-RvK"
   },
   "source": [
    "These are initial guesses are not great. You know the dataset is imbalanced. Set the output layer's bias to reflect that (See: A Recipe for Training Neural Networks: \"init well\"). This can help with initial convergence."
   ]
  },
  {
   "cell_type": "code",
   "execution_count": 124,
   "metadata": {
    "colab": {
     "base_uri": "https://localhost:8080/",
     "height": 34
    },
    "colab_type": "code",
    "executionInfo": {
     "elapsed": 1566,
     "status": "ok",
     "timestamp": 1587415013161,
     "user": {
      "displayName": "Juan Diego Pineda Jaramillo",
      "photoUrl": "https://lh3.googleusercontent.com/a-/AOh14GiWYv7duq_lZS9TY5-G5ClYSRrM1EIU3InpNXGOa0M=s64",
      "userId": "16360626039831995063"
     },
     "user_tz": 300
    },
    "id": "IxbKyafj-RvM",
    "outputId": "e24219f2-8276-45e6-e0c7-db00ec9af415"
   },
   "outputs": [
    {
     "name": "stdout",
     "output_type": "stream",
     "text": [
      "Loss: 0.4209\n"
     ]
    }
   ],
   "source": [
    "results = model.evaluate(train_features, train_labels, batch_size=BATCH_SIZE, verbose=0)\n",
    "print(\"Loss: {:0.4f}\".format(results[0]))\n"
   ]
  },
  {
   "cell_type": "markdown",
   "metadata": {
    "colab_type": "text",
    "id": "hnkwSE8S-RvS"
   },
   "source": [
    "The correct bias to set can be derived from:\n",
    "\n",
    "$$ p0 = pos/(pos + neg) = 1/(1+exp(-b0)) $$\n",
    "$$ b0 = -loge(1/(p0-1) $$\n",
    "$$ b0 = loge(pos/neg) $$"
   ]
  },
  {
   "cell_type": "code",
   "execution_count": 125,
   "metadata": {
    "colab": {
     "base_uri": "https://localhost:8080/",
     "height": 34
    },
    "colab_type": "code",
    "executionInfo": {
     "elapsed": 1907,
     "status": "ok",
     "timestamp": 1587415013810,
     "user": {
      "displayName": "Juan Diego Pineda Jaramillo",
      "photoUrl": "https://lh3.googleusercontent.com/a-/AOh14GiWYv7duq_lZS9TY5-G5ClYSRrM1EIU3InpNXGOa0M=s64",
      "userId": "16360626039831995063"
     },
     "user_tz": 300
    },
    "id": "J6IPE7KX-RvU",
    "outputId": "c92ddbc0-3f37-45e8-8b5c-a493d871f5f4"
   },
   "outputs": [
    {
     "data": {
      "text/plain": [
       "array([-4.44340706])"
      ]
     },
     "execution_count": 125,
     "metadata": {},
     "output_type": "execute_result"
    }
   ],
   "source": [
    "initial_bias = np.log([pos/neg])\n",
    "initial_bias"
   ]
  },
  {
   "cell_type": "markdown",
   "metadata": {
    "colab_type": "text",
    "id": "-BPJO-bc-Rvc"
   },
   "source": [
    "Set that as the initial bias, and the model will give much more reasonable initial guesses."
   ]
  },
  {
   "cell_type": "code",
   "execution_count": 126,
   "metadata": {
    "colab": {
     "base_uri": "https://localhost:8080/",
     "height": 191
    },
    "colab_type": "code",
    "executionInfo": {
     "elapsed": 1600,
     "status": "ok",
     "timestamp": 1587415013814,
     "user": {
      "displayName": "Juan Diego Pineda Jaramillo",
      "photoUrl": "https://lh3.googleusercontent.com/a-/AOh14GiWYv7duq_lZS9TY5-G5ClYSRrM1EIU3InpNXGOa0M=s64",
      "userId": "16360626039831995063"
     },
     "user_tz": 300
    },
    "id": "kIpcWc2W-Rvd",
    "outputId": "456b360c-84a3-4fc6-c7d2-4605a0739cdb"
   },
   "outputs": [
    {
     "data": {
      "text/plain": [
       "array([[0.00315022],\n",
       "       [0.00572196],\n",
       "       [0.00738034],\n",
       "       [0.00441673],\n",
       "       [0.00532466],\n",
       "       [0.00616014],\n",
       "       [0.00393811],\n",
       "       [0.00778803],\n",
       "       [0.01092781],\n",
       "       [0.00864856]], dtype=float32)"
      ]
     },
     "execution_count": 126,
     "metadata": {},
     "output_type": "execute_result"
    }
   ],
   "source": [
    "model = make_model(output_bias = initial_bias)\n",
    "model.predict(train_features[:10])\n"
   ]
  },
  {
   "cell_type": "code",
   "execution_count": 127,
   "metadata": {
    "colab": {
     "base_uri": "https://localhost:8080/",
     "height": 34
    },
    "colab_type": "code",
    "executionInfo": {
     "elapsed": 1570,
     "status": "ok",
     "timestamp": 1587415014372,
     "user": {
      "displayName": "Juan Diego Pineda Jaramillo",
      "photoUrl": "https://lh3.googleusercontent.com/a-/AOh14GiWYv7duq_lZS9TY5-G5ClYSRrM1EIU3InpNXGOa0M=s64",
      "userId": "16360626039831995063"
     },
     "user_tz": 300
    },
    "id": "amXbS_mF-Rvo",
    "outputId": "e9defd02-eb44-4dce-c9ce-42d4d7d5b036"
   },
   "outputs": [
    {
     "name": "stdout",
     "output_type": "stream",
     "text": [
      "Loss: 0.0692\n"
     ]
    }
   ],
   "source": [
    "results = model.evaluate(train_features, train_labels, batch_size=BATCH_SIZE, verbose=0)\n",
    "print(\"Loss: {:0.4f}\".format(results[0]))"
   ]
  },
  {
   "cell_type": "markdown",
   "metadata": {
    "colab_type": "text",
    "id": "eGCf2aUe-Rvu"
   },
   "source": [
    "This initial loss is less than if would have been with naive initilization.\n",
    "\n",
    "This way the model doesn't need to spend the first few epochs just learning that positive examples are unlikely. This also makes it easier to read plots of the loss during training."
   ]
  },
  {
   "cell_type": "markdown",
   "metadata": {
    "colab_type": "text",
    "id": "Moh5JI21-Rvw"
   },
   "source": [
    "## Checkpoint the initial weights"
   ]
  },
  {
   "cell_type": "markdown",
   "metadata": {
    "colab_type": "text",
    "id": "Ns398iI--Rvx"
   },
   "source": [
    "To make the various training runs more comparable, keep this initial model's weights in a checkpoint file, and load them into each model before training."
   ]
  },
  {
   "cell_type": "code",
   "execution_count": 128,
   "metadata": {
    "colab": {},
    "colab_type": "code",
    "id": "qEKigHnc-Rvy"
   },
   "outputs": [],
   "source": [
    "initial_weights = os.path.join(tempfile.mkdtemp(),'initial_weights')\n",
    "model.save_weights(initial_weights)\n"
   ]
  },
  {
   "cell_type": "markdown",
   "metadata": {
    "colab_type": "text",
    "id": "TZ-h6qhA-Rv5"
   },
   "source": [
    "## Confirm that the bias fix helps"
   ]
  },
  {
   "cell_type": "markdown",
   "metadata": {
    "colab_type": "text",
    "id": "AiIcg7gP-Rv5"
   },
   "source": [
    "Before moving on, confirm quick that the careful bias initialization actually helped."
   ]
  },
  {
   "cell_type": "markdown",
   "metadata": {
    "colab_type": "text",
    "id": "jcJ_FpI9-Rv6"
   },
   "source": [
    "Train the model for 20 epochs, with and without this careful initialization, and compare the losses: "
   ]
  },
  {
   "cell_type": "code",
   "execution_count": 129,
   "metadata": {
    "colab": {},
    "colab_type": "code",
    "id": "K_8I4ZKZ-Rv8"
   },
   "outputs": [],
   "source": [
    "model = make_model()\n",
    "model.load_weights(initial_weights)\n",
    "model.layers[-1].bias.assign([0.0])\n",
    "zero_bias_history = model.fit(\n",
    "    train_features,\n",
    "    train_labels,\n",
    "    batch_size=BATCH_SIZE,\n",
    "    epochs=20,\n",
    "    validation_data=(val_features, val_labels), \n",
    "    verbose=0)\n"
   ]
  },
  {
   "cell_type": "code",
   "execution_count": 130,
   "metadata": {
    "colab": {},
    "colab_type": "code",
    "id": "w8aC0qjd-RwF"
   },
   "outputs": [],
   "source": [
    "model = make_model()\n",
    "model.load_weights(initial_weights)\n",
    "careful_bias_history = model.fit(\n",
    "    train_features,\n",
    "    train_labels,\n",
    "    batch_size=BATCH_SIZE,\n",
    "    epochs=20,\n",
    "    validation_data=(val_features, val_labels), \n",
    "    verbose=0)\n"
   ]
  },
  {
   "cell_type": "code",
   "execution_count": 131,
   "metadata": {
    "colab": {},
    "colab_type": "code",
    "id": "jaPEEglq-RwM"
   },
   "outputs": [],
   "source": [
    "def plot_loss(history, label, n):\n",
    "    # Use a log scale to show the wide range of values.\n",
    "    plt.semilogy(history.epoch,  history.history['loss'],\n",
    "               color=colors[n], label='Train '+label)\n",
    "    plt.semilogy(history.epoch,  history.history['val_loss'],\n",
    "          color=colors[n], label='Val '+label,\n",
    "          linestyle=\"--\")\n",
    "    plt.xlabel('Epoch')\n",
    "    plt.ylabel('Loss')\n",
    "  \n",
    "    plt.legend()\n"
   ]
  },
  {
   "cell_type": "code",
   "execution_count": 132,
   "metadata": {
    "colab": {
     "base_uri": "https://localhost:8080/",
     "height": 606
    },
    "colab_type": "code",
    "executionInfo": {
     "elapsed": 10824,
     "status": "ok",
     "timestamp": 1587415029102,
     "user": {
      "displayName": "Juan Diego Pineda Jaramillo",
      "photoUrl": "https://lh3.googleusercontent.com/a-/AOh14GiWYv7duq_lZS9TY5-G5ClYSRrM1EIU3InpNXGOa0M=s64",
      "userId": "16360626039831995063"
     },
     "user_tz": 300
    },
    "id": "u8IXxHfY-RwT",
    "outputId": "7f84eebb-6950-4238-c6b2-955318440f60"
   },
   "outputs": [
    {
     "data": {
      "image/png": "[encoded data removed]",
      "text/plain": [
       "<Figure size 432x288 with 1 Axes>"
      ]
     },
     "metadata": {
      "needs_background": "light"
     },
     "output_type": "display_data"
    }
   ],
   "source": [
    "plot_loss(zero_bias_history, \"Zero Bias\", 0)\n",
    "plot_loss(careful_bias_history, \"Careful Bias\", 1)\n"
   ]
  },
  {
   "cell_type": "markdown",
   "metadata": {
    "colab_type": "text",
    "id": "NW6UWFdk-Rwa"
   },
   "source": [
    "The above figure makes it clear: In terms of validation loss, on this problem, this careful initialization gives a clear advantage. "
   ]
  },
  {
   "cell_type": "markdown",
   "metadata": {
    "colab_type": "text",
    "id": "jx94E7Xx-Rwb"
   },
   "source": [
    "## Train the model"
   ]
  },
  {
   "cell_type": "code",
   "execution_count": 133,
   "metadata": {
    "colab": {
     "base_uri": "https://localhost:8080/",
     "height": 1000
    },
    "colab_type": "code",
    "executionInfo": {
     "elapsed": 9490,
     "status": "ok",
     "timestamp": 1587415045732,
     "user": {
      "displayName": "Juan Diego Pineda Jaramillo",
      "photoUrl": "https://lh3.googleusercontent.com/a-/AOh14GiWYv7duq_lZS9TY5-G5ClYSRrM1EIU3InpNXGOa0M=s64",
      "userId": "16360626039831995063"
     },
     "user_tz": 300
    },
    "id": "ZwAqpYvv-Rwc",
    "outputId": "368c5bed-2365-448e-d660-9957440e116c",
    "scrolled": true
   },
   "outputs": [
    {
     "name": "stdout",
     "output_type": "stream",
     "text": [
      "Train on 21426 samples, validate on 5357 samples\n",
      "Epoch 1/1000\n",
      "21426/21426 [==============================] - 4s 196us/sample - loss: 0.0721 - tp: 0.0000e+00 - fp: 0.0000e+00 - tn: 21177.0000 - fn: 249.0000 - accuracy: 0.9884 - precision: 0.0000e+00 - recall: 0.0000e+00 - auc: 0.4654 - val_loss: 0.0673 - val_tp: 0.0000e+00 - val_fp: 0.0000e+00 - val_tn: 5295.0000 - val_fn: 62.0000 - val_accuracy: 0.9884 - val_precision: 0.0000e+00 - val_recall: 0.0000e+00 - val_auc: 0.4436\n",
      "Epoch 2/1000\n",
      "21426/21426 [==============================] - 0s 18us/sample - loss: 0.0698 - tp: 0.0000e+00 - fp: 0.0000e+00 - tn: 21177.0000 - fn: 249.0000 - accuracy: 0.9884 - precision: 0.0000e+00 - recall: 0.0000e+00 - auc: 0.4824 - val_loss: 0.0664 - val_tp: 0.0000e+00 - val_fp: 0.0000e+00 - val_tn: 5295.0000 - val_fn: 62.0000 - val_accuracy: 0.9884 - val_precision: 0.0000e+00 - val_recall: 0.0000e+00 - val_auc: 0.4553\n",
      "Epoch 3/1000\n",
      "21426/21426 [==============================] - 0s 15us/sample - loss: 0.0701 - tp: 0.0000e+00 - fp: 0.0000e+00 - tn: 21177.0000 - fn: 249.0000 - accuracy: 0.9884 - precision: 0.0000e+00 - recall: 0.0000e+00 - auc: 0.4730 - val_loss: 0.0656 - val_tp: 0.0000e+00 - val_fp: 0.0000e+00 - val_tn: 5295.0000 - val_fn: 62.0000 - val_accuracy: 0.9884 - val_precision: 0.0000e+00 - val_recall: 0.0000e+00 - val_auc: 0.4671\n",
      "Epoch 4/1000\n",
      "21426/21426 [==============================] - 0s 19us/sample - loss: 0.0686 - tp: 0.0000e+00 - fp: 0.0000e+00 - tn: 21177.0000 - fn: 249.0000 - accuracy: 0.9884 - precision: 0.0000e+00 - recall: 0.0000e+00 - auc: 0.5084 - val_loss: 0.0649 - val_tp: 0.0000e+00 - val_fp: 0.0000e+00 - val_tn: 5295.0000 - val_fn: 62.0000 - val_accuracy: 0.9884 - val_precision: 0.0000e+00 - val_recall: 0.0000e+00 - val_auc: 0.4886\n",
      "Epoch 5/1000\n",
      "21426/21426 [==============================] - 0s 20us/sample - loss: 0.0679 - tp: 0.0000e+00 - fp: 0.0000e+00 - tn: 21177.0000 - fn: 249.0000 - accuracy: 0.9884 - precision: 0.0000e+00 - recall: 0.0000e+00 - auc: 0.5197 - val_loss: 0.0642 - val_tp: 0.0000e+00 - val_fp: 0.0000e+00 - val_tn: 5295.0000 - val_fn: 62.0000 - val_accuracy: 0.9884 - val_precision: 0.0000e+00 - val_recall: 0.0000e+00 - val_auc: 0.5103\n",
      "Epoch 6/1000\n",
      "21426/21426 [==============================] - 0s 20us/sample - loss: 0.0670 - tp: 0.0000e+00 - fp: 0.0000e+00 - tn: 21177.0000 - fn: 249.0000 - accuracy: 0.9884 - precision: 0.0000e+00 - recall: 0.0000e+00 - auc: 0.5280 - val_loss: 0.0635 - val_tp: 0.0000e+00 - val_fp: 0.0000e+00 - val_tn: 5295.0000 - val_fn: 62.0000 - val_accuracy: 0.9884 - val_precision: 0.0000e+00 - val_recall: 0.0000e+00 - val_auc: 0.5400\n",
      "Epoch 7/1000\n",
      "21426/21426 [==============================] - 0s 17us/sample - loss: 0.0661 - tp: 0.0000e+00 - fp: 0.0000e+00 - tn: 21177.0000 - fn: 249.0000 - accuracy: 0.9884 - precision: 0.0000e+00 - recall: 0.0000e+00 - auc: 0.5523 - val_loss: 0.0629 - val_tp: 0.0000e+00 - val_fp: 0.0000e+00 - val_tn: 5295.0000 - val_fn: 62.0000 - val_accuracy: 0.9884 - val_precision: 0.0000e+00 - val_recall: 0.0000e+00 - val_auc: 0.5687\n",
      "Epoch 8/1000\n",
      "21426/21426 [==============================] - 0s 18us/sample - loss: 0.0656 - tp: 0.0000e+00 - fp: 1.0000 - tn: 21176.0000 - fn: 249.0000 - accuracy: 0.9883 - precision: 0.0000e+00 - recall: 0.0000e+00 - auc: 0.5559 - val_loss: 0.0623 - val_tp: 0.0000e+00 - val_fp: 0.0000e+00 - val_tn: 5295.0000 - val_fn: 62.0000 - val_accuracy: 0.9884 - val_precision: 0.0000e+00 - val_recall: 0.0000e+00 - val_auc: 0.6186\n",
      "Epoch 9/1000\n",
      "21426/21426 [==============================] - 0s 18us/sample - loss: 0.0660 - tp: 0.0000e+00 - fp: 0.0000e+00 - tn: 21177.0000 - fn: 249.0000 - accuracy: 0.9884 - precision: 0.0000e+00 - recall: 0.0000e+00 - auc: 0.5465 - val_loss: 0.0618 - val_tp: 0.0000e+00 - val_fp: 0.0000e+00 - val_tn: 5295.0000 - val_fn: 62.0000 - val_accuracy: 0.9884 - val_precision: 0.0000e+00 - val_recall: 0.0000e+00 - val_auc: 0.6220\n",
      "Epoch 10/1000\n",
      "21426/21426 [==============================] - 0s 17us/sample - loss: 0.0659 - tp: 0.0000e+00 - fp: 1.0000 - tn: 21176.0000 - fn: 249.0000 - accuracy: 0.9883 - precision: 0.0000e+00 - recall: 0.0000e+00 - auc: 0.5489 - val_loss: 0.0614 - val_tp: 0.0000e+00 - val_fp: 0.0000e+00 - val_tn: 5295.0000 - val_fn: 62.0000 - val_accuracy: 0.9884 - val_precision: 0.0000e+00 - val_recall: 0.0000e+00 - val_auc: 0.6479\n",
      "Epoch 11/1000\n",
      "21426/21426 [==============================] - 0s 16us/sample - loss: 0.0649 - tp: 0.0000e+00 - fp: 0.0000e+00 - tn: 21177.0000 - fn: 249.0000 - accuracy: 0.9884 - precision: 0.0000e+00 - recall: 0.0000e+00 - auc: 0.5836 - val_loss: 0.0610 - val_tp: 0.0000e+00 - val_fp: 0.0000e+00 - val_tn: 5295.0000 - val_fn: 62.0000 - val_accuracy: 0.9884 - val_precision: 0.0000e+00 - val_recall: 0.0000e+00 - val_auc: 0.6664\n",
      "Epoch 12/1000\n",
      "21426/21426 [==============================] - 0s 19us/sample - loss: 0.0633 - tp: 0.0000e+00 - fp: 1.0000 - tn: 21176.0000 - fn: 249.0000 - accuracy: 0.9883 - precision: 0.0000e+00 - recall: 0.0000e+00 - auc: 0.6179 - val_loss: 0.0607 - val_tp: 0.0000e+00 - val_fp: 0.0000e+00 - val_tn: 5295.0000 - val_fn: 62.0000 - val_accuracy: 0.9884 - val_precision: 0.0000e+00 - val_recall: 0.0000e+00 - val_auc: 0.6798\n",
      "Epoch 13/1000\n",
      "21426/21426 [==============================] - 0s 14us/sample - loss: 0.0635 - tp: 0.0000e+00 - fp: 0.0000e+00 - tn: 21177.0000 - fn: 249.0000 - accuracy: 0.9884 - precision: 0.0000e+00 - recall: 0.0000e+00 - auc: 0.5911 - val_loss: 0.0605 - val_tp: 0.0000e+00 - val_fp: 0.0000e+00 - val_tn: 5295.0000 - val_fn: 62.0000 - val_accuracy: 0.9884 - val_precision: 0.0000e+00 - val_recall: 0.0000e+00 - val_auc: 0.6761\n",
      "Epoch 14/1000\n",
      "21426/21426 [==============================] - 0s 16us/sample - loss: 0.0624 - tp: 0.0000e+00 - fp: 0.0000e+00 - tn: 21177.0000 - fn: 249.0000 - accuracy: 0.9884 - precision: 0.0000e+00 - recall: 0.0000e+00 - auc: 0.6316 - val_loss: 0.0602 - val_tp: 0.0000e+00 - val_fp: 0.0000e+00 - val_tn: 5295.0000 - val_fn: 62.0000 - val_accuracy: 0.9884 - val_precision: 0.0000e+00 - val_recall: 0.0000e+00 - val_auc: 0.6799\n",
      "Epoch 15/1000\n",
      "21426/21426 [==============================] - 0s 16us/sample - loss: 0.0629 - tp: 0.0000e+00 - fp: 1.0000 - tn: 21176.0000 - fn: 249.0000 - accuracy: 0.9883 - precision: 0.0000e+00 - recall: 0.0000e+00 - auc: 0.6154 - val_loss: 0.0600 - val_tp: 0.0000e+00 - val_fp: 0.0000e+00 - val_tn: 5295.0000 - val_fn: 62.0000 - val_accuracy: 0.9884 - val_precision: 0.0000e+00 - val_recall: 0.0000e+00 - val_auc: 0.6810\n",
      "Epoch 16/1000\n",
      "21426/21426 [==============================] - 0s 17us/sample - loss: 0.0620 - tp: 0.0000e+00 - fp: 1.0000 - tn: 21176.0000 - fn: 249.0000 - accuracy: 0.9883 - precision: 0.0000e+00 - recall: 0.0000e+00 - auc: 0.6356 - val_loss: 0.0599 - val_tp: 0.0000e+00 - val_fp: 0.0000e+00 - val_tn: 5295.0000 - val_fn: 62.0000 - val_accuracy: 0.9884 - val_precision: 0.0000e+00 - val_recall: 0.0000e+00 - val_auc: 0.6817\n",
      "Epoch 17/1000\n",
      "21426/21426 [==============================] - 0s 15us/sample - loss: 0.0621 - tp: 0.0000e+00 - fp: 1.0000 - tn: 21176.0000 - fn: 249.0000 - accuracy: 0.9883 - precision: 0.0000e+00 - recall: 0.0000e+00 - auc: 0.6344 - val_loss: 0.0596 - val_tp: 0.0000e+00 - val_fp: 0.0000e+00 - val_tn: 5295.0000 - val_fn: 62.0000 - val_accuracy: 0.9884 - val_precision: 0.0000e+00 - val_recall: 0.0000e+00 - val_auc: 0.6944\n",
      "Epoch 18/1000\n",
      "21426/21426 [==============================] - 0s 19us/sample - loss: 0.0625 - tp: 0.0000e+00 - fp: 1.0000 - tn: 21176.0000 - fn: 249.0000 - accuracy: 0.9883 - precision: 0.0000e+00 - recall: 0.0000e+00 - auc: 0.6262 - val_loss: 0.0595 - val_tp: 0.0000e+00 - val_fp: 0.0000e+00 - val_tn: 5295.0000 - val_fn: 62.0000 - val_accuracy: 0.9884 - val_precision: 0.0000e+00 - val_recall: 0.0000e+00 - val_auc: 0.6963\n",
      "Epoch 19/1000\n",
      "21426/21426 [==============================] - 0s 15us/sample - loss: 0.0621 - tp: 0.0000e+00 - fp: 0.0000e+00 - tn: 21177.0000 - fn: 249.0000 - accuracy: 0.9884 - precision: 0.0000e+00 - recall: 0.0000e+00 - auc: 0.6438 - val_loss: 0.0594 - val_tp: 0.0000e+00 - val_fp: 0.0000e+00 - val_tn: 5295.0000 - val_fn: 62.0000 - val_accuracy: 0.9884 - val_precision: 0.0000e+00 - val_recall: 0.0000e+00 - val_auc: 0.6971\n",
      "Epoch 20/1000\n",
      "21426/21426 [==============================] - 0s 18us/sample - loss: 0.0620 - tp: 0.0000e+00 - fp: 1.0000 - tn: 21176.0000 - fn: 249.0000 - accuracy: 0.9883 - precision: 0.0000e+00 - recall: 0.0000e+00 - auc: 0.6475 - val_loss: 0.0593 - val_tp: 0.0000e+00 - val_fp: 0.0000e+00 - val_tn: 5295.0000 - val_fn: 62.0000 - val_accuracy: 0.9884 - val_precision: 0.0000e+00 - val_recall: 0.0000e+00 - val_auc: 0.7081\n",
      "Epoch 21/1000\n",
      "21426/21426 [==============================] - 0s 15us/sample - loss: 0.0619 - tp: 0.0000e+00 - fp: 0.0000e+00 - tn: 21177.0000 - fn: 249.0000 - accuracy: 0.9884 - precision: 0.0000e+00 - recall: 0.0000e+00 - auc: 0.6478 - val_loss: 0.0592 - val_tp: 0.0000e+00 - val_fp: 0.0000e+00 - val_tn: 5295.0000 - val_fn: 62.0000 - val_accuracy: 0.9884 - val_precision: 0.0000e+00 - val_recall: 0.0000e+00 - val_auc: 0.7067\n",
      "Epoch 22/1000\n",
      "21426/21426 [==============================] - 0s 16us/sample - loss: 0.0616 - tp: 0.0000e+00 - fp: 0.0000e+00 - tn: 21177.0000 - fn: 249.0000 - accuracy: 0.9884 - precision: 0.0000e+00 - recall: 0.0000e+00 - auc: 0.6576 - val_loss: 0.0592 - val_tp: 0.0000e+00 - val_fp: 0.0000e+00 - val_tn: 5295.0000 - val_fn: 62.0000 - val_accuracy: 0.9884 - val_precision: 0.0000e+00 - val_recall: 0.0000e+00 - val_auc: 0.7200\n",
      "Epoch 23/1000\n",
      "21426/21426 [==============================] - 0s 13us/sample - loss: 0.0619 - tp: 0.0000e+00 - fp: 0.0000e+00 - tn: 21177.0000 - fn: 249.0000 - accuracy: 0.9884 - precision: 0.0000e+00 - recall: 0.0000e+00 - auc: 0.6385 - val_loss: 0.0591 - val_tp: 0.0000e+00 - val_fp: 0.0000e+00 - val_tn: 5295.0000 - val_fn: 62.0000 - val_accuracy: 0.9884 - val_precision: 0.0000e+00 - val_recall: 0.0000e+00 - val_auc: 0.7247\n",
      "Epoch 24/1000\n",
      "21426/21426 [==============================] - 0s 17us/sample - loss: 0.0618 - tp: 0.0000e+00 - fp: 1.0000 - tn: 21176.0000 - fn: 249.0000 - accuracy: 0.9883 - precision: 0.0000e+00 - recall: 0.0000e+00 - auc: 0.6525 - val_loss: 0.0591 - val_tp: 0.0000e+00 - val_fp: 0.0000e+00 - val_tn: 5295.0000 - val_fn: 62.0000 - val_accuracy: 0.9884 - val_precision: 0.0000e+00 - val_recall: 0.0000e+00 - val_auc: 0.7257\n",
      "Epoch 25/1000\n",
      "21426/21426 [==============================] - 0s 16us/sample - loss: 0.0609 - tp: 0.0000e+00 - fp: 0.0000e+00 - tn: 21177.0000 - fn: 249.0000 - accuracy: 0.9884 - precision: 0.0000e+00 - recall: 0.0000e+00 - auc: 0.6659 - val_loss: 0.0590 - val_tp: 0.0000e+00 - val_fp: 0.0000e+00 - val_tn: 5295.0000 - val_fn: 62.0000 - val_accuracy: 0.9884 - val_precision: 0.0000e+00 - val_recall: 0.0000e+00 - val_auc: 0.7260\n",
      "Epoch 26/1000\n",
      "21426/21426 [==============================] - 0s 18us/sample - loss: 0.0609 - tp: 0.0000e+00 - fp: 1.0000 - tn: 21176.0000 - fn: 249.0000 - accuracy: 0.9883 - precision: 0.0000e+00 - recall: 0.0000e+00 - auc: 0.6738 - val_loss: 0.0590 - val_tp: 0.0000e+00 - val_fp: 0.0000e+00 - val_tn: 5295.0000 - val_fn: 62.0000 - val_accuracy: 0.9884 - val_precision: 0.0000e+00 - val_recall: 0.0000e+00 - val_auc: 0.7258\n",
      "Epoch 27/1000\n",
      "21426/21426 [==============================] - 0s 16us/sample - loss: 0.0608 - tp: 0.0000e+00 - fp: 1.0000 - tn: 21176.0000 - fn: 249.0000 - accuracy: 0.9883 - precision: 0.0000e+00 - recall: 0.0000e+00 - auc: 0.6804 - val_loss: 0.0589 - val_tp: 0.0000e+00 - val_fp: 0.0000e+00 - val_tn: 5295.0000 - val_fn: 62.0000 - val_accuracy: 0.9884 - val_precision: 0.0000e+00 - val_recall: 0.0000e+00 - val_auc: 0.7251\n",
      "Epoch 28/1000\n",
      "21426/21426 [==============================] - 0s 18us/sample - loss: 0.0602 - tp: 0.0000e+00 - fp: 2.0000 - tn: 21175.0000 - fn: 249.0000 - accuracy: 0.9883 - precision: 0.0000e+00 - recall: 0.0000e+00 - auc: 0.6929 - val_loss: 0.0589 - val_tp: 0.0000e+00 - val_fp: 0.0000e+00 - val_tn: 5295.0000 - val_fn: 62.0000 - val_accuracy: 0.9884 - val_precision: 0.0000e+00 - val_recall: 0.0000e+00 - val_auc: 0.7426\n",
      "Epoch 29/1000\n",
      "21426/21426 [==============================] - 0s 23us/sample - loss: 0.0603 - tp: 0.0000e+00 - fp: 0.0000e+00 - tn: 21177.0000 - fn: 249.0000 - accuracy: 0.9884 - precision: 0.0000e+00 - recall: 0.0000e+00 - auc: 0.6803 - val_loss: 0.0588 - val_tp: 0.0000e+00 - val_fp: 0.0000e+00 - val_tn: 5295.0000 - val_fn: 62.0000 - val_accuracy: 0.9884 - val_precision: 0.0000e+00 - val_recall: 0.0000e+00 - val_auc: 0.7426\n",
      "Epoch 30/1000\n",
      "21426/21426 [==============================] - 0s 19us/sample - loss: 0.0606 - tp: 0.0000e+00 - fp: 0.0000e+00 - tn: 21177.0000 - fn: 249.0000 - accuracy: 0.9884 - precision: 0.0000e+00 - recall: 0.0000e+00 - auc: 0.6686 - val_loss: 0.0588 - val_tp: 0.0000e+00 - val_fp: 0.0000e+00 - val_tn: 5295.0000 - val_fn: 62.0000 - val_accuracy: 0.9884 - val_precision: 0.0000e+00 - val_recall: 0.0000e+00 - val_auc: 0.7457\n",
      "Epoch 31/1000\n",
      "21426/21426 [==============================] - 0s 16us/sample - loss: 0.0611 - tp: 0.0000e+00 - fp: 0.0000e+00 - tn: 21177.0000 - fn: 249.0000 - accuracy: 0.9884 - precision: 0.0000e+00 - recall: 0.0000e+00 - auc: 0.6598 - val_loss: 0.0587 - val_tp: 0.0000e+00 - val_fp: 0.0000e+00 - val_tn: 5295.0000 - val_fn: 62.0000 - val_accuracy: 0.9884 - val_precision: 0.0000e+00 - val_recall: 0.0000e+00 - val_auc: 0.7417\n",
      "Epoch 32/1000\n",
      "21426/21426 [==============================] - 0s 20us/sample - loss: 0.0601 - tp: 0.0000e+00 - fp: 0.0000e+00 - tn: 21177.0000 - fn: 249.0000 - accuracy: 0.9884 - precision: 0.0000e+00 - recall: 0.0000e+00 - auc: 0.6973 - val_loss: 0.0587 - val_tp: 0.0000e+00 - val_fp: 0.0000e+00 - val_tn: 5295.0000 - val_fn: 62.0000 - val_accuracy: 0.9884 - val_precision: 0.0000e+00 - val_recall: 0.0000e+00 - val_auc: 0.7416\n",
      "Epoch 33/1000\n",
      "21426/21426 [==============================] - 0s 19us/sample - loss: 0.0603 - tp: 0.0000e+00 - fp: 1.0000 - tn: 21176.0000 - fn: 249.0000 - accuracy: 0.9883 - precision: 0.0000e+00 - recall: 0.0000e+00 - auc: 0.6903 - val_loss: 0.0586 - val_tp: 0.0000e+00 - val_fp: 0.0000e+00 - val_tn: 5295.0000 - val_fn: 62.0000 - val_accuracy: 0.9884 - val_precision: 0.0000e+00 - val_recall: 0.0000e+00 - val_auc: 0.7447\n",
      "Epoch 34/1000\n",
      "21426/21426 [==============================] - 0s 13us/sample - loss: 0.0601 - tp: 0.0000e+00 - fp: 0.0000e+00 - tn: 21177.0000 - fn: 249.0000 - accuracy: 0.9884 - precision: 0.0000e+00 - recall: 0.0000e+00 - auc: 0.6988 - val_loss: 0.0586 - val_tp: 0.0000e+00 - val_fp: 0.0000e+00 - val_tn: 5295.0000 - val_fn: 62.0000 - val_accuracy: 0.9884 - val_precision: 0.0000e+00 - val_recall: 0.0000e+00 - val_auc: 0.7432\n",
      "Epoch 35/1000\n",
      "21426/21426 [==============================] - 0s 18us/sample - loss: 0.0606 - tp: 0.0000e+00 - fp: 0.0000e+00 - tn: 21177.0000 - fn: 249.0000 - accuracy: 0.9884 - precision: 0.0000e+00 - recall: 0.0000e+00 - auc: 0.6797 - val_loss: 0.0586 - val_tp: 0.0000e+00 - val_fp: 0.0000e+00 - val_tn: 5295.0000 - val_fn: 62.0000 - val_accuracy: 0.9884 - val_precision: 0.0000e+00 - val_recall: 0.0000e+00 - val_auc: 0.7441\n",
      "Epoch 36/1000\n",
      "21426/21426 [==============================] - 0s 19us/sample - loss: 0.0606 - tp: 0.0000e+00 - fp: 0.0000e+00 - tn: 21177.0000 - fn: 249.0000 - accuracy: 0.9884 - precision: 0.0000e+00 - recall: 0.0000e+00 - auc: 0.6940 - val_loss: 0.0586 - val_tp: 0.0000e+00 - val_fp: 0.0000e+00 - val_tn: 5295.0000 - val_fn: 62.0000 - val_accuracy: 0.9884 - val_precision: 0.0000e+00 - val_recall: 0.0000e+00 - val_auc: 0.7445\n",
      "Epoch 37/1000\n",
      "21426/21426 [==============================] - 0s 16us/sample - loss: 0.0605 - tp: 0.0000e+00 - fp: 0.0000e+00 - tn: 21177.0000 - fn: 249.0000 - accuracy: 0.9884 - precision: 0.0000e+00 - recall: 0.0000e+00 - auc: 0.6929 - val_loss: 0.0585 - val_tp: 0.0000e+00 - val_fp: 0.0000e+00 - val_tn: 5295.0000 - val_fn: 62.0000 - val_accuracy: 0.9884 - val_precision: 0.0000e+00 - val_recall: 0.0000e+00 - val_auc: 0.7397\n",
      "Epoch 38/1000\n",
      "21426/21426 [==============================] - 0s 15us/sample - loss: 0.0600 - tp: 0.0000e+00 - fp: 0.0000e+00 - tn: 21177.0000 - fn: 249.0000 - accuracy: 0.9884 - precision: 0.0000e+00 - recall: 0.0000e+00 - auc: 0.6929 - val_loss: 0.0585 - val_tp: 0.0000e+00 - val_fp: 0.0000e+00 - val_tn: 5295.0000 - val_fn: 62.0000 - val_accuracy: 0.9884 - val_precision: 0.0000e+00 - val_recall: 0.0000e+00 - val_auc: 0.7405\n",
      "Epoch 39/1000\n",
      "21426/21426 [==============================] - 0s 15us/sample - loss: 0.0598 - tp: 0.0000e+00 - fp: 0.0000e+00 - tn: 21177.0000 - fn: 249.0000 - accuracy: 0.9884 - precision: 0.0000e+00 - recall: 0.0000e+00 - auc: 0.7029 - val_loss: 0.0586 - val_tp: 0.0000e+00 - val_fp: 0.0000e+00 - val_tn: 5295.0000 - val_fn: 62.0000 - val_accuracy: 0.9884 - val_precision: 0.0000e+00 - val_recall: 0.0000e+00 - val_auc: 0.7427\n",
      "Epoch 40/1000\n",
      "20480/21426 [===========================>..] - ETA: 0s - loss: 0.0594 - tp: 0.0000e+00 - fp: 0.0000e+00 - tn: 20247.0000 - fn: 233.0000 - accuracy: 0.9886 - precision: 0.0000e+00 - recall: 0.0000e+00 - auc: 0.6904Restoring model weights from the end of the best epoch.\n",
      "21426/21426 [==============================] - 0s 16us/sample - loss: 0.0604 - tp: 0.0000e+00 - fp: 0.0000e+00 - tn: 21177.0000 - fn: 249.0000 - accuracy: 0.9884 - precision: 0.0000e+00 - recall: 0.0000e+00 - auc: 0.6884 - val_loss: 0.0585 - val_tp: 0.0000e+00 - val_fp: 0.0000e+00 - val_tn: 5295.0000 - val_fn: 62.0000 - val_accuracy: 0.9884 - val_precision: 0.0000e+00 - val_recall: 0.0000e+00 - val_auc: 0.7403\n",
      "Epoch 00040: early stopping\n"
     ]
    }
   ],
   "source": [
    "model = make_model()\n",
    "model.load_weights(initial_weights)\n",
    "baseline_history = model.fit(\n",
    "    train_features,\n",
    "    train_labels,\n",
    "    batch_size=BATCH_SIZE,\n",
    "    epochs=EPOCHS,\n",
    "    callbacks = [early_stopping],\n",
    "    validation_data=(val_features, val_labels))\n"
   ]
  },
  {
   "cell_type": "markdown",
   "metadata": {
    "colab_type": "text",
    "id": "8LjvBS14-Rwg"
   },
   "source": [
    "## Check training history"
   ]
  },
  {
   "cell_type": "markdown",
   "metadata": {
    "colab_type": "text",
    "id": "GCp6KjvD-Rwi"
   },
   "source": [
    "In this section, you will produce plots of your model's accuracy and loss on the training and validation set. These are useful to check for overfitting.\n",
    "\n",
    "Additionally, you can produce these plots for any of the metrics you created above. False negatives are included as an example."
   ]
  },
  {
   "cell_type": "code",
   "execution_count": 134,
   "metadata": {
    "colab": {},
    "colab_type": "code",
    "id": "ilkM6fQN-Rwj"
   },
   "outputs": [],
   "source": [
    "def plot_metrics(history):\n",
    "    metrics =  ['loss', 'auc', 'precision', 'recall']\n",
    "    for n, metric in enumerate(metrics):\n",
    "        name = metric.replace(\"_\",\" \").capitalize()\n",
    "        plt.subplot(2,2,n+1)\n",
    "        plt.plot(history.epoch,  history.history[metric], color=colors[0], label='Train')\n",
    "        plt.plot(history.epoch, history.history['val_'+metric],\n",
    "             color=colors[0], linestyle=\"--\", label='Val')\n",
    "        plt.xlabel('Epoch')\n",
    "        plt.ylabel(name)\n",
    "        if metric == 'loss':\n",
    "            plt.ylim([0, plt.ylim()[1]])\n",
    "        elif metric == 'auc':\n",
    "            plt.ylim([0.5,1])\n",
    "        else:\n",
    "            plt.ylim([0,1])\n",
    "\n",
    "        plt.legend()\n"
   ]
  },
  {
   "cell_type": "code",
   "execution_count": 135,
   "metadata": {
    "colab": {
     "base_uri": "https://localhost:8080/",
     "height": 610
    },
    "colab_type": "code",
    "executionInfo": {
     "elapsed": 1726,
     "status": "ok",
     "timestamp": 1587409830610,
     "user": {
      "displayName": "Juan Diego Pineda Jaramillo",
      "photoUrl": "https://lh3.googleusercontent.com/a-/AOh14GiWYv7duq_lZS9TY5-G5ClYSRrM1EIU3InpNXGOa0M=s64",
      "userId": "16360626039831995063"
     },
     "user_tz": 300
    },
    "id": "g0Ilv7BA-Rwo",
    "outputId": "87306b29-4e0b-4e82-ecc7-e9c87725ed25"
   },
   "outputs": [
    {
     "data": {
      "image/png": "[encoded data removed]",
      "text/plain": [
       "<Figure size 432x288 with 4 Axes>"
      ]
     },
     "metadata": {
      "needs_background": "light"
     },
     "output_type": "display_data"
    }
   ],
   "source": [
    "plot_metrics(baseline_history)\n"
   ]
  },
  {
   "cell_type": "markdown",
   "metadata": {
    "colab_type": "text",
    "id": "85_vWxhP-Rwt"
   },
   "source": [
    "**Note:** That the validation curve generally performs better than the training curve. This is mainly caused by the fact that the dropout layer is not active when evaluating the model."
   ]
  },
  {
   "cell_type": "markdown",
   "metadata": {
    "colab_type": "text",
    "id": "_tb5VTGb-Rwu"
   },
   "source": [
    "## Evaluate metrics"
   ]
  },
  {
   "cell_type": "code",
   "execution_count": 136,
   "metadata": {
    "colab": {},
    "colab_type": "code",
    "id": "nB7OK6Mo-Rww"
   },
   "outputs": [],
   "source": [
    "train_predictions_baseline = model.predict(train_features, batch_size=BATCH_SIZE)\n",
    "test_predictions_baseline = model.predict(test_features, batch_size=BATCH_SIZE)\n"
   ]
  },
  {
   "cell_type": "code",
   "execution_count": 137,
   "metadata": {
    "colab": {},
    "colab_type": "code",
    "id": "nvbc71Jc-Rw3"
   },
   "outputs": [],
   "source": [
    "def plot_cm(labels, predictions, p=0.5):\n",
    "    cm = confusion_matrix(labels, predictions > p)\n",
    "    plt.figure(figsize=(5,5))\n",
    "    sns.heatmap(cm, annot=True, fmt=\"d\")\n",
    "    plt.title('Confusion matrix @{:.2f}'.format(p))\n",
    "    plt.ylabel('Actual label')\n",
    "    plt.xlabel('Predicted label')\n",
    "\n",
    "    print('Injuries Detected (True Negatives): ', cm[0][0])\n",
    "    print('Injuries Incorrectly Detected (False Positives): ', cm[0][1])\n",
    "    print('Deaths Missed (False Negatives): ', cm[1][0])\n",
    "    print('Deaths Detected (True Positives): ', cm[1][1])\n",
    "    print('Total Victims: ', np.sum(cm[1]))\n"
   ]
  },
  {
   "cell_type": "markdown",
   "metadata": {
    "colab_type": "text",
    "id": "dirZYdTw-Rw9"
   },
   "source": [
    "Evaluate your model on the test dataset and display the results for the metrics you created above."
   ]
  },
  {
   "cell_type": "code",
   "execution_count": 138,
   "metadata": {
    "colab": {
     "base_uri": "https://localhost:8080/",
     "height": 611
    },
    "colab_type": "code",
    "executionInfo": {
     "elapsed": 739,
     "status": "ok",
     "timestamp": 1587415060511,
     "user": {
      "displayName": "Juan Diego Pineda Jaramillo",
      "photoUrl": "https://lh3.googleusercontent.com/a-/AOh14GiWYv7duq_lZS9TY5-G5ClYSRrM1EIU3InpNXGOa0M=s64",
      "userId": "16360626039831995063"
     },
     "user_tz": 300
    },
    "id": "yYymk-YJ-Rw_",
    "outputId": "5f704c24-77b4-4971-e53f-1f3f29f019da"
   },
   "outputs": [
    {
     "name": "stdout",
     "output_type": "stream",
     "text": [
      "loss :  0.05799625089821565\n",
      "tp :  0.0\n",
      "fp :  0.0\n",
      "tn :  6618.0\n",
      "fn :  78.0\n",
      "accuracy :  0.9883512\n",
      "precision :  0.0\n",
      "recall :  0.0\n",
      "auc :  0.7788713\n",
      "\n",
      "Injuries Detected (True Negatives):  6618\n",
      "Injuries Incorrectly Detected (False Positives):  0\n",
      "Deaths Missed (False Negatives):  78\n",
      "Deaths Detected (True Positives):  0\n",
      "Total Victims:  78\n"
     ]
    },
    {
     "data": {
      "image/png": "[encoded data removed]",
      "text/plain": [
       "<Figure size 360x360 with 2 Axes>"
      ]
     },
     "metadata": {
      "needs_background": "light"
     },
     "output_type": "display_data"
    }
   ],
   "source": [
    "baseline_results = model.evaluate(test_features, test_labels,\n",
    "                                  batch_size=BATCH_SIZE, verbose=0)\n",
    "for name, value in zip(model.metrics_names, baseline_results):\n",
    "    print(name, ': ', value)\n",
    "print()\n",
    "\n",
    "plot_cm(test_labels, test_predictions_baseline)\n"
   ]
  },
  {
   "cell_type": "markdown",
   "metadata": {
    "colab_type": "text",
    "id": "ktW478co-RxD"
   },
   "source": [
    "If the model had predicted everything perfectly, this would be a diagonal matrix where values off the main diagonal, indicating incorrect predictions, would be zero. In this case the matrix shows that you have relatively few false positives, meaning that there were relatively few legitimate transactions that were incorrectly flagged. However, you would likely want to have even fewer false negatives despite the cost of increasing the number of false positives. This trade off may be preferable because false negatives would allow fraudulent transactions to go through, whereas false positives may cause an email to be sent to a customer to ask them to verify their card activity."
   ]
  },
  {
   "cell_type": "markdown",
   "metadata": {
    "colab_type": "text",
    "id": "aCQbQxna-RxE"
   },
   "source": [
    "## Plot the ROC"
   ]
  },
  {
   "cell_type": "markdown",
   "metadata": {
    "colab_type": "text",
    "id": "wb3lmDst-RxE"
   },
   "source": [
    "Now plot the ROC. This plot is useful because it shows, at a glance, the range of performance the model can reach just by tuning the output threshold."
   ]
  },
  {
   "cell_type": "code",
   "execution_count": 139,
   "metadata": {
    "colab": {},
    "colab_type": "code",
    "id": "bVBn_-HF-RxG"
   },
   "outputs": [],
   "source": [
    "def plot_roc(name, labels, predictions, **kwargs):\n",
    "    fp, tp, _ = sklearn.metrics.roc_curve(labels, predictions)\n",
    "\n",
    "    plt.plot(100*fp, 100*tp, label=name, linewidth=2, **kwargs)\n",
    "    plt.xlabel('False positives [%]')\n",
    "    plt.ylabel('True positives [%]')\n",
    "    plt.xlim([-0.5,70])\n",
    "    plt.ylim([30,100.5])\n",
    "    plt.grid(True)\n",
    "    ax = plt.gca()\n",
    "    ax.set_aspect('equal')\n"
   ]
  },
  {
   "cell_type": "code",
   "execution_count": 140,
   "metadata": {
    "colab": {
     "base_uri": "https://localhost:8080/",
     "height": 623
    },
    "colab_type": "code",
    "executionInfo": {
     "elapsed": 2102,
     "status": "ok",
     "timestamp": 1587415095842,
     "user": {
      "displayName": "Juan Diego Pineda Jaramillo",
      "photoUrl": "https://lh3.googleusercontent.com/a-/AOh14GiWYv7duq_lZS9TY5-G5ClYSRrM1EIU3InpNXGOa0M=s64",
      "userId": "16360626039831995063"
     },
     "user_tz": 300
    },
    "id": "0sAouVBj-RxK",
    "outputId": "eced9810-9c78-4aaa-d138-47e0df0b012f"
   },
   "outputs": [
    {
     "data": {
      "text/plain": [
       "<matplotlib.legend.Legend at 0x7f0d540e77f0>"
      ]
     },
     "execution_count": 140,
     "metadata": {},
     "output_type": "execute_result"
    },
    {
     "data": {
      "image/png": "[encoded data removed]",
      "text/plain": [
       "<Figure size 432x288 with 1 Axes>"
      ]
     },
     "metadata": {
      "needs_background": "light"
     },
     "output_type": "display_data"
    }
   ],
   "source": [
    "plot_roc(\"Train Baseline\", train_labels, train_predictions_baseline, color=colors[0])\n",
    "plot_roc(\"Test Baseline\", test_labels, test_predictions_baseline, color=colors[0], linestyle='--')\n",
    "plt.legend(loc='lower right')\n"
   ]
  },
  {
   "cell_type": "markdown",
   "metadata": {
    "colab_type": "text",
    "id": "1TpwfcMO-RxQ"
   },
   "source": [
    "It looks like the precision is relatively low, and the recall and the area under the ROC curve (AUC) aren't as high as you might like. Classifiers often face challenges when trying to maximize both precision and recall, which is especially true when working with imbalanced datasets. It is important to consider the costs of different types of errors in the context of the problem you care about. In this example, a false negative (a fraudulent non-serious accident) may have a cost, while a false positive (a serious accident is incorrectly flagged as non-serious) may generate a possible death of the victim."
   ]
  },
  {
   "cell_type": "markdown",
   "metadata": {
    "colab_type": "text",
    "id": "lcwZcw3b-RxQ"
   },
   "source": [
    "# Class weights"
   ]
  },
  {
   "cell_type": "markdown",
   "metadata": {
    "colab_type": "text",
    "id": "RPC3XtGq-RxS"
   },
   "source": [
    "## Calculate class weights"
   ]
  },
  {
   "cell_type": "markdown",
   "metadata": {
    "colab_type": "text",
    "id": "Di_HvAgj-RxS"
   },
   "source": [
    "The goal is to identify serious accidents, but you don't have very many of those positive samples to work with, so you would want to have the classifier heavily weight the few examples that are available. You can do this by passing Keras weights for each class through a parameter. These will cause the model to \"pay more attention\" to examples from an under-represented class."
   ]
  },
  {
   "cell_type": "code",
   "execution_count": 141,
   "metadata": {
    "colab": {
     "base_uri": "https://localhost:8080/",
     "height": 52
    },
    "colab_type": "code",
    "executionInfo": {
     "elapsed": 892,
     "status": "ok",
     "timestamp": 1587415173264,
     "user": {
      "displayName": "Juan Diego Pineda Jaramillo",
      "photoUrl": "https://lh3.googleusercontent.com/a-/AOh14GiWYv7duq_lZS9TY5-G5ClYSRrM1EIU3InpNXGOa0M=s64",
      "userId": "16360626039831995063"
     },
     "user_tz": 300
    },
    "id": "WtwvAvA--RxT",
    "outputId": "1a581813-d3ec-4ad6-c8ce-179684cc1e13"
   },
   "outputs": [
    {
     "name": "stdout",
     "output_type": "stream",
     "text": [
      "Weight for class 0: 0.51\n",
      "Weight for class 1: 43.03\n"
     ]
    }
   ],
   "source": [
    "# Scaling by total/2 helps keep the loss to a similar magnitude.\n",
    "# The sum of the weights of all examples stays the same.\n",
    "weight_for_0 = (1 / neg)*(total)/2.0 \n",
    "weight_for_1 = (1 / pos)*(total)/2.0\n",
    "\n",
    "class_weight = {0: weight_for_0, 1: weight_for_1}\n",
    "\n",
    "print('Weight for class 0: {:.2f}'.format(weight_for_0))\n",
    "print('Weight for class 1: {:.2f}'.format(weight_for_1))\n"
   ]
  },
  {
   "cell_type": "markdown",
   "metadata": {
    "colab_type": "text",
    "id": "AHNydLjM-RxX"
   },
   "source": [
    "## Train a model with class weights"
   ]
  },
  {
   "cell_type": "markdown",
   "metadata": {
    "colab_type": "text",
    "id": "rKQyREWL-RxY"
   },
   "source": [
    "Now try re-training and evaluating the model with class weights to see how that affects the predictions."
   ]
  },
  {
   "cell_type": "markdown",
   "metadata": {
    "colab_type": "text",
    "id": "rq4JrzUd-RxZ"
   },
   "source": [
    "**Note:** Using class_weights changes the range of the loss. This may affect the stability of the training depending on the optimizer. Optimizers whose step size is dependent on the magnitude of the gradient, like **optimizers.SGD**, may fail. The optimizer used here, **optimizers.Adam**, is unaffected by the scaling change. Also note that because of the weighting, the total losses are not comparable between the two models."
   ]
  },
  {
   "cell_type": "code",
   "execution_count": 142,
   "metadata": {
    "colab": {
     "base_uri": "https://localhost:8080/",
     "height": 1000
    },
    "colab_type": "code",
    "executionInfo": {
     "elapsed": 9194,
     "status": "ok",
     "timestamp": 1587415190092,
     "user": {
      "displayName": "Juan Diego Pineda Jaramillo",
      "photoUrl": "https://lh3.googleusercontent.com/a-/AOh14GiWYv7duq_lZS9TY5-G5ClYSRrM1EIU3InpNXGOa0M=s64",
      "userId": "16360626039831995063"
     },
     "user_tz": 300
    },
    "id": "LLdoDp6G-Rxb",
    "outputId": "23d602e1-b641-4e5c-8f42-d0ab58a9b449",
    "scrolled": true
   },
   "outputs": [
    {
     "name": "stdout",
     "output_type": "stream",
     "text": [
      "Train on 21426 samples, validate on 5357 samples\n",
      "Epoch 1/1000\n",
      "21426/21426 [==============================] - 3s 158us/sample - loss: 2.5822 - tp: 0.0000e+00 - fp: 0.0000e+00 - tn: 21177.0000 - fn: 249.0000 - accuracy: 0.9884 - precision: 0.0000e+00 - recall: 0.0000e+00 - auc: 0.4896 - val_loss: 2.5581 - val_tp: 0.0000e+00 - val_fp: 0.0000e+00 - val_tn: 5295.0000 - val_fn: 62.0000 - val_accuracy: 0.9884 - val_precision: 0.0000e+00 - val_recall: 0.0000e+00 - val_auc: 0.4444\n",
      "Epoch 2/1000\n",
      "21426/21426 [==============================] - 0s 15us/sample - loss: 2.5857 - tp: 0.0000e+00 - fp: 0.0000e+00 - tn: 21177.0000 - fn: 249.0000 - accuracy: 0.9884 - precision: 0.0000e+00 - recall: 0.0000e+00 - auc: 0.4577 - val_loss: 2.4933 - val_tp: 0.0000e+00 - val_fp: 0.0000e+00 - val_tn: 5295.0000 - val_fn: 62.0000 - val_accuracy: 0.9884 - val_precision: 0.0000e+00 - val_recall: 0.0000e+00 - val_auc: 0.4581\n",
      "Epoch 3/1000\n",
      "21426/21426 [==============================] - 0s 15us/sample - loss: 2.5230 - tp: 0.0000e+00 - fp: 0.0000e+00 - tn: 21177.0000 - fn: 249.0000 - accuracy: 0.9884 - precision: 0.0000e+00 - recall: 0.0000e+00 - auc: 0.4747 - val_loss: 2.4288 - val_tp: 0.0000e+00 - val_fp: 0.0000e+00 - val_tn: 5295.0000 - val_fn: 62.0000 - val_accuracy: 0.9884 - val_precision: 0.0000e+00 - val_recall: 0.0000e+00 - val_auc: 0.4862\n",
      "Epoch 4/1000\n",
      "21426/21426 [==============================] - 0s 18us/sample - loss: 2.4651 - tp: 0.0000e+00 - fp: 0.0000e+00 - tn: 21177.0000 - fn: 249.0000 - accuracy: 0.9884 - precision: 0.0000e+00 - recall: 0.0000e+00 - auc: 0.4784 - val_loss: 2.3632 - val_tp: 0.0000e+00 - val_fp: 0.0000e+00 - val_tn: 5295.0000 - val_fn: 62.0000 - val_accuracy: 0.9884 - val_precision: 0.0000e+00 - val_recall: 0.0000e+00 - val_auc: 0.5156\n",
      "Epoch 5/1000\n",
      "21426/21426 [==============================] - 0s 19us/sample - loss: 2.3457 - tp: 0.0000e+00 - fp: 0.0000e+00 - tn: 21177.0000 - fn: 249.0000 - accuracy: 0.9884 - precision: 0.0000e+00 - recall: 0.0000e+00 - auc: 0.5211 - val_loss: 2.2980 - val_tp: 0.0000e+00 - val_fp: 0.0000e+00 - val_tn: 5295.0000 - val_fn: 62.0000 - val_accuracy: 0.9884 - val_precision: 0.0000e+00 - val_recall: 0.0000e+00 - val_auc: 0.5145\n",
      "Epoch 6/1000\n",
      "21426/21426 [==============================] - 0s 21us/sample - loss: 2.2790 - tp: 0.0000e+00 - fp: 1.0000 - tn: 21176.0000 - fn: 249.0000 - accuracy: 0.9883 - precision: 0.0000e+00 - recall: 0.0000e+00 - auc: 0.5255 - val_loss: 2.2350 - val_tp: 0.0000e+00 - val_fp: 0.0000e+00 - val_tn: 5295.0000 - val_fn: 62.0000 - val_accuracy: 0.9884 - val_precision: 0.0000e+00 - val_recall: 0.0000e+00 - val_auc: 0.5683\n",
      "Epoch 7/1000\n",
      "21426/21426 [==============================] - 0s 22us/sample - loss: 2.2530 - tp: 0.0000e+00 - fp: 0.0000e+00 - tn: 21177.0000 - fn: 249.0000 - accuracy: 0.9884 - precision: 0.0000e+00 - recall: 0.0000e+00 - auc: 0.5371 - val_loss: 2.1724 - val_tp: 0.0000e+00 - val_fp: 0.0000e+00 - val_tn: 5295.0000 - val_fn: 62.0000 - val_accuracy: 0.9884 - val_precision: 0.0000e+00 - val_recall: 0.0000e+00 - val_auc: 0.5959\n",
      "Epoch 8/1000\n",
      "21426/21426 [==============================] - 0s 13us/sample - loss: 2.2257 - tp: 0.0000e+00 - fp: 1.0000 - tn: 21176.0000 - fn: 249.0000 - accuracy: 0.9883 - precision: 0.0000e+00 - recall: 0.0000e+00 - auc: 0.5231 - val_loss: 2.1093 - val_tp: 0.0000e+00 - val_fp: 0.0000e+00 - val_tn: 5295.0000 - val_fn: 62.0000 - val_accuracy: 0.9884 - val_precision: 0.0000e+00 - val_recall: 0.0000e+00 - val_auc: 0.6144\n",
      "Epoch 9/1000\n",
      "21426/21426 [==============================] - 0s 19us/sample - loss: 2.0960 - tp: 1.0000 - fp: 3.0000 - tn: 21174.0000 - fn: 248.0000 - accuracy: 0.9883 - precision: 0.2500 - recall: 0.0040 - auc: 0.5628 - val_loss: 2.0451 - val_tp: 0.0000e+00 - val_fp: 0.0000e+00 - val_tn: 5295.0000 - val_fn: 62.0000 - val_accuracy: 0.9884 - val_precision: 0.0000e+00 - val_recall: 0.0000e+00 - val_auc: 0.6300\n",
      "Epoch 10/1000\n",
      "21426/21426 [==============================] - 0s 14us/sample - loss: 2.1074 - tp: 0.0000e+00 - fp: 7.0000 - tn: 21170.0000 - fn: 249.0000 - accuracy: 0.9881 - precision: 0.0000e+00 - recall: 0.0000e+00 - auc: 0.5436 - val_loss: 1.9837 - val_tp: 0.0000e+00 - val_fp: 0.0000e+00 - val_tn: 5295.0000 - val_fn: 62.0000 - val_accuracy: 0.9884 - val_precision: 0.0000e+00 - val_recall: 0.0000e+00 - val_auc: 0.6445\n",
      "Epoch 11/1000\n",
      "21426/21426 [==============================] - 0s 18us/sample - loss: 2.0208 - tp: 1.0000 - fp: 4.0000 - tn: 21173.0000 - fn: 248.0000 - accuracy: 0.9882 - precision: 0.2000 - recall: 0.0040 - auc: 0.5725 - val_loss: 1.9220 - val_tp: 0.0000e+00 - val_fp: 0.0000e+00 - val_tn: 5295.0000 - val_fn: 62.0000 - val_accuracy: 0.9884 - val_precision: 0.0000e+00 - val_recall: 0.0000e+00 - val_auc: 0.6556\n",
      "Epoch 12/1000\n",
      "21426/21426 [==============================] - 0s 15us/sample - loss: 1.9818 - tp: 1.0000 - fp: 15.0000 - tn: 21162.0000 - fn: 248.0000 - accuracy: 0.9877 - precision: 0.0625 - recall: 0.0040 - auc: 0.5700 - val_loss: 1.8604 - val_tp: 0.0000e+00 - val_fp: 0.0000e+00 - val_tn: 5295.0000 - val_fn: 62.0000 - val_accuracy: 0.9884 - val_precision: 0.0000e+00 - val_recall: 0.0000e+00 - val_auc: 0.6704\n",
      "Epoch 13/1000\n",
      "21426/21426 [==============================] - 0s 19us/sample - loss: 1.8769 - tp: 2.0000 - fp: 33.0000 - tn: 21144.0000 - fn: 247.0000 - accuracy: 0.9869 - precision: 0.0571 - recall: 0.0080 - auc: 0.5955 - val_loss: 1.8007 - val_tp: 0.0000e+00 - val_fp: 0.0000e+00 - val_tn: 5295.0000 - val_fn: 62.0000 - val_accuracy: 0.9884 - val_precision: 0.0000e+00 - val_recall: 0.0000e+00 - val_auc: 0.6727\n",
      "Epoch 14/1000\n",
      "21426/21426 [==============================] - 0s 16us/sample - loss: 1.8570 - tp: 5.0000 - fp: 37.0000 - tn: 21140.0000 - fn: 244.0000 - accuracy: 0.9869 - precision: 0.1190 - recall: 0.0201 - auc: 0.5837 - val_loss: 1.7392 - val_tp: 0.0000e+00 - val_fp: 0.0000e+00 - val_tn: 5295.0000 - val_fn: 62.0000 - val_accuracy: 0.9884 - val_precision: 0.0000e+00 - val_recall: 0.0000e+00 - val_auc: 0.6729\n",
      "Epoch 15/1000\n",
      "21426/21426 [==============================] - 0s 17us/sample - loss: 1.7983 - tp: 2.0000 - fp: 90.0000 - tn: 21087.0000 - fn: 247.0000 - accuracy: 0.9843 - precision: 0.0217 - recall: 0.0080 - auc: 0.5943 - val_loss: 1.6815 - val_tp: 0.0000e+00 - val_fp: 0.0000e+00 - val_tn: 5295.0000 - val_fn: 62.0000 - val_accuracy: 0.9884 - val_precision: 0.0000e+00 - val_recall: 0.0000e+00 - val_auc: 0.7074\n",
      "Epoch 16/1000\n",
      "21426/21426 [==============================] - 0s 14us/sample - loss: 1.7631 - tp: 4.0000 - fp: 110.0000 - tn: 21067.0000 - fn: 245.0000 - accuracy: 0.9834 - precision: 0.0351 - recall: 0.0161 - auc: 0.6069 - val_loss: 1.6241 - val_tp: 0.0000e+00 - val_fp: 0.0000e+00 - val_tn: 5295.0000 - val_fn: 62.0000 - val_accuracy: 0.9884 - val_precision: 0.0000e+00 - val_recall: 0.0000e+00 - val_auc: 0.7040\n",
      "Epoch 17/1000\n",
      "21426/21426 [==============================] - 0s 18us/sample - loss: 1.7091 - tp: 5.0000 - fp: 150.0000 - tn: 21027.0000 - fn: 244.0000 - accuracy: 0.9816 - precision: 0.0323 - recall: 0.0201 - auc: 0.6038 - val_loss: 1.5668 - val_tp: 0.0000e+00 - val_fp: 0.0000e+00 - val_tn: 5295.0000 - val_fn: 62.0000 - val_accuracy: 0.9884 - val_precision: 0.0000e+00 - val_recall: 0.0000e+00 - val_auc: 0.7067\n",
      "Epoch 18/1000\n",
      "21426/21426 [==============================] - 0s 18us/sample - loss: 1.5978 - tp: 8.0000 - fp: 234.0000 - tn: 20943.0000 - fn: 241.0000 - accuracy: 0.9778 - precision: 0.0331 - recall: 0.0321 - auc: 0.6479 - val_loss: 1.5068 - val_tp: 0.0000e+00 - val_fp: 0.0000e+00 - val_tn: 5295.0000 - val_fn: 62.0000 - val_accuracy: 0.9884 - val_precision: 0.0000e+00 - val_recall: 0.0000e+00 - val_auc: 0.7085\n",
      "Epoch 19/1000\n",
      "21426/21426 [==============================] - 0s 16us/sample - loss: 1.5988 - tp: 12.0000 - fp: 281.0000 - tn: 20896.0000 - fn: 237.0000 - accuracy: 0.9758 - precision: 0.0410 - recall: 0.0482 - auc: 0.6278 - val_loss: 1.4502 - val_tp: 0.0000e+00 - val_fp: 2.0000 - val_tn: 5293.0000 - val_fn: 62.0000 - val_accuracy: 0.9881 - val_precision: 0.0000e+00 - val_recall: 0.0000e+00 - val_auc: 0.7146\n",
      "Epoch 20/1000\n",
      "21426/21426 [==============================] - 0s 14us/sample - loss: 1.5425 - tp: 14.0000 - fp: 372.0000 - tn: 20805.0000 - fn: 235.0000 - accuracy: 0.9717 - precision: 0.0363 - recall: 0.0562 - auc: 0.6404 - val_loss: 1.3968 - val_tp: 0.0000e+00 - val_fp: 3.0000 - val_tn: 5292.0000 - val_fn: 62.0000 - val_accuracy: 0.9879 - val_precision: 0.0000e+00 - val_recall: 0.0000e+00 - val_auc: 0.7213\n",
      "Epoch 21/1000\n",
      "21426/21426 [==============================] - 0s 13us/sample - loss: 1.5492 - tp: 21.0000 - fp: 432.0000 - tn: 20745.0000 - fn: 228.0000 - accuracy: 0.9692 - precision: 0.0464 - recall: 0.0843 - auc: 0.6220 - val_loss: 1.3449 - val_tp: 1.0000 - val_fp: 5.0000 - val_tn: 5290.0000 - val_fn: 61.0000 - val_accuracy: 0.9877 - val_precision: 0.1667 - val_recall: 0.0161 - val_auc: 0.7226\n",
      "Epoch 22/1000\n",
      "21426/21426 [==============================] - 0s 16us/sample - loss: 1.4845 - tp: 19.0000 - fp: 532.0000 - tn: 20645.0000 - fn: 230.0000 - accuracy: 0.9644 - precision: 0.0345 - recall: 0.0763 - auc: 0.6373 - val_loss: 1.2953 - val_tp: 1.0000 - val_fp: 8.0000 - val_tn: 5287.0000 - val_fn: 61.0000 - val_accuracy: 0.9871 - val_precision: 0.1111 - val_recall: 0.0161 - val_auc: 0.7231\n",
      "Epoch 23/1000\n",
      "21426/21426 [==============================] - 0s 15us/sample - loss: 1.4195 - tp: 26.0000 - fp: 638.0000 - tn: 20539.0000 - fn: 223.0000 - accuracy: 0.9598 - precision: 0.0392 - recall: 0.1044 - auc: 0.6514 - val_loss: 1.2495 - val_tp: 2.0000 - val_fp: 12.0000 - val_tn: 5283.0000 - val_fn: 60.0000 - val_accuracy: 0.9866 - val_precision: 0.1429 - val_recall: 0.0323 - val_auc: 0.7308\n",
      "Epoch 24/1000\n",
      "21426/21426 [==============================] - 0s 14us/sample - loss: 1.3738 - tp: 37.0000 - fp: 699.0000 - tn: 20478.0000 - fn: 212.0000 - accuracy: 0.9575 - precision: 0.0503 - recall: 0.1486 - auc: 0.6524 - val_loss: 1.2066 - val_tp: 3.0000 - val_fp: 27.0000 - val_tn: 5268.0000 - val_fn: 59.0000 - val_accuracy: 0.9839 - val_precision: 0.1000 - val_recall: 0.0484 - val_auc: 0.7323\n",
      "Epoch 25/1000\n",
      "21426/21426 [==============================] - 0s 14us/sample - loss: 1.3702 - tp: 36.0000 - fp: 855.0000 - tn: 20322.0000 - fn: 213.0000 - accuracy: 0.9502 - precision: 0.0404 - recall: 0.1446 - auc: 0.6464 - val_loss: 1.1674 - val_tp: 4.0000 - val_fp: 41.0000 - val_tn: 5254.0000 - val_fn: 58.0000 - val_accuracy: 0.9815 - val_precision: 0.0889 - val_recall: 0.0645 - val_auc: 0.7329\n",
      "Epoch 26/1000\n",
      "21426/21426 [==============================] - 0s 14us/sample - loss: 1.2836 - tp: 43.0000 - fp: 923.0000 - tn: 20254.0000 - fn: 206.0000 - accuracy: 0.9473 - precision: 0.0445 - recall: 0.1727 - auc: 0.6694 - val_loss: 1.1307 - val_tp: 5.0000 - val_fp: 55.0000 - val_tn: 5240.0000 - val_fn: 57.0000 - val_accuracy: 0.9791 - val_precision: 0.0833 - val_recall: 0.0806 - val_auc: 0.7346\n",
      "Epoch 27/1000\n",
      "21426/21426 [==============================] - 0s 14us/sample - loss: 1.3374 - tp: 36.0000 - fp: 1003.0000 - tn: 20174.0000 - fn: 213.0000 - accuracy: 0.9432 - precision: 0.0346 - recall: 0.1446 - auc: 0.6444 - val_loss: 1.0945 - val_tp: 7.0000 - val_fp: 77.0000 - val_tn: 5218.0000 - val_fn: 55.0000 - val_accuracy: 0.9754 - val_precision: 0.0833 - val_recall: 0.1129 - val_auc: 0.7368\n",
      "Epoch 28/1000\n",
      "21426/21426 [==============================] - 0s 16us/sample - loss: 1.2465 - tp: 53.0000 - fp: 1136.0000 - tn: 20041.0000 - fn: 196.0000 - accuracy: 0.9378 - precision: 0.0446 - recall: 0.2129 - auc: 0.6639 - val_loss: 1.0641 - val_tp: 12.0000 - val_fp: 102.0000 - val_tn: 5193.0000 - val_fn: 50.0000 - val_accuracy: 0.9716 - val_precision: 0.1053 - val_recall: 0.1935 - val_auc: 0.7403\n",
      "Epoch 29/1000\n",
      "21426/21426 [==============================] - 0s 15us/sample - loss: 1.2060 - tp: 53.0000 - fp: 1264.0000 - tn: 19913.0000 - fn: 196.0000 - accuracy: 0.9319 - precision: 0.0402 - recall: 0.2129 - auc: 0.6724 - val_loss: 1.0367 - val_tp: 18.0000 - val_fp: 164.0000 - val_tn: 5131.0000 - val_fn: 44.0000 - val_accuracy: 0.9612 - val_precision: 0.0989 - val_recall: 0.2903 - val_auc: 0.7419\n",
      "Epoch 30/1000\n",
      "21426/21426 [==============================] - 0s 12us/sample - loss: 1.2606 - tp: 54.0000 - fp: 1408.0000 - tn: 19769.0000 - fn: 195.0000 - accuracy: 0.9252 - precision: 0.0369 - recall: 0.2169 - auc: 0.6502 - val_loss: 1.0093 - val_tp: 18.0000 - val_fp: 178.0000 - val_tn: 5117.0000 - val_fn: 44.0000 - val_accuracy: 0.9586 - val_precision: 0.0918 - val_recall: 0.2903 - val_auc: 0.7433\n",
      "Epoch 31/1000\n",
      "21426/21426 [==============================] - 0s 15us/sample - loss: 1.1900 - tp: 65.0000 - fp: 1527.0000 - tn: 19650.0000 - fn: 184.0000 - accuracy: 0.9201 - precision: 0.0408 - recall: 0.2610 - auc: 0.6637 - val_loss: 0.9850 - val_tp: 18.0000 - val_fp: 214.0000 - val_tn: 5081.0000 - val_fn: 44.0000 - val_accuracy: 0.9518 - val_precision: 0.0776 - val_recall: 0.2903 - val_auc: 0.7436\n",
      "Epoch 32/1000\n",
      "21426/21426 [==============================] - 0s 20us/sample - loss: 1.1888 - tp: 62.0000 - fp: 1529.0000 - tn: 19648.0000 - fn: 187.0000 - accuracy: 0.9199 - precision: 0.0390 - recall: 0.2490 - auc: 0.6618 - val_loss: 0.9614 - val_tp: 18.0000 - val_fp: 236.0000 - val_tn: 5059.0000 - val_fn: 44.0000 - val_accuracy: 0.9477 - val_precision: 0.0709 - val_recall: 0.2903 - val_auc: 0.7413\n",
      "Epoch 33/1000\n",
      "21426/21426 [==============================] - 0s 16us/sample - loss: 1.1725 - tp: 58.0000 - fp: 1729.0000 - tn: 19448.0000 - fn: 191.0000 - accuracy: 0.9104 - precision: 0.0325 - recall: 0.2329 - auc: 0.6670 - val_loss: 0.9399 - val_tp: 19.0000 - val_fp: 260.0000 - val_tn: 5035.0000 - val_fn: 43.0000 - val_accuracy: 0.9434 - val_precision: 0.0681 - val_recall: 0.3065 - val_auc: 0.7432\n",
      "Epoch 34/1000\n",
      "21426/21426 [==============================] - 0s 17us/sample - loss: 1.1466 - tp: 70.0000 - fp: 1809.0000 - tn: 19368.0000 - fn: 179.0000 - accuracy: 0.9072 - precision: 0.0373 - recall: 0.2811 - auc: 0.6644 - val_loss: 0.9205 - val_tp: 20.0000 - val_fp: 270.0000 - val_tn: 5025.0000 - val_fn: 42.0000 - val_accuracy: 0.9418 - val_precision: 0.0690 - val_recall: 0.3226 - val_auc: 0.7446\n",
      "Epoch 35/1000\n",
      "21426/21426 [==============================] - 0s 17us/sample - loss: 1.1310 - tp: 72.0000 - fp: 1937.0000 - tn: 19240.0000 - fn: 177.0000 - accuracy: 0.9013 - precision: 0.0358 - recall: 0.2892 - auc: 0.6713 - val_loss: 0.9026 - val_tp: 21.0000 - val_fp: 290.0000 - val_tn: 5005.0000 - val_fn: 41.0000 - val_accuracy: 0.9382 - val_precision: 0.0675 - val_recall: 0.3387 - val_auc: 0.7456\n",
      "Epoch 36/1000\n",
      "21426/21426 [==============================] - 0s 22us/sample - loss: 1.1035 - tp: 78.0000 - fp: 2076.0000 - tn: 19101.0000 - fn: 171.0000 - accuracy: 0.8951 - precision: 0.0362 - recall: 0.3133 - auc: 0.6721 - val_loss: 0.8859 - val_tp: 21.0000 - val_fp: 308.0000 - val_tn: 4987.0000 - val_fn: 41.0000 - val_accuracy: 0.9349 - val_precision: 0.0638 - val_recall: 0.3387 - val_auc: 0.7464\n",
      "Epoch 37/1000\n",
      "21426/21426 [==============================] - 0s 15us/sample - loss: 1.0583 - tp: 77.0000 - fp: 2146.0000 - tn: 19031.0000 - fn: 172.0000 - accuracy: 0.8918 - precision: 0.0346 - recall: 0.3092 - auc: 0.6882 - val_loss: 0.8706 - val_tp: 22.0000 - val_fp: 321.0000 - val_tn: 4974.0000 - val_fn: 40.0000 - val_accuracy: 0.9326 - val_precision: 0.0641 - val_recall: 0.3548 - val_auc: 0.7456\n",
      "Epoch 38/1000\n",
      "21426/21426 [==============================] - 0s 18us/sample - loss: 1.1069 - tp: 73.0000 - fp: 2243.0000 - tn: 18934.0000 - fn: 176.0000 - accuracy: 0.8871 - precision: 0.0315 - recall: 0.2932 - auc: 0.6668 - val_loss: 0.8568 - val_tp: 22.0000 - val_fp: 351.0000 - val_tn: 4944.0000 - val_fn: 40.0000 - val_accuracy: 0.9270 - val_precision: 0.0590 - val_recall: 0.3548 - val_auc: 0.7452\n",
      "Epoch 39/1000\n",
      "21426/21426 [==============================] - 0s 16us/sample - loss: 1.1425 - tp: 75.0000 - fp: 2298.0000 - tn: 18879.0000 - fn: 174.0000 - accuracy: 0.8846 - precision: 0.0316 - recall: 0.3012 - auc: 0.6463 - val_loss: 0.8443 - val_tp: 24.0000 - val_fp: 388.0000 - val_tn: 4907.0000 - val_fn: 38.0000 - val_accuracy: 0.9205 - val_precision: 0.0583 - val_recall: 0.3871 - val_auc: 0.7454\n",
      "Epoch 40/1000\n",
      "21426/21426 [==============================] - 0s 14us/sample - loss: 1.0357 - tp: 83.0000 - fp: 2424.0000 - tn: 18753.0000 - fn: 166.0000 - accuracy: 0.8791 - precision: 0.0331 - recall: 0.3333 - auc: 0.6872 - val_loss: 0.8329 - val_tp: 24.0000 - val_fp: 401.0000 - val_tn: 4894.0000 - val_fn: 38.0000 - val_accuracy: 0.9181 - val_precision: 0.0565 - val_recall: 0.3871 - val_auc: 0.7487\n",
      "Epoch 41/1000\n",
      "21426/21426 [==============================] - 0s 16us/sample - loss: 1.0186 - tp: 100.0000 - fp: 2534.0000 - tn: 18643.0000 - fn: 149.0000 - accuracy: 0.8748 - precision: 0.0380 - recall: 0.4016 - auc: 0.6853 - val_loss: 0.8229 - val_tp: 25.0000 - val_fp: 490.0000 - val_tn: 4805.0000 - val_fn: 37.0000 - val_accuracy: 0.9016 - val_precision: 0.0485 - val_recall: 0.4032 - val_auc: 0.7484\n",
      "Epoch 42/1000\n",
      "21426/21426 [==============================] - 0s 19us/sample - loss: 1.0179 - tp: 83.0000 - fp: 2644.0000 - tn: 18533.0000 - fn: 166.0000 - accuracy: 0.8689 - precision: 0.0304 - recall: 0.3333 - auc: 0.6896 - val_loss: 0.8136 - val_tp: 25.0000 - val_fp: 498.0000 - val_tn: 4797.0000 - val_fn: 37.0000 - val_accuracy: 0.9001 - val_precision: 0.0478 - val_recall: 0.4032 - val_auc: 0.7485\n",
      "Epoch 43/1000\n",
      "21426/21426 [==============================] - 0s 19us/sample - loss: 1.0714 - tp: 84.0000 - fp: 2734.0000 - tn: 18443.0000 - fn: 165.0000 - accuracy: 0.8647 - precision: 0.0298 - recall: 0.3373 - auc: 0.6615 - val_loss: 0.8048 - val_tp: 26.0000 - val_fp: 516.0000 - val_tn: 4779.0000 - val_fn: 36.0000 - val_accuracy: 0.8970 - val_precision: 0.0480 - val_recall: 0.4194 - val_auc: 0.7482\n",
      "Epoch 44/1000\n",
      "21426/21426 [==============================] - 1s 23us/sample - loss: 0.9928 - tp: 91.0000 - fp: 2756.0000 - tn: 18421.0000 - fn: 158.0000 - accuracy: 0.8640 - precision: 0.0320 - recall: 0.3655 - auc: 0.6918 - val_loss: 0.7964 - val_tp: 26.0000 - val_fp: 534.0000 - val_tn: 4761.0000 - val_fn: 36.0000 - val_accuracy: 0.8936 - val_precision: 0.0464 - val_recall: 0.4194 - val_auc: 0.7488\n",
      "Epoch 45/1000\n",
      "21426/21426 [==============================] - 1s 24us/sample - loss: 1.0129 - tp: 98.0000 - fp: 2895.0000 - tn: 18282.0000 - fn: 151.0000 - accuracy: 0.8578 - precision: 0.0327 - recall: 0.3936 - auc: 0.6805 - val_loss: 0.7888 - val_tp: 26.0000 - val_fp: 546.0000 - val_tn: 4749.0000 - val_fn: 36.0000 - val_accuracy: 0.8914 - val_precision: 0.0455 - val_recall: 0.4194 - val_auc: 0.7489\n",
      "Epoch 46/1000\n",
      "21426/21426 [==============================] - 0s 19us/sample - loss: 1.0157 - tp: 91.0000 - fp: 3008.0000 - tn: 18169.0000 - fn: 158.0000 - accuracy: 0.8522 - precision: 0.0294 - recall: 0.3655 - auc: 0.6777 - val_loss: 0.7813 - val_tp: 26.0000 - val_fp: 558.0000 - val_tn: 4737.0000 - val_fn: 36.0000 - val_accuracy: 0.8891 - val_precision: 0.0445 - val_recall: 0.4194 - val_auc: 0.7483\n",
      "Epoch 47/1000\n",
      "21426/21426 [==============================] - 0s 16us/sample - loss: 1.0465 - tp: 84.0000 - fp: 3118.0000 - tn: 18059.0000 - fn: 165.0000 - accuracy: 0.8468 - precision: 0.0262 - recall: 0.3373 - auc: 0.6685 - val_loss: 0.7753 - val_tp: 26.0000 - val_fp: 565.0000 - val_tn: 4730.0000 - val_fn: 36.0000 - val_accuracy: 0.8878 - val_precision: 0.0440 - val_recall: 0.4194 - val_auc: 0.7482\n",
      "Epoch 48/1000\n",
      "21426/21426 [==============================] - 0s 21us/sample - loss: 1.0232 - tp: 91.0000 - fp: 3172.0000 - tn: 18005.0000 - fn: 158.0000 - accuracy: 0.8446 - precision: 0.0279 - recall: 0.3655 - auc: 0.6704 - val_loss: 0.7697 - val_tp: 27.0000 - val_fp: 580.0000 - val_tn: 4715.0000 - val_fn: 35.0000 - val_accuracy: 0.8852 - val_precision: 0.0445 - val_recall: 0.4355 - val_auc: 0.7492\n",
      "Epoch 49/1000\n",
      "21426/21426 [==============================] - 0s 14us/sample - loss: 0.9948 - tp: 102.0000 - fp: 3276.0000 - tn: 17901.0000 - fn: 147.0000 - accuracy: 0.8402 - precision: 0.0302 - recall: 0.4096 - auc: 0.6805 - val_loss: 0.7634 - val_tp: 27.0000 - val_fp: 594.0000 - val_tn: 4701.0000 - val_fn: 35.0000 - val_accuracy: 0.8826 - val_precision: 0.0435 - val_recall: 0.4355 - val_auc: 0.7489\n",
      "Epoch 50/1000\n",
      "21426/21426 [==============================] - 0s 15us/sample - loss: 1.0147 - tp: 95.0000 - fp: 3275.0000 - tn: 17902.0000 - fn: 154.0000 - accuracy: 0.8400 - precision: 0.0282 - recall: 0.3815 - auc: 0.6700 - val_loss: 0.7584 - val_tp: 27.0000 - val_fp: 607.0000 - val_tn: 4688.0000 - val_fn: 35.0000 - val_accuracy: 0.8802 - val_precision: 0.0426 - val_recall: 0.4355 - val_auc: 0.7499\n",
      "Epoch 51/1000\n",
      "21426/21426 [==============================] - 0s 19us/sample - loss: 1.0215 - tp: 93.0000 - fp: 3397.0000 - tn: 17780.0000 - fn: 156.0000 - accuracy: 0.8342 - precision: 0.0266 - recall: 0.3735 - auc: 0.6673 - val_loss: 0.7535 - val_tp: 27.0000 - val_fp: 611.0000 - val_tn: 4684.0000 - val_fn: 35.0000 - val_accuracy: 0.8794 - val_precision: 0.0423 - val_recall: 0.4355 - val_auc: 0.7487\n",
      "Epoch 52/1000\n",
      "21426/21426 [==============================] - 0s 17us/sample - loss: 0.9051 - tp: 113.0000 - fp: 3457.0000 - tn: 17720.0000 - fn: 136.0000 - accuracy: 0.8323 - precision: 0.0317 - recall: 0.4538 - auc: 0.7099 - val_loss: 0.7492 - val_tp: 27.0000 - val_fp: 614.0000 - val_tn: 4681.0000 - val_fn: 35.0000 - val_accuracy: 0.8789 - val_precision: 0.0421 - val_recall: 0.4355 - val_auc: 0.7483\n",
      "Epoch 53/1000\n",
      "21426/21426 [==============================] - 0s 21us/sample - loss: 0.9510 - tp: 100.0000 - fp: 3476.0000 - tn: 17701.0000 - fn: 149.0000 - accuracy: 0.8308 - precision: 0.0280 - recall: 0.4016 - auc: 0.6953 - val_loss: 0.7450 - val_tp: 27.0000 - val_fp: 655.0000 - val_tn: 4640.0000 - val_fn: 35.0000 - val_accuracy: 0.8712 - val_precision: 0.0396 - val_recall: 0.4355 - val_auc: 0.7498\n",
      "Epoch 54/1000\n",
      "21426/21426 [==============================] - 0s 17us/sample - loss: 0.9671 - tp: 101.0000 - fp: 3524.0000 - tn: 17653.0000 - fn: 148.0000 - accuracy: 0.8286 - precision: 0.0279 - recall: 0.4056 - auc: 0.6833 - val_loss: 0.7406 - val_tp: 28.0000 - val_fp: 680.0000 - val_tn: 4615.0000 - val_fn: 34.0000 - val_accuracy: 0.8667 - val_precision: 0.0395 - val_recall: 0.4516 - val_auc: 0.7495\n",
      "Epoch 55/1000\n",
      "21426/21426 [==============================] - 0s 18us/sample - loss: 1.0119 - tp: 93.0000 - fp: 3556.0000 - tn: 17621.0000 - fn: 156.0000 - accuracy: 0.8268 - precision: 0.0255 - recall: 0.3735 - auc: 0.6645 - val_loss: 0.7370 - val_tp: 28.0000 - val_fp: 692.0000 - val_tn: 4603.0000 - val_fn: 34.0000 - val_accuracy: 0.8645 - val_precision: 0.0389 - val_recall: 0.4516 - val_auc: 0.7491\n",
      "Epoch 56/1000\n",
      "21426/21426 [==============================] - 0s 17us/sample - loss: 0.9368 - tp: 108.0000 - fp: 3564.0000 - tn: 17613.0000 - fn: 141.0000 - accuracy: 0.8271 - precision: 0.0294 - recall: 0.4337 - auc: 0.6937 - val_loss: 0.7334 - val_tp: 28.0000 - val_fp: 694.0000 - val_tn: 4601.0000 - val_fn: 34.0000 - val_accuracy: 0.8641 - val_precision: 0.0388 - val_recall: 0.4516 - val_auc: 0.7492\n",
      "Epoch 57/1000\n",
      "21426/21426 [==============================] - 0s 15us/sample - loss: 0.9774 - tp: 102.0000 - fp: 3729.0000 - tn: 17448.0000 - fn: 147.0000 - accuracy: 0.8191 - precision: 0.0266 - recall: 0.4096 - auc: 0.6746 - val_loss: 0.7304 - val_tp: 28.0000 - val_fp: 694.0000 - val_tn: 4601.0000 - val_fn: 34.0000 - val_accuracy: 0.8641 - val_precision: 0.0388 - val_recall: 0.4516 - val_auc: 0.7492\n",
      "Epoch 58/1000\n",
      "21426/21426 [==============================] - 0s 18us/sample - loss: 0.9453 - tp: 105.0000 - fp: 3754.0000 - tn: 17423.0000 - fn: 144.0000 - accuracy: 0.8181 - precision: 0.0272 - recall: 0.4217 - auc: 0.6850 - val_loss: 0.7275 - val_tp: 28.0000 - val_fp: 714.0000 - val_tn: 4581.0000 - val_fn: 34.0000 - val_accuracy: 0.8604 - val_precision: 0.0377 - val_recall: 0.4516 - val_auc: 0.7495\n",
      "Epoch 59/1000\n",
      "21426/21426 [==============================] - 0s 17us/sample - loss: 0.9255 - tp: 115.0000 - fp: 3755.0000 - tn: 17422.0000 - fn: 134.0000 - accuracy: 0.8185 - precision: 0.0297 - recall: 0.4618 - auc: 0.6920 - val_loss: 0.7249 - val_tp: 28.0000 - val_fp: 719.0000 - val_tn: 4576.0000 - val_fn: 34.0000 - val_accuracy: 0.8594 - val_precision: 0.0375 - val_recall: 0.4516 - val_auc: 0.7498\n",
      "Epoch 60/1000\n",
      "20480/21426 [===========================>..] - ETA: 0s - loss: 0.9520 - tp: 101.0000 - fp: 3693.0000 - tn: 16551.0000 - fn: 135.0000 - accuracy: 0.8131 - precision: 0.0266 - recall: 0.4280 - auc: 0.6768Restoring model weights from the end of the best epoch.\n",
      "21426/21426 [==============================] - 0s 16us/sample - loss: 0.9642 - tp: 102.0000 - fp: 3864.0000 - tn: 17313.0000 - fn: 147.0000 - accuracy: 0.8128 - precision: 0.0257 - recall: 0.4096 - auc: 0.6740 - val_loss: 0.7225 - val_tp: 28.0000 - val_fp: 719.0000 - val_tn: 4576.0000 - val_fn: 34.0000 - val_accuracy: 0.8594 - val_precision: 0.0375 - val_recall: 0.4516 - val_auc: 0.7486\n",
      "Epoch 00060: early stopping\n"
     ]
    }
   ],
   "source": [
    "weighted_model = make_model()\n",
    "weighted_model.load_weights(initial_weights)\n",
    "\n",
    "weighted_history = weighted_model.fit(\n",
    "    train_features,\n",
    "    train_labels,\n",
    "    batch_size=BATCH_SIZE,\n",
    "    epochs=EPOCHS,\n",
    "    callbacks = [early_stopping],\n",
    "    validation_data=(val_features, val_labels),\n",
    "    # The class weights go here\n",
    "    class_weight=class_weight) "
   ]
  },
  {
   "cell_type": "markdown",
   "metadata": {
    "colab_type": "text",
    "id": "ZI7sqlNZ-Rxg"
   },
   "source": [
    "## Check training history"
   ]
  },
  {
   "cell_type": "code",
   "execution_count": 143,
   "metadata": {
    "colab": {
     "base_uri": "https://localhost:8080/",
     "height": 610
    },
    "colab_type": "code",
    "executionInfo": {
     "elapsed": 2126,
     "status": "ok",
     "timestamp": 1587415203091,
     "user": {
      "displayName": "Juan Diego Pineda Jaramillo",
      "photoUrl": "https://lh3.googleusercontent.com/a-/AOh14GiWYv7duq_lZS9TY5-G5ClYSRrM1EIU3InpNXGOa0M=s64",
      "userId": "16360626039831995063"
     },
     "user_tz": 300
    },
    "id": "NM612Fga-Rxg",
    "outputId": "9c828059-3950-4289-a499-2b04aa687e03"
   },
   "outputs": [
    {
     "data": {
      "image/png": "[encoded data removed]",
      "text/plain": [
       "<Figure size 432x288 with 4 Axes>"
      ]
     },
     "metadata": {
      "needs_background": "light"
     },
     "output_type": "display_data"
    }
   ],
   "source": [
    "plot_metrics(weighted_history)\n"
   ]
  },
  {
   "cell_type": "markdown",
   "metadata": {
    "colab_type": "text",
    "id": "dO5ZrGt2-Rxl"
   },
   "source": [
    "## Evaluate metrics"
   ]
  },
  {
   "cell_type": "code",
   "execution_count": 144,
   "metadata": {
    "colab": {},
    "colab_type": "code",
    "id": "bm03OpB0-Rxm"
   },
   "outputs": [],
   "source": [
    "train_predictions_weighted = weighted_model.predict(train_features, batch_size=BATCH_SIZE)\n",
    "test_predictions_weighted = weighted_model.predict(test_features, batch_size=BATCH_SIZE)\n"
   ]
  },
  {
   "cell_type": "code",
   "execution_count": 145,
   "metadata": {
    "colab": {
     "base_uri": "https://localhost:8080/",
     "height": 611
    },
    "colab_type": "code",
    "executionInfo": {
     "elapsed": 925,
     "status": "ok",
     "timestamp": 1587415309591,
     "user": {
      "displayName": "Juan Diego Pineda Jaramillo",
      "photoUrl": "https://lh3.googleusercontent.com/a-/AOh14GiWYv7duq_lZS9TY5-G5ClYSRrM1EIU3InpNXGOa0M=s64",
      "userId": "16360626039831995063"
     },
     "user_tz": 300
    },
    "id": "S8AO9SLO-Rxr",
    "outputId": "7a6dffa5-ef37-4b36-ac5f-404990650fb8"
   },
   "outputs": [
    {
     "name": "stdout",
     "output_type": "stream",
     "text": [
      "loss :  0.3023186194640334\n",
      "tp :  40.0\n",
      "fp :  709.0\n",
      "tn :  5909.0\n",
      "fn :  38.0\n",
      "accuracy :  0.88844085\n",
      "precision :  0.05340454\n",
      "recall :  0.51282054\n",
      "auc :  0.7776004\n",
      "\n",
      "Injuries Detected (True Negatives):  5909\n",
      "Injuries Incorrectly Detected (False Positives):  709\n",
      "Deaths Missed (False Negatives):  38\n",
      "Deaths Detected (True Positives):  40\n",
      "Total Victims:  78\n"
     ]
    },
    {
     "data": {
      "image/png": "[encoded data removed]",
      "text/plain": [
       "<Figure size 360x360 with 2 Axes>"
      ]
     },
     "metadata": {
      "needs_background": "light"
     },
     "output_type": "display_data"
    }
   ],
   "source": [
    "weighted_results = weighted_model.evaluate(test_features, test_labels,\n",
    "                                           batch_size=BATCH_SIZE, verbose=0)\n",
    "for name, value in zip(weighted_model.metrics_names, weighted_results):\n",
    "    print(name, ': ', value)\n",
    "print()\n",
    "\n",
    "plot_cm(test_labels, test_predictions_weighted)\n",
    "\n"
   ]
  },
  {
   "cell_type": "markdown",
   "metadata": {
    "colab_type": "text",
    "id": "i9tuPLh1-Rxx"
   },
   "source": [
    "Here you can see that with class weights the accuracy and precision are lower because there are more false positives, but conversely the recall and AUC are higher because the model also found more true positives. Despite having lower accuracy, this model has higher recall (and identifies more fraudulent transactions). Of course, there is a cost to both types of error (you wouldn't want to bug users by flagging too many legitimate transactions as fraudulent, either). Carefully consider the trade offs between these different types of errors for your application.\n"
   ]
  },
  {
   "cell_type": "markdown",
   "metadata": {
    "colab_type": "text",
    "id": "lRKpi4De-Rxz"
   },
   "source": [
    "## Plot the ROC"
   ]
  },
  {
   "cell_type": "code",
   "execution_count": 146,
   "metadata": {
    "colab": {
     "base_uri": "https://localhost:8080/",
     "height": 623
    },
    "colab_type": "code",
    "executionInfo": {
     "elapsed": 944,
     "status": "ok",
     "timestamp": 1587415404321,
     "user": {
      "displayName": "Juan Diego Pineda Jaramillo",
      "photoUrl": "https://lh3.googleusercontent.com/a-/AOh14GiWYv7duq_lZS9TY5-G5ClYSRrM1EIU3InpNXGOa0M=s64",
      "userId": "16360626039831995063"
     },
     "user_tz": 300
    },
    "id": "ly_5tRvg-Rx0",
    "outputId": "1669ad6e-cc36-48f0-b32a-aadbea539f27"
   },
   "outputs": [
    {
     "data": {
      "text/plain": [
       "<matplotlib.legend.Legend at 0x7f0d5569ce48>"
      ]
     },
     "execution_count": 146,
     "metadata": {},
     "output_type": "execute_result"
    },
    {
     "data": {
      "image/png": "[encoded data removed]",
      "text/plain": [
       "<Figure size 432x288 with 1 Axes>"
      ]
     },
     "metadata": {
      "needs_background": "light"
     },
     "output_type": "display_data"
    }
   ],
   "source": [
    "plot_roc(\"Train Baseline\", train_labels, train_predictions_baseline, color=colors[0])\n",
    "plot_roc(\"Test Baseline\", test_labels, test_predictions_baseline, color=colors[0], linestyle='--')\n",
    "\n",
    "plot_roc(\"Train Weighted\", train_labels, train_predictions_weighted, color=colors[1])\n",
    "plot_roc(\"Test Weighted\", test_labels, test_predictions_weighted, color=colors[1], linestyle='--')\n",
    "\n",
    "\n",
    "plt.legend(loc='lower right')\n",
    "\n"
   ]
  },
  {
   "cell_type": "markdown",
   "metadata": {
    "colab_type": "text",
    "id": "4aM7nn_s-Rx4"
   },
   "source": [
    "# Oversampling"
   ]
  },
  {
   "cell_type": "markdown",
   "metadata": {
    "colab_type": "text",
    "id": "e3ezkwrP-Rx5"
   },
   "source": [
    "## Oversample the minority class"
   ]
  },
  {
   "cell_type": "markdown",
   "metadata": {
    "colab_type": "text",
    "id": "-nmAYHe3-Rx6"
   },
   "source": [
    "A related approach would be to resample the dataset by oversampling the minority class."
   ]
  },
  {
   "cell_type": "code",
   "execution_count": 147,
   "metadata": {
    "colab": {},
    "colab_type": "code",
    "id": "sTtMcpQD-Rx7"
   },
   "outputs": [],
   "source": [
    "pos_features = train_features[bool_train_labels]\n",
    "neg_features = train_features[~bool_train_labels]\n",
    "\n",
    "pos_labels = train_labels[bool_train_labels]\n",
    "neg_labels = train_labels[~bool_train_labels]\n"
   ]
  },
  {
   "cell_type": "markdown",
   "metadata": {
    "colab_type": "text",
    "id": "uYXgIoAQ-Rx_"
   },
   "source": [
    "Using NumPy\n",
    "\n",
    "You can balance the dataset manually by choosing the right number of random indices from the positive examples:"
   ]
  },
  {
   "cell_type": "code",
   "execution_count": 148,
   "metadata": {
    "colab": {
     "base_uri": "https://localhost:8080/",
     "height": 34
    },
    "colab_type": "code",
    "executionInfo": {
     "elapsed": 632,
     "status": "ok",
     "timestamp": 1587415701356,
     "user": {
      "displayName": "Juan Diego Pineda Jaramillo",
      "photoUrl": "https://lh3.googleusercontent.com/a-/AOh14GiWYv7duq_lZS9TY5-G5ClYSRrM1EIU3InpNXGOa0M=s64",
      "userId": "16360626039831995063"
     },
     "user_tz": 300
    },
    "id": "orSGOAuE-RyA",
    "outputId": "1ef7df7b-6af9-433c-f22a-ac16dd91616f"
   },
   "outputs": [
    {
     "data": {
      "text/plain": [
       "(21177, 28)"
      ]
     },
     "execution_count": 148,
     "metadata": {},
     "output_type": "execute_result"
    }
   ],
   "source": [
    "ids = np.arange(len(pos_features))\n",
    "choices = np.random.choice(ids, len(neg_features))\n",
    "\n",
    "res_pos_features = pos_features[choices]\n",
    "res_pos_labels = pos_labels[choices]\n",
    "\n",
    "res_pos_features.shape"
   ]
  },
  {
   "cell_type": "code",
   "execution_count": 149,
   "metadata": {
    "colab": {
     "base_uri": "https://localhost:8080/",
     "height": 34
    },
    "colab_type": "code",
    "executionInfo": {
     "elapsed": 604,
     "status": "ok",
     "timestamp": 1587415702409,
     "user": {
      "displayName": "Juan Diego Pineda Jaramillo",
      "photoUrl": "https://lh3.googleusercontent.com/a-/AOh14GiWYv7duq_lZS9TY5-G5ClYSRrM1EIU3InpNXGOa0M=s64",
      "userId": "16360626039831995063"
     },
     "user_tz": 300
    },
    "id": "o6i1AI9R-RyG",
    "outputId": "beeb1ec6-1d67-4de2-8efa-dd61b20f4bdf"
   },
   "outputs": [
    {
     "data": {
      "text/plain": [
       "(42354, 28)"
      ]
     },
     "execution_count": 149,
     "metadata": {},
     "output_type": "execute_result"
    }
   ],
   "source": [
    "resampled_features = np.concatenate([res_pos_features, neg_features], axis=0)\n",
    "resampled_labels = np.concatenate([res_pos_labels, neg_labels], axis=0)\n",
    "\n",
    "order = np.arange(len(resampled_labels))\n",
    "np.random.shuffle(order)\n",
    "resampled_features = resampled_features[order]\n",
    "resampled_labels = resampled_labels[order]\n",
    "\n",
    "resampled_features.shape"
   ]
  },
  {
   "cell_type": "markdown",
   "metadata": {
    "colab_type": "text",
    "id": "Z_aD9kcV-RyM"
   },
   "source": [
    "**Using tf.data**\n",
    "\n",
    "If you're using tf.data the easiest way to produce balanced examples is to start with a positive and a negative dataset, and merge them. See the tf.data guide for more examples.\n",
    "\n"
   ]
  },
  {
   "cell_type": "code",
   "execution_count": 150,
   "metadata": {
    "colab": {},
    "colab_type": "code",
    "id": "QZ-tCiaF-RyM"
   },
   "outputs": [],
   "source": [
    "BUFFER_SIZE = 100000\n",
    "\n",
    "def make_ds(features, labels):\n",
    "    ds = tf.data.Dataset.from_tensor_slices((features, labels))#.cache()\n",
    "    ds = ds.shuffle(BUFFER_SIZE).repeat()\n",
    "    return ds\n",
    "\n",
    "pos_ds = make_ds(pos_features, pos_labels)\n",
    "neg_ds = make_ds(neg_features, neg_labels)\n"
   ]
  },
  {
   "cell_type": "markdown",
   "metadata": {
    "colab_type": "text",
    "id": "24D20kNp-RyT"
   },
   "source": [
    "Each dataset provides (feature, label) pairs:"
   ]
  },
  {
   "cell_type": "code",
   "execution_count": 151,
   "metadata": {
    "colab": {
     "base_uri": "https://localhost:8080/",
     "height": 156
    },
    "colab_type": "code",
    "executionInfo": {
     "elapsed": 709,
     "status": "ok",
     "timestamp": 1587415706559,
     "user": {
      "displayName": "Juan Diego Pineda Jaramillo",
      "photoUrl": "https://lh3.googleusercontent.com/a-/AOh14GiWYv7duq_lZS9TY5-G5ClYSRrM1EIU3InpNXGOa0M=s64",
      "userId": "16360626039831995063"
     },
     "user_tz": 300
    },
    "id": "My7Lw9-R-RyU",
    "outputId": "b922b6a4-1b59-42d2-d125-3f71eec8843a"
   },
   "outputs": [
    {
     "name": "stdout",
     "output_type": "stream",
     "text": [
      "Features:\n",
      " [-0.27091164 -0.24282315 -0.09074639  0.39034494 -0.19216115 -0.6594732\n",
      " -0.63826568  0.77222689 -0.12736103 -0.74610292 -2.29174945 -0.152666\n",
      "  2.50803405 -0.76469818 -0.38172521  0.99237482 -0.03681481 -0.0831157\n",
      "  2.09884404 -0.07084488  3.63301626 -0.24943543  0.21217399 -0.67957863\n",
      "  0.86978012 -0.3600642   0.4334646  -0.208423  ]\n",
      "\n",
      "Label:  True\n"
     ]
    }
   ],
   "source": [
    "for features, label in pos_ds.take(1):\n",
    "    print(\"Features:\\n\", features.numpy())\n",
    "    print()\n",
    "    print(\"Label: \", label.numpy())\n"
   ]
  },
  {
   "cell_type": "markdown",
   "metadata": {
    "colab_type": "text",
    "id": "9gGbJHdF-Ryc"
   },
   "source": [
    "Merge the two together using **experimental.sample_from_datasets**:"
   ]
  },
  {
   "cell_type": "code",
   "execution_count": 152,
   "metadata": {
    "colab": {},
    "colab_type": "code",
    "id": "V0F0Iji3-Ryc"
   },
   "outputs": [],
   "source": [
    "resampled_ds = tf.data.experimental.sample_from_datasets([pos_ds, neg_ds], weights=[0.5, 0.5])\n",
    "resampled_ds = resampled_ds.batch(BATCH_SIZE).prefetch(2)\n"
   ]
  },
  {
   "cell_type": "code",
   "execution_count": 153,
   "metadata": {
    "colab": {
     "base_uri": "https://localhost:8080/",
     "height": 34
    },
    "colab_type": "code",
    "executionInfo": {
     "elapsed": 728,
     "status": "ok",
     "timestamp": 1587415709888,
     "user": {
      "displayName": "Juan Diego Pineda Jaramillo",
      "photoUrl": "https://lh3.googleusercontent.com/a-/AOh14GiWYv7duq_lZS9TY5-G5ClYSRrM1EIU3InpNXGOa0M=s64",
      "userId": "16360626039831995063"
     },
     "user_tz": 300
    },
    "id": "3FSFSI1A-Ryi",
    "outputId": "2b216877-f045-4e27-f0c0-53552cc3f6a8"
   },
   "outputs": [
    {
     "name": "stdout",
     "output_type": "stream",
     "text": [
      "0.5\n"
     ]
    }
   ],
   "source": [
    "for features, label in resampled_ds.take(1):\n",
    "    print(label.numpy().mean())\n"
   ]
  },
  {
   "cell_type": "markdown",
   "metadata": {
    "colab_type": "text",
    "id": "DiIv36D7-Ryl"
   },
   "source": [
    "To use this dataset, you'll need the number of steps per epoch.\n",
    "\n",
    "The definition of \"epoch\" in this case is less clear. Say it's the number of batches required to see each negative example once:"
   ]
  },
  {
   "cell_type": "code",
   "execution_count": 154,
   "metadata": {
    "colab": {
     "base_uri": "https://localhost:8080/",
     "height": 34
    },
    "colab_type": "code",
    "executionInfo": {
     "elapsed": 980,
     "status": "ok",
     "timestamp": 1587415714050,
     "user": {
      "displayName": "Juan Diego Pineda Jaramillo",
      "photoUrl": "https://lh3.googleusercontent.com/a-/AOh14GiWYv7duq_lZS9TY5-G5ClYSRrM1EIU3InpNXGOa0M=s64",
      "userId": "16360626039831995063"
     },
     "user_tz": 300
    },
    "id": "TobZVck3-Rym",
    "outputId": "21eb7540-6c83-494e-8a06-3f47e2cce7f9"
   },
   "outputs": [
    {
     "data": {
      "text/plain": [
       "17.0"
      ]
     },
     "execution_count": 154,
     "metadata": {},
     "output_type": "execute_result"
    }
   ],
   "source": [
    "resampled_steps_per_epoch = np.ceil(2.0*neg/BATCH_SIZE)\n",
    "resampled_steps_per_epoch"
   ]
  },
  {
   "cell_type": "markdown",
   "metadata": {
    "colab_type": "text",
    "id": "T_Sbxk3X-Ry_"
   },
   "source": [
    "### Train on the oversampled data"
   ]
  },
  {
   "cell_type": "markdown",
   "metadata": {
    "colab_type": "text",
    "id": "Kl4i_bin-Ry_"
   },
   "source": [
    "Now try training the model with the resampled data set instead of using class weights to see how these methods compare."
   ]
  },
  {
   "cell_type": "markdown",
   "metadata": {
    "colab_type": "text",
    "id": "XMZZyPF6-RzA"
   },
   "source": [
    "**Note:** Because the data was balanced by replicating the positive examples, the total dataset size is larger, and each epoch runs for more training steps. "
   ]
  },
  {
   "cell_type": "code",
   "execution_count": 155,
   "metadata": {
    "colab": {
     "base_uri": "https://localhost:8080/",
     "height": 1000
    },
    "colab_type": "code",
    "executionInfo": {
     "elapsed": 36205,
     "status": "ok",
     "timestamp": 1587415752923,
     "user": {
      "displayName": "Juan Diego Pineda Jaramillo",
      "photoUrl": "https://lh3.googleusercontent.com/a-/AOh14GiWYv7duq_lZS9TY5-G5ClYSRrM1EIU3InpNXGOa0M=s64",
      "userId": "16360626039831995063"
     },
     "user_tz": 300
    },
    "id": "UyKDJfIo-RzB",
    "outputId": "26004dee-553d-45df-ed8d-14d8d13024a3"
   },
   "outputs": [
    {
     "name": "stdout",
     "output_type": "stream",
     "text": [
      "Train for 17.0 steps, validate for 2 steps\n",
      "Epoch 1/1000\n",
      "17/17 [==============================] - 7s 417ms/step - loss: 0.8999 - tp: 10508.0000 - fp: 10751.0000 - tn: 24154.0000 - fn: 24219.0000 - accuracy: 0.4978 - precision: 0.4943 - recall: 0.3026 - auc: 0.4674 - val_loss: 0.5248 - val_tp: 11.0000 - val_fp: 889.0000 - val_tn: 4406.0000 - val_fn: 51.0000 - val_accuracy: 0.8245 - val_precision: 0.0122 - val_recall: 0.1774 - val_auc: 0.4967\n",
      "Epoch 2/1000\n",
      "17/17 [==============================] - 3s 178ms/step - loss: 0.7980 - tp: 14064.0000 - fp: 12027.0000 - tn: 22710.0000 - fn: 20831.0000 - accuracy: 0.5281 - precision: 0.5390 - recall: 0.4030 - auc: 0.5236 - val_loss: 0.5663 - val_tp: 27.0000 - val_fp: 1186.0000 - val_tn: 4109.0000 - val_fn: 35.0000 - val_accuracy: 0.7721 - val_precision: 0.0223 - val_recall: 0.4355 - val_auc: 0.6060\n",
      "Epoch 3/1000\n",
      "17/17 [==============================] - 3s 186ms/step - loss: 0.7326 - tp: 17271.0000 - fp: 13253.0000 - tn: 21725.0000 - fn: 17383.0000 - accuracy: 0.5600 - precision: 0.5658 - recall: 0.4984 - auc: 0.5768 - val_loss: 0.5962 - val_tp: 36.0000 - val_fp: 1390.0000 - val_tn: 3905.0000 - val_fn: 26.0000 - val_accuracy: 0.7357 - val_precision: 0.0252 - val_recall: 0.5806 - val_auc: 0.6697\n",
      "Epoch 4/1000\n",
      "17/17 [==============================] - 3s 199ms/step - loss: 0.6941 - tp: 19227.0000 - fp: 13415.0000 - tn: 21487.0000 - fn: 15503.0000 - accuracy: 0.5847 - precision: 0.5890 - recall: 0.5536 - auc: 0.6185 - val_loss: 0.6099 - val_tp: 39.0000 - val_fp: 1497.0000 - val_tn: 3798.0000 - val_fn: 23.0000 - val_accuracy: 0.7163 - val_precision: 0.0254 - val_recall: 0.6290 - val_auc: 0.7006\n",
      "Epoch 5/1000\n",
      "17/17 [==============================] - 3s 198ms/step - loss: 0.6704 - tp: 20789.0000 - fp: 13350.0000 - tn: 21393.0000 - fn: 14100.0000 - accuracy: 0.6058 - precision: 0.6090 - recall: 0.5959 - auc: 0.6497 - val_loss: 0.6152 - val_tp: 41.0000 - val_fp: 1519.0000 - val_tn: 3776.0000 - val_fn: 21.0000 - val_accuracy: 0.7125 - val_precision: 0.0263 - val_recall: 0.6613 - val_auc: 0.7183\n",
      "Epoch 6/1000\n",
      "17/17 [==============================] - 3s 195ms/step - loss: 0.6517 - tp: 21594.0000 - fp: 12968.0000 - tn: 21926.0000 - fn: 13144.0000 - accuracy: 0.6250 - precision: 0.6248 - recall: 0.6216 - auc: 0.6743 - val_loss: 0.6159 - val_tp: 41.0000 - val_fp: 1515.0000 - val_tn: 3780.0000 - val_fn: 21.0000 - val_accuracy: 0.7133 - val_precision: 0.0263 - val_recall: 0.6613 - val_auc: 0.7278\n",
      "Epoch 7/1000\n",
      "17/17 [==============================] - 3s 190ms/step - loss: 0.6434 - tp: 22129.0000 - fp: 12822.0000 - tn: 22030.0000 - fn: 12651.0000 - accuracy: 0.6342 - precision: 0.6331 - recall: 0.6363 - auc: 0.6862 - val_loss: 0.6109 - val_tp: 43.0000 - val_fp: 1496.0000 - val_tn: 3799.0000 - val_fn: 19.0000 - val_accuracy: 0.7172 - val_precision: 0.0279 - val_recall: 0.6935 - val_auc: 0.7349\n",
      "Epoch 8/1000\n",
      "17/17 [==============================] - 3s 194ms/step - loss: 0.6331 - tp: 22287.0000 - fp: 12286.0000 - tn: 22583.0000 - fn: 12476.0000 - accuracy: 0.6444 - precision: 0.6446 - recall: 0.6411 - auc: 0.7001 - val_loss: 0.6061 - val_tp: 41.0000 - val_fp: 1414.0000 - val_tn: 3881.0000 - val_fn: 21.0000 - val_accuracy: 0.7321 - val_precision: 0.0282 - val_recall: 0.6613 - val_auc: 0.7371\n",
      "Epoch 9/1000\n",
      "17/17 [==============================] - 3s 187ms/step - loss: 0.6259 - tp: 22513.0000 - fp: 11936.0000 - tn: 22721.0000 - fn: 12462.0000 - accuracy: 0.6496 - precision: 0.6535 - recall: 0.6437 - auc: 0.7088 - val_loss: 0.6025 - val_tp: 41.0000 - val_fp: 1369.0000 - val_tn: 3926.0000 - val_fn: 21.0000 - val_accuracy: 0.7405 - val_precision: 0.0291 - val_recall: 0.6613 - val_auc: 0.7384\n",
      "Epoch 10/1000\n",
      "17/17 [==============================] - 3s 199ms/step - loss: 0.6212 - tp: 22755.0000 - fp: 11850.0000 - tn: 22839.0000 - fn: 12188.0000 - accuracy: 0.6548 - precision: 0.6576 - recall: 0.6512 - auc: 0.7147 - val_loss: 0.5990 - val_tp: 41.0000 - val_fp: 1362.0000 - val_tn: 3933.0000 - val_fn: 21.0000 - val_accuracy: 0.7418 - val_precision: 0.0292 - val_recall: 0.6613 - val_auc: 0.7399\n",
      "Epoch 11/1000\n",
      "17/17 [==============================] - 3s 205ms/step - loss: 0.6158 - tp: 22876.0000 - fp: 11528.0000 - tn: 22992.0000 - fn: 12236.0000 - accuracy: 0.6587 - precision: 0.6649 - recall: 0.6515 - auc: 0.7223 - val_loss: 0.5967 - val_tp: 41.0000 - val_fp: 1378.0000 - val_tn: 3917.0000 - val_fn: 21.0000 - val_accuracy: 0.7388 - val_precision: 0.0289 - val_recall: 0.6613 - val_auc: 0.7412\n",
      "Epoch 12/1000\n",
      "17/17 [==============================] - 3s 203ms/step - loss: 0.6108 - tp: 23136.0000 - fp: 11485.0000 - tn: 23179.0000 - fn: 11832.0000 - accuracy: 0.6651 - precision: 0.6683 - recall: 0.6616 - auc: 0.7283 - val_loss: 0.5926 - val_tp: 43.0000 - val_fp: 1390.0000 - val_tn: 3905.0000 - val_fn: 19.0000 - val_accuracy: 0.7370 - val_precision: 0.0300 - val_recall: 0.6935 - val_auc: 0.7423\n",
      "Epoch 13/1000\n",
      "17/17 [==============================] - 3s 202ms/step - loss: 0.6063 - tp: 23194.0000 - fp: 11387.0000 - tn: 23323.0000 - fn: 11728.0000 - accuracy: 0.6680 - precision: 0.6707 - recall: 0.6642 - auc: 0.7331 - val_loss: 0.5892 - val_tp: 42.0000 - val_fp: 1288.0000 - val_tn: 4007.0000 - val_fn: 20.0000 - val_accuracy: 0.7558 - val_precision: 0.0316 - val_recall: 0.6774 - val_auc: 0.7419\n",
      "Epoch 14/1000\n",
      "17/17 [==============================] - 3s 205ms/step - loss: 0.6058 - tp: 22965.0000 - fp: 11257.0000 - tn: 23498.0000 - fn: 11912.0000 - accuracy: 0.6673 - precision: 0.6711 - recall: 0.6585 - auc: 0.7341 - val_loss: 0.5848 - val_tp: 42.0000 - val_fp: 1283.0000 - val_tn: 4012.0000 - val_fn: 20.0000 - val_accuracy: 0.7568 - val_precision: 0.0317 - val_recall: 0.6774 - val_auc: 0.7421\n",
      "Epoch 15/1000\n",
      "17/17 [==============================] - 3s 203ms/step - loss: 0.6023 - tp: 22856.0000 - fp: 11208.0000 - tn: 23738.0000 - fn: 11830.0000 - accuracy: 0.6691 - precision: 0.6710 - recall: 0.6589 - auc: 0.7378 - val_loss: 0.5816 - val_tp: 41.0000 - val_fp: 1259.0000 - val_tn: 4036.0000 - val_fn: 21.0000 - val_accuracy: 0.7611 - val_precision: 0.0315 - val_recall: 0.6613 - val_auc: 0.7423\n",
      "Epoch 16/1000\n",
      "17/17 [==============================] - 4s 209ms/step - loss: 0.5986 - tp: 23240.0000 - fp: 10982.0000 - tn: 23658.0000 - fn: 11752.0000 - accuracy: 0.6735 - precision: 0.6791 - recall: 0.6642 - auc: 0.7423 - val_loss: 0.5809 - val_tp: 41.0000 - val_fp: 1237.0000 - val_tn: 4058.0000 - val_fn: 21.0000 - val_accuracy: 0.7652 - val_precision: 0.0321 - val_recall: 0.6613 - val_auc: 0.7427\n",
      "Epoch 17/1000\n",
      "17/17 [==============================] - 3s 202ms/step - loss: 0.5989 - tp: 23285.0000 - fp: 11171.0000 - tn: 23734.0000 - fn: 11442.0000 - accuracy: 0.6752 - precision: 0.6758 - recall: 0.6705 - auc: 0.7424 - val_loss: 0.5813 - val_tp: 41.0000 - val_fp: 1240.0000 - val_tn: 4055.0000 - val_fn: 21.0000 - val_accuracy: 0.7646 - val_precision: 0.0320 - val_recall: 0.6613 - val_auc: 0.7425\n",
      "Epoch 18/1000\n",
      "17/17 [==============================] - 3s 193ms/step - loss: 0.5948 - tp: 23320.0000 - fp: 11003.0000 - tn: 23930.0000 - fn: 11379.0000 - accuracy: 0.6786 - precision: 0.6794 - recall: 0.6721 - auc: 0.7471 - val_loss: 0.5783 - val_tp: 41.0000 - val_fp: 1224.0000 - val_tn: 4071.0000 - val_fn: 21.0000 - val_accuracy: 0.7676 - val_precision: 0.0324 - val_recall: 0.6613 - val_auc: 0.7438\n",
      "Epoch 19/1000\n",
      "17/17 [==============================] - 3s 197ms/step - loss: 0.5927 - tp: 23437.0000 - fp: 10782.0000 - tn: 24018.0000 - fn: 11395.0000 - accuracy: 0.6815 - precision: 0.6849 - recall: 0.6729 - auc: 0.7493 - val_loss: 0.5759 - val_tp: 41.0000 - val_fp: 1215.0000 - val_tn: 4080.0000 - val_fn: 21.0000 - val_accuracy: 0.7693 - val_precision: 0.0326 - val_recall: 0.6613 - val_auc: 0.7439\n",
      "Epoch 20/1000\n",
      "17/17 [==============================] - 3s 178ms/step - loss: 0.5915 - tp: 23613.0000 - fp: 10643.0000 - tn: 23991.0000 - fn: 11385.0000 - accuracy: 0.6837 - precision: 0.6893 - recall: 0.6747 - auc: 0.7512 - val_loss: 0.5777 - val_tp: 42.0000 - val_fp: 1241.0000 - val_tn: 4054.0000 - val_fn: 20.0000 - val_accuracy: 0.7646 - val_precision: 0.0327 - val_recall: 0.6774 - val_auc: 0.7440\n",
      "Epoch 21/1000\n",
      "17/17 [==============================] - 3s 193ms/step - loss: 0.5890 - tp: 23523.0000 - fp: 10434.0000 - tn: 24321.0000 - fn: 11354.0000 - accuracy: 0.6871 - precision: 0.6927 - recall: 0.6745 - auc: 0.7544 - val_loss: 0.5762 - val_tp: 42.0000 - val_fp: 1240.0000 - val_tn: 4055.0000 - val_fn: 20.0000 - val_accuracy: 0.7648 - val_precision: 0.0328 - val_recall: 0.6774 - val_auc: 0.7443\n",
      "Epoch 22/1000\n",
      "17/17 [==============================] - 3s 198ms/step - loss: 0.5885 - tp: 23559.0000 - fp: 10039.0000 - tn: 24519.0000 - fn: 11515.0000 - accuracy: 0.6905 - precision: 0.7012 - recall: 0.6717 - auc: 0.7556 - val_loss: 0.5757 - val_tp: 42.0000 - val_fp: 1242.0000 - val_tn: 4053.0000 - val_fn: 20.0000 - val_accuracy: 0.7644 - val_precision: 0.0327 - val_recall: 0.6774 - val_auc: 0.7438\n",
      "Epoch 23/1000\n",
      "17/17 [==============================] - 3s 188ms/step - loss: 0.5858 - tp: 23150.0000 - fp: 9890.0000 - tn: 25006.0000 - fn: 11586.0000 - accuracy: 0.6916 - precision: 0.7007 - recall: 0.6665 - auc: 0.7580 - val_loss: 0.5728 - val_tp: 42.0000 - val_fp: 1204.0000 - val_tn: 4091.0000 - val_fn: 20.0000 - val_accuracy: 0.7715 - val_precision: 0.0337 - val_recall: 0.6774 - val_auc: 0.7448\n",
      "Epoch 24/1000\n",
      "17/17 [==============================] - 3s 188ms/step - loss: 0.5872 - tp: 23228.0000 - fp: 9919.0000 - tn: 24896.0000 - fn: 11589.0000 - accuracy: 0.6911 - precision: 0.7008 - recall: 0.6671 - auc: 0.7564 - val_loss: 0.5699 - val_tp: 41.0000 - val_fp: 1178.0000 - val_tn: 4117.0000 - val_fn: 21.0000 - val_accuracy: 0.7762 - val_precision: 0.0336 - val_recall: 0.6613 - val_auc: 0.7457\n",
      "Epoch 25/1000\n",
      "17/17 [==============================] - 3s 189ms/step - loss: 0.5826 - tp: 23272.0000 - fp: 9811.0000 - tn: 24951.0000 - fn: 11598.0000 - accuracy: 0.6925 - precision: 0.7034 - recall: 0.6674 - auc: 0.7607 - val_loss: 0.5692 - val_tp: 41.0000 - val_fp: 1167.0000 - val_tn: 4128.0000 - val_fn: 21.0000 - val_accuracy: 0.7782 - val_precision: 0.0339 - val_recall: 0.6613 - val_auc: 0.7457\n",
      "Epoch 26/1000\n",
      "17/17 [==============================] - 3s 187ms/step - loss: 0.5825 - tp: 23417.0000 - fp: 9629.0000 - tn: 25171.0000 - fn: 11415.0000 - accuracy: 0.6978 - precision: 0.7086 - recall: 0.6723 - auc: 0.7631 - val_loss: 0.5691 - val_tp: 41.0000 - val_fp: 1196.0000 - val_tn: 4099.0000 - val_fn: 21.0000 - val_accuracy: 0.7728 - val_precision: 0.0331 - val_recall: 0.6613 - val_auc: 0.7461\n",
      "Epoch 27/1000\n",
      "17/17 [==============================] - 3s 196ms/step - loss: 0.5823 - tp: 23345.0000 - fp: 9627.0000 - tn: 25162.0000 - fn: 11498.0000 - accuracy: 0.6966 - precision: 0.7080 - recall: 0.6700 - auc: 0.7622 - val_loss: 0.5657 - val_tp: 40.0000 - val_fp: 1181.0000 - val_tn: 4114.0000 - val_fn: 22.0000 - val_accuracy: 0.7754 - val_precision: 0.0328 - val_recall: 0.6452 - val_auc: 0.7468\n",
      "Epoch 28/1000\n",
      "17/17 [==============================] - 3s 200ms/step - loss: 0.5802 - tp: 23337.0000 - fp: 9359.0000 - tn: 25391.0000 - fn: 11545.0000 - accuracy: 0.6998 - precision: 0.7138 - recall: 0.6690 - auc: 0.7655 - val_loss: 0.5640 - val_tp: 40.0000 - val_fp: 1182.0000 - val_tn: 4113.0000 - val_fn: 22.0000 - val_accuracy: 0.7752 - val_precision: 0.0327 - val_recall: 0.6452 - val_auc: 0.7466\n",
      "Epoch 29/1000\n",
      "17/17 [==============================] - 3s 195ms/step - loss: 0.5786 - tp: 23205.0000 - fp: 9411.0000 - tn: 25549.0000 - fn: 11467.0000 - accuracy: 0.7002 - precision: 0.7115 - recall: 0.6693 - auc: 0.7673 - val_loss: 0.5627 - val_tp: 40.0000 - val_fp: 1163.0000 - val_tn: 4132.0000 - val_fn: 22.0000 - val_accuracy: 0.7788 - val_precision: 0.0333 - val_recall: 0.6452 - val_auc: 0.7461\n",
      "Epoch 30/1000\n",
      "17/17 [==============================] - 3s 195ms/step - loss: 0.5788 - tp: 23393.0000 - fp: 9481.0000 - tn: 25338.0000 - fn: 11420.0000 - accuracy: 0.6998 - precision: 0.7116 - recall: 0.6720 - auc: 0.7663 - val_loss: 0.5605 - val_tp: 41.0000 - val_fp: 1217.0000 - val_tn: 4078.0000 - val_fn: 21.0000 - val_accuracy: 0.7689 - val_precision: 0.0326 - val_recall: 0.6613 - val_auc: 0.7458\n",
      "Epoch 31/1000\n",
      "17/17 [==============================] - 3s 196ms/step - loss: 0.5767 - tp: 23408.0000 - fp: 9245.0000 - tn: 25477.0000 - fn: 11502.0000 - accuracy: 0.7020 - precision: 0.7169 - recall: 0.6705 - auc: 0.7692 - val_loss: 0.5598 - val_tp: 39.0000 - val_fp: 1202.0000 - val_tn: 4093.0000 - val_fn: 23.0000 - val_accuracy: 0.7713 - val_precision: 0.0314 - val_recall: 0.6290 - val_auc: 0.7459\n",
      "Epoch 32/1000\n",
      "17/17 [==============================] - 3s 202ms/step - loss: 0.5756 - tp: 23506.0000 - fp: 9345.0000 - tn: 25370.0000 - fn: 11411.0000 - accuracy: 0.7019 - precision: 0.7155 - recall: 0.6732 - auc: 0.7702 - val_loss: 0.5609 - val_tp: 39.0000 - val_fp: 1197.0000 - val_tn: 4098.0000 - val_fn: 23.0000 - val_accuracy: 0.7723 - val_precision: 0.0316 - val_recall: 0.6290 - val_auc: 0.7461\n",
      "Epoch 33/1000\n",
      "17/17 [==============================] - 3s 190ms/step - loss: 0.5730 - tp: 23526.0000 - fp: 9276.0000 - tn: 25541.0000 - fn: 11289.0000 - accuracy: 0.7047 - precision: 0.7172 - recall: 0.6757 - auc: 0.7738 - val_loss: 0.5583 - val_tp: 39.0000 - val_fp: 1198.0000 - val_tn: 4097.0000 - val_fn: 23.0000 - val_accuracy: 0.7721 - val_precision: 0.0315 - val_recall: 0.6290 - val_auc: 0.7457\n",
      "Epoch 34/1000\n",
      "17/17 [==============================] - 3s 184ms/step - loss: 0.5724 - tp: 23449.0000 - fp: 9272.0000 - tn: 25659.0000 - fn: 11252.0000 - accuracy: 0.7053 - precision: 0.7166 - recall: 0.6757 - auc: 0.7739 - val_loss: 0.5534 - val_tp: 39.0000 - val_fp: 1185.0000 - val_tn: 4110.0000 - val_fn: 23.0000 - val_accuracy: 0.7745 - val_precision: 0.0319 - val_recall: 0.6290 - val_auc: 0.7448\n",
      "Epoch 35/1000\n",
      "17/17 [==============================] - 3s 195ms/step - loss: 0.5727 - tp: 23531.0000 - fp: 9137.0000 - tn: 25626.0000 - fn: 11338.0000 - accuracy: 0.7060 - precision: 0.7203 - recall: 0.6748 - auc: 0.7734 - val_loss: 0.5536 - val_tp: 39.0000 - val_fp: 1184.0000 - val_tn: 4111.0000 - val_fn: 23.0000 - val_accuracy: 0.7747 - val_precision: 0.0319 - val_recall: 0.6290 - val_auc: 0.7450\n",
      "Epoch 36/1000\n",
      "17/17 [==============================] - 3s 195ms/step - loss: 0.5728 - tp: 23518.0000 - fp: 9130.0000 - tn: 25706.0000 - fn: 11278.0000 - accuracy: 0.7069 - precision: 0.7204 - recall: 0.6759 - auc: 0.7748 - val_loss: 0.5533 - val_tp: 38.0000 - val_fp: 1178.0000 - val_tn: 4117.0000 - val_fn: 24.0000 - val_accuracy: 0.7756 - val_precision: 0.0312 - val_recall: 0.6129 - val_auc: 0.7448\n",
      "Epoch 37/1000\n",
      "16/17 [===========================>..] - ETA: 0s - loss: 0.5712 - tp: 22260.0000 - fp: 8664.0000 - tn: 24083.0000 - fn: 10529.0000 - accuracy: 0.7071 - precision: 0.7198 - recall: 0.6789 - auc: 0.7758Restoring model weights from the end of the best epoch.\n",
      "17/17 [==============================] - 3s 195ms/step - loss: 0.5712 - tp: 23633.0000 - fp: 9168.0000 - tn: 25640.0000 - fn: 11191.0000 - accuracy: 0.7076 - precision: 0.7205 - recall: 0.6786 - auc: 0.7758 - val_loss: 0.5518 - val_tp: 37.0000 - val_fp: 1152.0000 - val_tn: 4143.0000 - val_fn: 25.0000 - val_accuracy: 0.7803 - val_precision: 0.0311 - val_recall: 0.5968 - val_auc: 0.7440\n",
      "Epoch 00037: early stopping\n"
     ]
    }
   ],
   "source": [
    "resampled_model = make_model()\n",
    "resampled_model.load_weights(initial_weights)\n",
    "\n",
    "# Reset the bias to zero, since this dataset is balanced.\n",
    "output_layer = resampled_model.layers[-1] \n",
    "output_layer.bias.assign([0])\n",
    "\n",
    "val_ds = tf.data.Dataset.from_tensor_slices((val_features, val_labels)).cache()\n",
    "val_ds = val_ds.batch(BATCH_SIZE).prefetch(2) \n",
    "\n",
    "resampled_history = resampled_model.fit(\n",
    "    resampled_ds,\n",
    "    epochs=EPOCHS,\n",
    "    steps_per_epoch=resampled_steps_per_epoch,\n",
    "    callbacks = [early_stopping],\n",
    "    validation_data=val_ds)\n"
   ]
  },
  {
   "cell_type": "markdown",
   "metadata": {
    "colab_type": "text",
    "id": "-9_HREU7-RzG"
   },
   "source": [
    "If the training process were considering the whole dataset on each gradient update, this oversampling would be basically identical to the class weighting.\n",
    "\n",
    "But when training the model batch-wise, as you did here, the oversampled data provides a smoother gradient signal: Instead of each positive example being shown in one batch with a large weight, they're shown in many different batches each time with a small weight.\n",
    "\n",
    "This smoother gradient signal makes it easier to train the model."
   ]
  },
  {
   "cell_type": "markdown",
   "metadata": {
    "colab_type": "text",
    "id": "IDTGMbsp-RzG"
   },
   "source": [
    "## Check training history"
   ]
  },
  {
   "cell_type": "markdown",
   "metadata": {
    "colab_type": "text",
    "id": "jTowbz_4-RzG"
   },
   "source": [
    "Note that the distributions of metrics will be different here, because the training data has a totally different distribution from the validation and test data. "
   ]
  },
  {
   "cell_type": "code",
   "execution_count": 156,
   "metadata": {
    "colab": {
     "base_uri": "https://localhost:8080/",
     "height": 610
    },
    "colab_type": "code",
    "executionInfo": {
     "elapsed": 1332,
     "status": "ok",
     "timestamp": 1587415761459,
     "user": {
      "displayName": "Juan Diego Pineda Jaramillo",
      "photoUrl": "https://lh3.googleusercontent.com/a-/AOh14GiWYv7duq_lZS9TY5-G5ClYSRrM1EIU3InpNXGOa0M=s64",
      "userId": "16360626039831995063"
     },
     "user_tz": 300
    },
    "id": "-H3jUePR-RzH",
    "outputId": "bbce4aa2-2102-408b-da7c-47cf8e84e8bb"
   },
   "outputs": [
    {
     "data": {
      "image/png": "[encoded data removed]",
      "text/plain": [
       "<Figure size 432x288 with 4 Axes>"
      ]
     },
     "metadata": {
      "needs_background": "light"
     },
     "output_type": "display_data"
    }
   ],
   "source": [
    "plot_metrics( resampled_history )\n"
   ]
  },
  {
   "cell_type": "markdown",
   "metadata": {
    "colab_type": "text",
    "id": "K4Ptbk5f-RzN"
   },
   "source": [
    "## Re-train"
   ]
  },
  {
   "cell_type": "markdown",
   "metadata": {
    "colab_type": "text",
    "id": "h0zyxZLT-RzN"
   },
   "source": [
    "Because training is easier on the balanced data, the above training procedure may overfit quickly.\n",
    "\n",
    "So break up the epochs to give the **callbacks.EarlyStopping** finer control over when to stop training."
   ]
  },
  {
   "cell_type": "code",
   "execution_count": 157,
   "metadata": {
    "colab": {
     "base_uri": "https://localhost:8080/",
     "height": 1000
    },
    "colab_type": "code",
    "executionInfo": {
     "elapsed": 23735,
     "status": "ok",
     "timestamp": 1587415801788,
     "user": {
      "displayName": "Juan Diego Pineda Jaramillo",
      "photoUrl": "https://lh3.googleusercontent.com/a-/AOh14GiWYv7duq_lZS9TY5-G5ClYSRrM1EIU3InpNXGOa0M=s64",
      "userId": "16360626039831995063"
     },
     "user_tz": 300
    },
    "id": "wsMXAkwy-RzO",
    "outputId": "cf0c053a-27e0-4900-8c4b-89364ed2713e"
   },
   "outputs": [
    {
     "name": "stdout",
     "output_type": "stream",
     "text": [
      "Train for 20 steps, validate for 2 steps\n",
      "Epoch 1/10000\n",
      "20/20 [==============================] - 7s 345ms/step - loss: 0.8882 - tp: 12844.0000 - fp: 12791.0000 - tn: 28268.0000 - fn: 28017.0000 - accuracy: 0.5019 - precision: 0.5010 - recall: 0.3143 - auc: 0.4742 - val_loss: 0.5333 - val_tp: 14.0000 - val_fp: 1019.0000 - val_tn: 4276.0000 - val_fn: 48.0000 - val_accuracy: 0.8008 - val_precision: 0.0136 - val_recall: 0.2258 - val_auc: 0.5208\n",
      "Epoch 2/10000\n",
      "20/20 [==============================] - 3s 170ms/step - loss: 0.7764 - tp: 17927.0000 - fp: 14551.0000 - tn: 26178.0000 - fn: 23264.0000 - accuracy: 0.5384 - precision: 0.5520 - recall: 0.4352 - auc: 0.5421 - val_loss: 0.5792 - val_tp: 29.0000 - val_fp: 1270.0000 - val_tn: 4025.0000 - val_fn: 33.0000 - val_accuracy: 0.7568 - val_precision: 0.0223 - val_recall: 0.4677 - val_auc: 0.6311\n",
      "Epoch 3/10000\n",
      "20/20 [==============================] - 4s 202ms/step - loss: 0.7136 - tp: 21302.0000 - fp: 15826.0000 - tn: 25520.0000 - fn: 19272.0000 - accuracy: 0.5716 - precision: 0.5737 - recall: 0.5250 - auc: 0.5962 - val_loss: 0.6052 - val_tp: 37.0000 - val_fp: 1441.0000 - val_tn: 3854.0000 - val_fn: 25.0000 - val_accuracy: 0.7263 - val_precision: 0.0250 - val_recall: 0.5968 - val_auc: 0.6930\n",
      "Epoch 4/10000\n",
      "20/20 [==============================] - 4s 200ms/step - loss: 0.6774 - tp: 23991.0000 - fp: 15739.0000 - tn: 25275.0000 - fn: 16915.0000 - accuracy: 0.6014 - precision: 0.6039 - recall: 0.5865 - auc: 0.6405 - val_loss: 0.6148 - val_tp: 40.0000 - val_fp: 1454.0000 - val_tn: 3841.0000 - val_fn: 22.0000 - val_accuracy: 0.7245 - val_precision: 0.0268 - val_recall: 0.6452 - val_auc: 0.7167\n",
      "Epoch 5/10000\n",
      "20/20 [==============================] - 4s 194ms/step - loss: 0.6571 - tp: 25245.0000 - fp: 15682.0000 - tn: 25277.0000 - fn: 15716.0000 - accuracy: 0.6167 - precision: 0.6168 - recall: 0.6163 - auc: 0.6669 - val_loss: 0.6146 - val_tp: 40.0000 - val_fp: 1454.0000 - val_tn: 3841.0000 - val_fn: 22.0000 - val_accuracy: 0.7245 - val_precision: 0.0268 - val_recall: 0.6452 - val_auc: 0.7269\n",
      "Epoch 6/10000\n",
      "20/20 [==============================] - 4s 195ms/step - loss: 0.6424 - tp: 25939.0000 - fp: 14915.0000 - tn: 26033.0000 - fn: 15033.0000 - accuracy: 0.6344 - precision: 0.6349 - recall: 0.6331 - auc: 0.6875 - val_loss: 0.6089 - val_tp: 42.0000 - val_fp: 1431.0000 - val_tn: 3864.0000 - val_fn: 20.0000 - val_accuracy: 0.7291 - val_precision: 0.0285 - val_recall: 0.6774 - val_auc: 0.7334\n",
      "Epoch 7/10000\n",
      "20/20 [==============================] - 4s 201ms/step - loss: 0.6325 - tp: 26162.0000 - fp: 14448.0000 - tn: 26544.0000 - fn: 14766.0000 - accuracy: 0.6434 - precision: 0.6442 - recall: 0.6392 - auc: 0.7008 - val_loss: 0.6041 - val_tp: 41.0000 - val_fp: 1404.0000 - val_tn: 3891.0000 - val_fn: 21.0000 - val_accuracy: 0.7340 - val_precision: 0.0284 - val_recall: 0.6613 - val_auc: 0.7374\n",
      "Epoch 8/10000\n",
      "20/20 [==============================] - 4s 185ms/step - loss: 0.6240 - tp: 26520.0000 - fp: 14066.0000 - tn: 26795.0000 - fn: 14539.0000 - accuracy: 0.6508 - precision: 0.6534 - recall: 0.6459 - auc: 0.7112 - val_loss: 0.6018 - val_tp: 41.0000 - val_fp: 1356.0000 - val_tn: 3939.0000 - val_fn: 21.0000 - val_accuracy: 0.7430 - val_precision: 0.0293 - val_recall: 0.6613 - val_auc: 0.7385\n",
      "Epoch 9/10000\n",
      "20/20 [==============================] - 4s 200ms/step - loss: 0.6183 - tp: 26921.0000 - fp: 13806.0000 - tn: 26826.0000 - fn: 14367.0000 - accuracy: 0.6561 - precision: 0.6610 - recall: 0.6520 - auc: 0.7187 - val_loss: 0.5985 - val_tp: 41.0000 - val_fp: 1375.0000 - val_tn: 3920.0000 - val_fn: 21.0000 - val_accuracy: 0.7394 - val_precision: 0.0290 - val_recall: 0.6613 - val_auc: 0.7392\n",
      "Epoch 10/10000\n",
      "20/20 [==============================] - 4s 191ms/step - loss: 0.6113 - tp: 27212.0000 - fp: 13582.0000 - tn: 27123.0000 - fn: 14003.0000 - accuracy: 0.6633 - precision: 0.6671 - recall: 0.6602 - auc: 0.7269 - val_loss: 0.5945 - val_tp: 41.0000 - val_fp: 1374.0000 - val_tn: 3921.0000 - val_fn: 21.0000 - val_accuracy: 0.7396 - val_precision: 0.0290 - val_recall: 0.6613 - val_auc: 0.7419\n",
      "Epoch 11/10000\n",
      "20/20 [==============================] - 4s 186ms/step - loss: 0.6079 - tp: 27077.0000 - fp: 13239.0000 - tn: 27570.0000 - fn: 14034.0000 - accuracy: 0.6671 - precision: 0.6716 - recall: 0.6586 - auc: 0.7317 - val_loss: 0.5899 - val_tp: 42.0000 - val_fp: 1294.0000 - val_tn: 4001.0000 - val_fn: 20.0000 - val_accuracy: 0.7547 - val_precision: 0.0314 - val_recall: 0.6774 - val_auc: 0.7412\n",
      "Epoch 12/10000\n",
      "20/20 [==============================] - 4s 208ms/step - loss: 0.6051 - tp: 27080.0000 - fp: 13194.0000 - tn: 27705.0000 - fn: 13941.0000 - accuracy: 0.6688 - precision: 0.6724 - recall: 0.6601 - auc: 0.7350 - val_loss: 0.5842 - val_tp: 42.0000 - val_fp: 1258.0000 - val_tn: 4037.0000 - val_fn: 20.0000 - val_accuracy: 0.7614 - val_precision: 0.0323 - val_recall: 0.6774 - val_auc: 0.7427\n",
      "Epoch 13/10000\n",
      "20/20 [==============================] - 4s 195ms/step - loss: 0.6005 - tp: 27193.0000 - fp: 13165.0000 - tn: 27922.0000 - fn: 13640.0000 - accuracy: 0.6728 - precision: 0.6738 - recall: 0.6660 - auc: 0.7400 - val_loss: 0.5809 - val_tp: 42.0000 - val_fp: 1255.0000 - val_tn: 4040.0000 - val_fn: 20.0000 - val_accuracy: 0.7620 - val_precision: 0.0324 - val_recall: 0.6774 - val_auc: 0.7425\n",
      "Epoch 14/10000\n",
      "20/20 [==============================] - 4s 204ms/step - loss: 0.5977 - tp: 27490.0000 - fp: 12801.0000 - tn: 27827.0000 - fn: 13802.0000 - accuracy: 0.6753 - precision: 0.6823 - recall: 0.6657 - auc: 0.7432 - val_loss: 0.5820 - val_tp: 42.0000 - val_fp: 1260.0000 - val_tn: 4035.0000 - val_fn: 20.0000 - val_accuracy: 0.7611 - val_precision: 0.0323 - val_recall: 0.6774 - val_auc: 0.7428\n",
      "Epoch 15/10000\n",
      "20/20 [==============================] - 4s 192ms/step - loss: 0.5960 - tp: 27417.0000 - fp: 13043.0000 - tn: 28145.0000 - fn: 13315.0000 - accuracy: 0.6782 - precision: 0.6776 - recall: 0.6731 - auc: 0.7462 - val_loss: 0.5774 - val_tp: 41.0000 - val_fp: 1218.0000 - val_tn: 4077.0000 - val_fn: 21.0000 - val_accuracy: 0.7687 - val_precision: 0.0326 - val_recall: 0.6613 - val_auc: 0.7440\n",
      "Epoch 16/10000\n",
      "20/20 [==============================] - 4s 195ms/step - loss: 0.5936 - tp: 27357.0000 - fp: 12707.0000 - tn: 28474.0000 - fn: 13382.0000 - accuracy: 0.6815 - precision: 0.6828 - recall: 0.6715 - auc: 0.7493 - val_loss: 0.5733 - val_tp: 40.0000 - val_fp: 1208.0000 - val_tn: 4087.0000 - val_fn: 22.0000 - val_accuracy: 0.7704 - val_precision: 0.0321 - val_recall: 0.6452 - val_auc: 0.7451\n",
      "Epoch 17/10000\n",
      "20/20 [==============================] - 4s 208ms/step - loss: 0.5920 - tp: 27861.0000 - fp: 12519.0000 - tn: 28177.0000 - fn: 13363.0000 - accuracy: 0.6841 - precision: 0.6900 - recall: 0.6758 - auc: 0.7506 - val_loss: 0.5752 - val_tp: 40.0000 - val_fp: 1214.0000 - val_tn: 4081.0000 - val_fn: 22.0000 - val_accuracy: 0.7693 - val_precision: 0.0319 - val_recall: 0.6452 - val_auc: 0.7449\n",
      "Epoch 18/10000\n",
      "20/20 [==============================] - 4s 194ms/step - loss: 0.5906 - tp: 27790.0000 - fp: 12499.0000 - tn: 28339.0000 - fn: 13292.0000 - accuracy: 0.6852 - precision: 0.6898 - recall: 0.6765 - auc: 0.7518 - val_loss: 0.5762 - val_tp: 40.0000 - val_fp: 1212.0000 - val_tn: 4083.0000 - val_fn: 22.0000 - val_accuracy: 0.7696 - val_precision: 0.0319 - val_recall: 0.6452 - val_auc: 0.7458\n",
      "Epoch 19/10000\n",
      "20/20 [==============================] - 4s 180ms/step - loss: 0.5888 - tp: 27539.0000 - fp: 11878.0000 - tn: 28853.0000 - fn: 13650.0000 - accuracy: 0.6884 - precision: 0.6987 - recall: 0.6686 - auc: 0.7546 - val_loss: 0.5775 - val_tp: 40.0000 - val_fp: 1208.0000 - val_tn: 4087.0000 - val_fn: 22.0000 - val_accuracy: 0.7704 - val_precision: 0.0321 - val_recall: 0.6452 - val_auc: 0.7457\n",
      "Epoch 20/10000\n",
      "20/20 [==============================] - 4s 197ms/step - loss: 0.5874 - tp: 27309.0000 - fp: 11910.0000 - tn: 29240.0000 - fn: 13461.0000 - accuracy: 0.6903 - precision: 0.6963 - recall: 0.6698 - auc: 0.7562 - val_loss: 0.5731 - val_tp: 40.0000 - val_fp: 1179.0000 - val_tn: 4116.0000 - val_fn: 22.0000 - val_accuracy: 0.7758 - val_precision: 0.0328 - val_recall: 0.6452 - val_auc: 0.7448\n",
      "Epoch 21/10000\n",
      "20/20 [==============================] - 4s 196ms/step - loss: 0.5861 - tp: 27379.0000 - fp: 11590.0000 - tn: 29251.0000 - fn: 13700.0000 - accuracy: 0.6913 - precision: 0.7026 - recall: 0.6665 - auc: 0.7577 - val_loss: 0.5712 - val_tp: 39.0000 - val_fp: 1173.0000 - val_tn: 4122.0000 - val_fn: 23.0000 - val_accuracy: 0.7767 - val_precision: 0.0322 - val_recall: 0.6290 - val_auc: 0.7458\n",
      "Epoch 22/10000\n",
      "20/20 [==============================] - 4s 179ms/step - loss: 0.5838 - tp: 27425.0000 - fp: 11455.0000 - tn: 29523.0000 - fn: 13517.0000 - accuracy: 0.6952 - precision: 0.7054 - recall: 0.6699 - auc: 0.7616 - val_loss: 0.5685 - val_tp: 40.0000 - val_fp: 1176.0000 - val_tn: 4119.0000 - val_fn: 22.0000 - val_accuracy: 0.7764 - val_precision: 0.0329 - val_recall: 0.6452 - val_auc: 0.7466\n",
      "Epoch 23/10000\n",
      "20/20 [==============================] - 4s 197ms/step - loss: 0.5824 - tp: 27276.0000 - fp: 11135.0000 - tn: 29796.0000 - fn: 13713.0000 - accuracy: 0.6967 - precision: 0.7101 - recall: 0.6654 - auc: 0.7621 - val_loss: 0.5653 - val_tp: 38.0000 - val_fp: 1120.0000 - val_tn: 4175.0000 - val_fn: 24.0000 - val_accuracy: 0.7864 - val_precision: 0.0328 - val_recall: 0.6129 - val_auc: 0.7463\n",
      "Epoch 24/10000\n",
      "20/20 [==============================] - 4s 194ms/step - loss: 0.5817 - tp: 27552.0000 - fp: 11058.0000 - tn: 29774.0000 - fn: 13536.0000 - accuracy: 0.6998 - precision: 0.7136 - recall: 0.6706 - auc: 0.7639 - val_loss: 0.5657 - val_tp: 38.0000 - val_fp: 1151.0000 - val_tn: 4144.0000 - val_fn: 24.0000 - val_accuracy: 0.7807 - val_precision: 0.0320 - val_recall: 0.6129 - val_auc: 0.7449\n",
      "Epoch 25/10000\n",
      "20/20 [==============================] - 4s 192ms/step - loss: 0.5791 - tp: 27369.0000 - fp: 11047.0000 - tn: 29968.0000 - fn: 13536.0000 - accuracy: 0.6999 - precision: 0.7124 - recall: 0.6691 - auc: 0.7665 - val_loss: 0.5628 - val_tp: 37.0000 - val_fp: 1197.0000 - val_tn: 4098.0000 - val_fn: 25.0000 - val_accuracy: 0.7719 - val_precision: 0.0300 - val_recall: 0.5968 - val_auc: 0.7443\n",
      "Epoch 26/10000\n",
      "20/20 [==============================] - 4s 197ms/step - loss: 0.5762 - tp: 27583.0000 - fp: 10814.0000 - tn: 30057.0000 - fn: 13466.0000 - accuracy: 0.7036 - precision: 0.7184 - recall: 0.6720 - auc: 0.7693 - val_loss: 0.5626 - val_tp: 38.0000 - val_fp: 1208.0000 - val_tn: 4087.0000 - val_fn: 24.0000 - val_accuracy: 0.7700 - val_precision: 0.0305 - val_recall: 0.6129 - val_auc: 0.7437\n",
      "Epoch 27/10000\n",
      "20/20 [==============================] - 4s 197ms/step - loss: 0.5776 - tp: 27608.0000 - fp: 11145.0000 - tn: 29772.0000 - fn: 13395.0000 - accuracy: 0.7004 - precision: 0.7124 - recall: 0.6733 - auc: 0.7682 - val_loss: 0.5613 - val_tp: 39.0000 - val_fp: 1200.0000 - val_tn: 4095.0000 - val_fn: 23.0000 - val_accuracy: 0.7717 - val_precision: 0.0315 - val_recall: 0.6290 - val_auc: 0.7443\n",
      "Epoch 28/10000\n",
      "20/20 [==============================] - 4s 187ms/step - loss: 0.5751 - tp: 27734.0000 - fp: 10976.0000 - tn: 30030.0000 - fn: 13180.0000 - accuracy: 0.7051 - precision: 0.7165 - recall: 0.6779 - auc: 0.7712 - val_loss: 0.5574 - val_tp: 37.0000 - val_fp: 1189.0000 - val_tn: 4106.0000 - val_fn: 25.0000 - val_accuracy: 0.7734 - val_precision: 0.0302 - val_recall: 0.5968 - val_auc: 0.7436\n",
      "Epoch 29/10000\n",
      "20/20 [==============================] - 4s 191ms/step - loss: 0.5736 - tp: 27562.0000 - fp: 10936.0000 - tn: 30140.0000 - fn: 13282.0000 - accuracy: 0.7044 - precision: 0.7159 - recall: 0.6748 - auc: 0.7725 - val_loss: 0.5541 - val_tp: 36.0000 - val_fp: 1165.0000 - val_tn: 4130.0000 - val_fn: 26.0000 - val_accuracy: 0.7777 - val_precision: 0.0300 - val_recall: 0.5806 - val_auc: 0.7436\n",
      "Epoch 30/10000\n",
      "20/20 [==============================] - 4s 192ms/step - loss: 0.5706 - tp: 27645.0000 - fp: 10683.0000 - tn: 30247.0000 - fn: 13345.0000 - accuracy: 0.7067 - precision: 0.7213 - recall: 0.6744 - auc: 0.7758 - val_loss: 0.5542 - val_tp: 36.0000 - val_fp: 1162.0000 - val_tn: 4133.0000 - val_fn: 26.0000 - val_accuracy: 0.7782 - val_precision: 0.0301 - val_recall: 0.5806 - val_auc: 0.7440\n",
      "Epoch 31/10000\n",
      "20/20 [==============================] - 4s 188ms/step - loss: 0.5728 - tp: 27935.0000 - fp: 10977.0000 - tn: 29916.0000 - fn: 13092.0000 - accuracy: 0.7062 - precision: 0.7179 - recall: 0.6809 - auc: 0.7739 - val_loss: 0.5539 - val_tp: 36.0000 - val_fp: 1155.0000 - val_tn: 4140.0000 - val_fn: 26.0000 - val_accuracy: 0.7795 - val_precision: 0.0302 - val_recall: 0.5806 - val_auc: 0.7439\n",
      "Epoch 32/10000\n",
      "19/20 [===========================>..] - ETA: 0s - loss: 0.5703 - tp: 26605.0000 - fp: 10434.0000 - tn: 28537.0000 - fn: 12248.0000 - accuracy: 0.7085 - precision: 0.7183 - recall: 0.6848 - auc: 0.7764Restoring model weights from the end of the best epoch.\n",
      "20/20 [==============================] - 4s 199ms/step - loss: 0.5701 - tp: 28006.0000 - fp: 10999.0000 - tn: 30012.0000 - fn: 12903.0000 - accuracy: 0.7082 - precision: 0.7180 - recall: 0.6846 - auc: 0.7765 - val_loss: 0.5523 - val_tp: 35.0000 - val_fp: 1140.0000 - val_tn: 4155.0000 - val_fn: 27.0000 - val_accuracy: 0.7822 - val_precision: 0.0298 - val_recall: 0.5645 - val_auc: 0.7431\n",
      "Epoch 00032: early stopping\n"
     ]
    }
   ],
   "source": [
    "resampled_model = make_model()\n",
    "resampled_model.load_weights(initial_weights)\n",
    "\n",
    "# Reset the bias to zero, since this dataset is balanced.\n",
    "output_layer = resampled_model.layers[-1] \n",
    "output_layer.bias.assign([0])\n",
    "\n",
    "resampled_history = resampled_model.fit(\n",
    "    resampled_ds,\n",
    "    # These are not real epochs\n",
    "    steps_per_epoch = 20,\n",
    "    epochs=10*EPOCHS,\n",
    "    callbacks = [early_stopping],\n",
    "    validation_data=(val_ds))\n"
   ]
  },
  {
   "cell_type": "markdown",
   "metadata": {
    "colab_type": "text",
    "id": "Qq6qVE9l-RzT"
   },
   "source": [
    "## Re-check training history"
   ]
  },
  {
   "cell_type": "code",
   "execution_count": 158,
   "metadata": {
    "colab": {
     "base_uri": "https://localhost:8080/",
     "height": 610
    },
    "colab_type": "code",
    "executionInfo": {
     "elapsed": 1587,
     "status": "ok",
     "timestamp": 1587415811803,
     "user": {
      "displayName": "Juan Diego Pineda Jaramillo",
      "photoUrl": "https://lh3.googleusercontent.com/a-/AOh14GiWYv7duq_lZS9TY5-G5ClYSRrM1EIU3InpNXGOa0M=s64",
      "userId": "16360626039831995063"
     },
     "user_tz": 300
    },
    "id": "4y_vbdXq-RzU",
    "outputId": "f69502e0-010f-433b-9fcd-e803bea35058"
   },
   "outputs": [
    {
     "data": {
      "image/png": "[encoded data removed]",
      "text/plain": [
       "<Figure size 432x288 with 4 Axes>"
      ]
     },
     "metadata": {
      "needs_background": "light"
     },
     "output_type": "display_data"
    }
   ],
   "source": [
    "plot_metrics(resampled_history)\n"
   ]
  },
  {
   "cell_type": "markdown",
   "metadata": {
    "colab_type": "text",
    "id": "RH5k4ouQ-RzY"
   },
   "source": [
    "## Evaluate metrics"
   ]
  },
  {
   "cell_type": "code",
   "execution_count": 159,
   "metadata": {
    "colab": {},
    "colab_type": "code",
    "id": "0KZiSgSc-Rza"
   },
   "outputs": [],
   "source": [
    "train_predictions_resampled = resampled_model.predict(train_features, batch_size=BATCH_SIZE)\n",
    "test_predictions_resampled = resampled_model.predict(test_features, batch_size=BATCH_SIZE)\n"
   ]
  },
  {
   "cell_type": "code",
   "execution_count": 160,
   "metadata": {
    "colab": {
     "base_uri": "https://localhost:8080/",
     "height": 611
    },
    "colab_type": "code",
    "executionInfo": {
     "elapsed": 1642,
     "status": "ok",
     "timestamp": 1587415847208,
     "user": {
      "displayName": "Juan Diego Pineda Jaramillo",
      "photoUrl": "https://lh3.googleusercontent.com/a-/AOh14GiWYv7duq_lZS9TY5-G5ClYSRrM1EIU3InpNXGOa0M=s64",
      "userId": "16360626039831995063"
     },
     "user_tz": 300
    },
    "id": "99L2-pSf-Rze",
    "outputId": "e21ba81a-cdfa-4eb1-e3da-f79f0b6bac23"
   },
   "outputs": [
    {
     "name": "stdout",
     "output_type": "stream",
     "text": [
      "loss :  0.5618776455432568\n",
      "tp :  54.0\n",
      "fp :  1412.0\n",
      "tn :  5206.0\n",
      "fn :  24.0\n",
      "accuracy :  0.7855436\n",
      "precision :  0.036834925\n",
      "recall :  0.6923077\n",
      "auc :  0.8143795\n",
      "\n",
      "Injuries Detected (True Negatives):  5206\n",
      "Injuries Incorrectly Detected (False Positives):  1412\n",
      "Deaths Missed (False Negatives):  24\n",
      "Deaths Detected (True Positives):  54\n",
      "Total Victims:  78\n"
     ]
    },
    {
     "data": {
      "image/png": "[encoded data removed]",
      "text/plain": [
       "<Figure size 360x360 with 2 Axes>"
      ]
     },
     "metadata": {
      "needs_background": "light"
     },
     "output_type": "display_data"
    }
   ],
   "source": [
    "resampled_results = resampled_model.evaluate(test_features, test_labels,\n",
    "                                             batch_size=BATCH_SIZE, verbose=0)\n",
    "for name, value in zip(resampled_model.metrics_names, resampled_results):\n",
    "    print(name, ': ', value)\n",
    "print()\n",
    "\n",
    "plot_cm(test_labels, test_predictions_resampled)\n",
    "\n"
   ]
  },
  {
   "cell_type": "markdown",
   "metadata": {
    "colab_type": "text",
    "id": "klaIE2fO-Rzh"
   },
   "source": [
    "## Plot the ROC"
   ]
  },
  {
   "cell_type": "code",
   "execution_count": 161,
   "metadata": {
    "colab": {
     "base_uri": "https://localhost:8080/",
     "height": 623
    },
    "colab_type": "code",
    "executionInfo": {
     "elapsed": 1593,
     "status": "ok",
     "timestamp": 1587415856906,
     "user": {
      "displayName": "Juan Diego Pineda Jaramillo",
      "photoUrl": "https://lh3.googleusercontent.com/a-/AOh14GiWYv7duq_lZS9TY5-G5ClYSRrM1EIU3InpNXGOa0M=s64",
      "userId": "16360626039831995063"
     },
     "user_tz": 300
    },
    "id": "tElnLEsG-Rzi",
    "outputId": "0de409ab-0e8e-475b-b989-dd7aef18aadc"
   },
   "outputs": [
    {
     "data": {
      "text/plain": [
       "<matplotlib.legend.Legend at 0x7f0d45b23860>"
      ]
     },
     "execution_count": 161,
     "metadata": {},
     "output_type": "execute_result"
    },
    {
     "data": {
      "image/png": "[encoded data removed]",
      "text/plain": [
       "<Figure size 432x288 with 1 Axes>"
      ]
     },
     "metadata": {
      "needs_background": "light"
     },
     "output_type": "display_data"
    }
   ],
   "source": [
    "plot_roc(\"Train Baseline\", train_labels, train_predictions_baseline, color=colors[0])\n",
    "plot_roc(\"Test Baseline\", test_labels, test_predictions_baseline, color=colors[0], linestyle='--')\n",
    "\n",
    "plot_roc(\"Train Weighted\", train_labels, train_predictions_weighted, color=colors[1])\n",
    "plot_roc(\"Test Weighted\", test_labels, test_predictions_weighted, color=colors[1], linestyle='--')\n",
    "\n",
    "plot_roc(\"Train Resampled\", train_labels, train_predictions_resampled,  color=colors[2])\n",
    "plot_roc(\"Test Resampled\", test_labels, test_predictions_resampled,  color=colors[2], linestyle='--')\n",
    "plt.legend(loc='lower right')\n",
    "\n"
   ]
  },
  {
   "cell_type": "markdown",
   "metadata": {
    "colab_type": "text",
    "id": "huIDJoLjXgw7"
   },
   "source": [
    "## Saving the Model"
   ]
  },
  {
   "cell_type": "code",
   "execution_count": 163,
   "metadata": {
    "colab": {
     "base_uri": "https://localhost:8080/",
     "height": 34
    },
    "colab_type": "code",
    "executionInfo": {
     "elapsed": 699,
     "status": "ok",
     "timestamp": 1587417035119,
     "user": {
      "displayName": "Juan Diego Pineda Jaramillo",
      "photoUrl": "https://lh3.googleusercontent.com/a-/AOh14GiWYv7duq_lZS9TY5-G5ClYSRrM1EIU3InpNXGOa0M=s64",
      "userId": "16360626039831995063"
     },
     "user_tz": 300
    },
    "id": "MvlcBlyj-Rzo",
    "outputId": "731f7df1-37a5-4493-d335-53d7ccaaec23"
   },
   "outputs": [
    {
     "name": "stdout",
     "output_type": "stream",
     "text": [
      "Saved model to disk\n"
     ]
    }
   ],
   "source": [
    "# serialize model to JSON\n",
    "model_json_2 = resampled_model.to_json()\n",
    "with open(\"model.json_2\", \"w\") as json_file:\n",
    "    json_file.write(model_json_2)\n",
    "\n",
    "\n",
    "# serialize weights to HDF5\n",
    "resampled_model.save_weights(\"model_2.h5\")\n",
    "print(\"Saved model to disk\")"
   ]
  },
  {
   "cell_type": "code",
   "execution_count": null,
   "metadata": {
    "colab": {},
    "colab_type": "code",
    "id": "XD5lDT8XdZDy"
   },
   "outputs": [],
   "source": []
  },
  {
   "cell_type": "markdown",
   "metadata": {
    "colab_type": "text",
    "id": "nlPUe_SLdiEO"
   },
   "source": [
    "# Loading the model"
   ]
  },
  {
   "cell_type": "code",
   "execution_count": 164,
   "metadata": {},
   "outputs": [
    {
     "name": "stderr",
     "output_type": "stream",
     "text": [
      "Using TensorFlow backend.\n"
     ]
    }
   ],
   "source": [
    "import keras\n",
    "from keras.models import Sequential, model_from_json, load_model\n",
    "from keras.layers import Dense"
   ]
  },
  {
   "cell_type": "code",
   "execution_count": 165,
   "metadata": {
    "colab": {
     "base_uri": "https://localhost:8080/",
     "height": 383
    },
    "colab_type": "code",
    "executionInfo": {
     "elapsed": 884,
     "status": "error",
     "timestamp": 1587417696555,
     "user": {
      "displayName": "Juan Diego Pineda Jaramillo",
      "photoUrl": "https://lh3.googleusercontent.com/a-/AOh14GiWYv7duq_lZS9TY5-G5ClYSRrM1EIU3InpNXGOa0M=s64",
      "userId": "16360626039831995063"
     },
     "user_tz": 300
    },
    "id": "fVRosc4vdZAD",
    "outputId": "b010198f-8996-4d73-eeae-ffa04e8bdc25"
   },
   "outputs": [
    {
     "name": "stdout",
     "output_type": "stream",
     "text": [
      "Loaded model from disk\n"
     ]
    }
   ],
   "source": [
    "# load json and create model\n",
    "json_file = open('model.json_2', 'r')\n",
    "loaded_model_json = json_file.read()\n",
    "json_file.close()\n",
    "loaded_model = tf.keras.models.model_from_json(loaded_model_json)\n",
    "\n",
    "# load weights into new model\n",
    "loaded_model.load_weights(\"model_2.h5\")\n",
    "print(\"Loaded model from disk\")\n",
    " \n"
   ]
  },
  {
   "cell_type": "code",
   "execution_count": null,
   "metadata": {},
   "outputs": [],
   "source": []
  },
  {
   "cell_type": "markdown",
   "metadata": {
    "colab_type": "text",
    "id": "sZYwt99cdnGZ"
   },
   "source": [
    "# Evaluating new data with the loaded model"
   ]
  },
  {
   "cell_type": "code",
   "execution_count": 166,
   "metadata": {
    "colab": {},
    "colab_type": "code",
    "id": "BcuXrdwXdfhd"
   },
   "outputs": [
    {
     "name": "stdout",
     "output_type": "stream",
     "text": [
      "accuracy: 78.55%\n",
      "loss :  0.5618776455432568\n",
      "accuracy :  0.7855436\n",
      "\n",
      "Injuries Detected (True Negatives):  5206\n",
      "Injuries Incorrectly Detected (False Positives):  1412\n",
      "Deaths Missed (False Negatives):  24\n",
      "Deaths Detected (True Positives):  54\n",
      "Total Victims:  78\n"
     ]
    },
    {
     "data": {
      "image/png": "[encoded data removed]",
      "text/plain": [
       "<Figure size 360x360 with 2 Axes>"
      ]
     },
     "metadata": {
      "needs_background": "light"
     },
     "output_type": "display_data"
    }
   ],
   "source": [
    "# evaluate loaded model on test data\n",
    "loaded_model.compile(loss='binary_crossentropy', optimizer='rmsprop', metrics=['accuracy'])\n",
    "score = loaded_model.evaluate(test_features, test_labels, verbose=0, batch_size=BATCH_SIZE)\n",
    "print(\"%s: %.2f%%\" % (loaded_model.metrics_names[1], score[1]*100))\n",
    "\n",
    "for name, value in zip(loaded_model.metrics_names, score):\n",
    "    print(name, ': ', value)\n",
    "print()\n",
    "\n",
    "plot_cm(test_labels, test_predictions_resampled)\n"
   ]
  },
  {
   "cell_type": "code",
   "execution_count": null,
   "metadata": {
    "colab": {},
    "colab_type": "code",
    "id": "GUnGUtRiX1F2"
   },
   "outputs": [],
   "source": []
  }
 ],
 "metadata": {
  "colab": {
   "collapsed_sections": [],
   "name": "tensorflow_runover.ipynb",
   "provenance": []
  },
  "kernelspec": {
   "display_name": "Python 3",
   "language": "python",
   "name": "python3"
  },
  "language_info": {
   "codemirror_mode": {
    "name": "ipython",
    "version": 3
   },
   "file_extension": ".py",
   "mimetype": "text/x-python",
   "name": "python",
   "nbconvert_exporter": "python",
   "pygments_lexer": "ipython3",
   "version": "3.7.3"
  }
 },
 "nbformat": 4,
 "nbformat_minor": 4
}
